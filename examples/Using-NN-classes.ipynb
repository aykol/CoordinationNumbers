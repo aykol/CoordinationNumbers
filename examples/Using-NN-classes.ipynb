{
 "cells": [
  {
   "cell_type": "markdown",
   "metadata": {},
   "source": [
    "# Using pymatgen NearNeighbor algorithms\n",
    "\n",
    "This notebook demonstrates how to use the pymatgen \"NearNeighbor\" algorithms for determining the bonding and coordination numbers of sites in a structure.  \n",
    "\n",
    "*Written using:*\n",
    "- pymatgen==2020.4.29\n",
    "\n",
    "---\n",
    "\n",
    "First, lets initialize the near neighbor methods we are interested in."
   ]
  },
  {
   "cell_type": "code",
   "execution_count": null,
   "metadata": {},
   "outputs": [],
   "source": [
    "from pymatgen.analysis.local_env import BrunnerNN_reciprocal, EconNN, JmolNN, \\\n",
    "                                        MinimumDistanceNN, MinimumOKeeffeNN, MinimumVIRENN, \\\n",
    "                                        VoronoiNN, CrystalNN"
   ]
  },
  {
   "cell_type": "markdown",
   "metadata": {},
   "source": [
    "Next, load a pymatgen structure from a CIF file, in this example we use the rutile TiO$_2$ structure."
   ]
  },
  {
   "cell_type": "code",
   "execution_count": null,
   "metadata": {},
   "outputs": [],
   "source": [
    "from pymatgen import Structure\n",
    "\n",
    "structure = Structure.from_file(\"TiO2.cif\")"
   ]
  },
  {
   "cell_type": "markdown",
   "metadata": {},
   "source": [
    "All near neighbor methods have a function `get_bonded_structure()`, which returns a `StructureGraph` object. The structure graph can be used to assess the coordination number of a site. For example, let's get the structure graph computed with the `CrystalNN` algorithm:"
   ]
  },
  {
   "cell_type": "code",
   "execution_count": 3,
   "metadata": {},
   "outputs": [
    {
     "name": "stderr",
     "output_type": "stream",
     "text": [
      "/Users/alex/dev/src/pymatgen/pymatgen/analysis/local_env.py:3955: UserWarning: No oxidation states specified on sites! For better results, set the site oxidation states in the structure.\n",
      "  warnings.warn(\n",
      "/Users/alex/dev/src/pymatgen/pymatgen/analysis/local_env.py:3749: UserWarning: CrystalNN: cannot locate an appropriate radius, covalent or atomic radii will be used, this can lead to non-optimal results.\n",
      "  warnings.warn(\n"
     ]
    }
   ],
   "source": [
    "cnn = CrystalNN()\n",
    "\n",
    "bonded_structure = cnn.get_bonded_structure(structure)"
   ]
  },
  {
   "cell_type": "markdown",
   "metadata": {},
   "source": [
    "The coordination number of a site can then be determined using the `StructureGraph.get_coordination_of_site()` function:"
   ]
  },
  {
   "cell_type": "code",
   "execution_count": 4,
   "metadata": {},
   "outputs": [
    {
     "data": {
      "text/plain": [
       "6"
      ]
     },
     "execution_count": 4,
     "metadata": {},
     "output_type": "execute_result"
    }
   ],
   "source": [
    "bonded_structure.get_coordination_of_site(0)"
   ]
  },
  {
   "cell_type": "markdown",
   "metadata": {},
   "source": [
    "To compare how different algorithms perform, we can loop through all near neighbor methods and print the coordination number of each site in the structure."
   ]
  },
  {
   "cell_type": "code",
   "execution_count": 5,
   "metadata": {},
   "outputs": [
    {
     "name": "stdout",
     "output_type": "stream",
     "text": [
      "BrunnerNN_reciprocal\n",
      "\tTi   0.0000 0.5000 0.2500: CN = 6\n",
      "\tTi   0.0000 0.0000 0.0000: CN = 6\n",
      "\tTi   0.5000 0.0000 0.7500: CN = 6\n",
      "\tTi   0.5000 0.5000 0.5000: CN = 6\n",
      "\tO    0.0000 0.5000 0.4581: CN = 3\n",
      "\tO    0.0000 0.0000 0.7919: CN = 3\n",
      "\tO    0.0000 0.5000 0.0419: CN = 3\n",
      "\tO    0.0000 0.0000 0.2081: CN = 3\n",
      "\tO    0.5000 0.0000 0.9581: CN = 3\n",
      "\tO    0.5000 0.5000 0.2919: CN = 3\n",
      "\tO    0.5000 0.0000 0.5419: CN = 3\n",
      "\tO    0.5000 0.5000 0.7081: CN = 3\n",
      "\n",
      "\n",
      "EconNN\n",
      "\tTi   0.0000 0.5000 0.2500: CN = 6\n",
      "\tTi   0.0000 0.0000 0.0000: CN = 6\n",
      "\tTi   0.5000 0.0000 0.7500: CN = 6\n",
      "\tTi   0.5000 0.5000 0.5000: CN = 6\n",
      "\tO    0.0000 0.5000 0.4581: CN = 3\n",
      "\tO    0.0000 0.0000 0.7919: CN = 3\n",
      "\tO    0.0000 0.5000 0.0419: CN = 3\n",
      "\tO    0.0000 0.0000 0.2081: CN = 3\n",
      "\tO    0.5000 0.0000 0.9581: CN = 3\n",
      "\tO    0.5000 0.5000 0.2919: CN = 3\n",
      "\tO    0.5000 0.0000 0.5419: CN = 3\n",
      "\tO    0.5000 0.5000 0.7081: CN = 3\n",
      "\n",
      "\n",
      "JmolNN\n",
      "\tTi   0.0000 0.5000 0.2500: CN = 10\n",
      "\tTi   0.0000 0.0000 0.0000: CN = 10\n",
      "\tTi   0.5000 0.0000 0.7500: CN = 10\n",
      "\tTi   0.5000 0.5000 0.5000: CN = 10\n",
      "\tO    0.0000 0.5000 0.4581: CN = 3\n",
      "\tO    0.0000 0.0000 0.7919: CN = 3\n",
      "\tO    0.0000 0.5000 0.0419: CN = 3\n",
      "\tO    0.0000 0.0000 0.2081: CN = 3\n",
      "\tO    0.5000 0.0000 0.9581: CN = 3\n",
      "\tO    0.5000 0.5000 0.2919: CN = 3\n",
      "\tO    0.5000 0.0000 0.5419: CN = 3\n",
      "\tO    0.5000 0.5000 0.7081: CN = 3\n",
      "\n",
      "\n",
      "CrystalNN\n",
      "\tTi   0.0000 0.5000 0.2500: CN = 6\n",
      "\tTi   0.0000 0.0000 0.0000: CN = 6\n",
      "\tTi   0.5000 0.0000 0.7500: CN = 6\n",
      "\tTi   0.5000 0.5000 0.5000: CN = 6\n",
      "\tO    0.0000 0.5000 0.4581: CN = 3\n",
      "\tO    0.0000 0.0000 0.7919: CN = 3\n",
      "\tO    0.0000 0.5000 0.0419: CN = 3\n",
      "\tO    0.0000 0.0000 0.2081: CN = 3\n",
      "\tO    0.5000 0.0000 0.9581: CN = 3\n",
      "\tO    0.5000 0.5000 0.2919: CN = 3\n",
      "\tO    0.5000 0.0000 0.5419: CN = 3\n",
      "\tO    0.5000 0.5000 0.7081: CN = 3\n",
      "\n",
      "\n",
      "VoronoiNN\n",
      "\tTi   0.0000 0.5000 0.2500: CN = 6\n",
      "\tTi   0.0000 0.0000 0.0000: CN = 6\n",
      "\tTi   0.5000 0.0000 0.7500: CN = 6\n",
      "\tTi   0.5000 0.5000 0.5000: CN = 6\n",
      "\tO    0.0000 0.5000 0.4581: CN = 3\n",
      "\tO    0.0000 0.0000 0.7919: CN = 3\n",
      "\tO    0.0000 0.5000 0.0419: CN = 3\n",
      "\tO    0.0000 0.0000 0.2081: CN = 3\n",
      "\tO    0.5000 0.0000 0.9581: CN = 3\n",
      "\tO    0.5000 0.5000 0.2919: CN = 3\n",
      "\tO    0.5000 0.0000 0.5419: CN = 3\n",
      "\tO    0.5000 0.5000 0.7081: CN = 3\n",
      "\n",
      "\n",
      "MinimumDistanceNN\n",
      "\tTi   0.0000 0.5000 0.2500: CN = 6\n",
      "\tTi   0.0000 0.0000 0.0000: CN = 6\n",
      "\tTi   0.5000 0.0000 0.7500: CN = 6\n",
      "\tTi   0.5000 0.5000 0.5000: CN = 6\n",
      "\tO    0.0000 0.5000 0.4581: CN = 3\n",
      "\tO    0.0000 0.0000 0.7919: CN = 3\n",
      "\tO    0.0000 0.5000 0.0419: CN = 3\n",
      "\tO    0.0000 0.0000 0.2081: CN = 3\n",
      "\tO    0.5000 0.0000 0.9581: CN = 3\n",
      "\tO    0.5000 0.5000 0.2919: CN = 3\n",
      "\tO    0.5000 0.0000 0.5419: CN = 3\n",
      "\tO    0.5000 0.5000 0.7081: CN = 3\n",
      "\n",
      "\n",
      "MinimumOKeeffeNN\n",
      "\tTi   0.0000 0.5000 0.2500: CN = 6\n",
      "\tTi   0.0000 0.0000 0.0000: CN = 6\n",
      "\tTi   0.5000 0.0000 0.7500: CN = 6\n",
      "\tTi   0.5000 0.5000 0.5000: CN = 6\n",
      "\tO    0.0000 0.5000 0.4581: CN = 3\n",
      "\tO    0.0000 0.0000 0.7919: CN = 3\n",
      "\tO    0.0000 0.5000 0.0419: CN = 3\n",
      "\tO    0.0000 0.0000 0.2081: CN = 3\n",
      "\tO    0.5000 0.0000 0.9581: CN = 3\n",
      "\tO    0.5000 0.5000 0.2919: CN = 3\n",
      "\tO    0.5000 0.0000 0.5419: CN = 3\n",
      "\tO    0.5000 0.5000 0.7081: CN = 3\n",
      "\n",
      "\n",
      "MinimumVIRENN\n",
      "\tTi   0.0000 0.5000 0.2500: CN = 6\n",
      "\tTi   0.0000 0.0000 0.0000: CN = 6\n",
      "\tTi   0.5000 0.0000 0.7500: CN = 6\n",
      "\tTi   0.5000 0.5000 0.5000: CN = 6\n",
      "\tO    0.0000 0.5000 0.4581: CN = 5\n",
      "\tO    0.0000 0.0000 0.7919: CN = 5\n",
      "\tO    0.0000 0.5000 0.0419: CN = 5\n",
      "\tO    0.0000 0.0000 0.2081: CN = 5\n",
      "\tO    0.5000 0.0000 0.9581: CN = 5\n",
      "\tO    0.5000 0.5000 0.2919: CN = 5\n",
      "\tO    0.5000 0.0000 0.5419: CN = 5\n",
      "\tO    0.5000 0.5000 0.7081: CN = 5\n",
      "\n",
      "\n"
     ]
    }
   ],
   "source": [
    "nn_methods = [\n",
    "    BrunnerNN_reciprocal(), EconNN(tol=0.5), JmolNN(), CrystalNN(), VoronoiNN(tol=0.5),\n",
    "    MinimumDistanceNN(), MinimumOKeeffeNN(), MinimumVIRENN()\n",
    "]\n",
    "\n",
    "for method in nn_methods:\n",
    "    print(method.__class__.__name__)\n",
    "    \n",
    "    bonded_structure = method.get_bonded_structure(structure)\n",
    "    \n",
    "    for i, site in enumerate(structure):\n",
    "        cn = bonded_structure.get_coordination_of_site(i)\n",
    "        element = structure[i].specie.name\n",
    "        coords = structure[i].frac_coords\n",
    "        coords_str = \" \".join(map(\"{:5.4f}\".format, coords))\n",
    "        \n",
    "        print(\"\\t{:4s} {}: CN = {}\".format(element, coords_str, cn))\n",
    "    \n",
    "    print(\"\\n\")"
   ]
  }
 ],
 "metadata": {
  "kernelspec": {
   "display_name": "Python 3",
   "language": "python",
   "name": "python3"
  },
  "language_info": {
   "codemirror_mode": {
    "name": "ipython",
    "version": 3
   },
   "file_extension": ".py",
   "mimetype": "text/x-python",
   "name": "python",
   "nbconvert_exporter": "python",
   "pygments_lexer": "ipython3",
   "version": "3.8.1"
  }
 },
 "nbformat": 4,
 "nbformat_minor": 4
}

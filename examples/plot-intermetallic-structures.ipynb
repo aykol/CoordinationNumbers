{
 "cells": [
  {
   "cell_type": "markdown",
   "metadata": {},
   "source": [
    "# MaterialsCoord benchmarking – intermetallics materials scores\n",
    "\n",
    "Benchmark and plot the results of the near neighbor algorithms on intermetallic structures.\n",
    "\n",
    "*Written using:*\n",
    "- MaterialsCoord==0.2.0\n",
    "\n",
    "*Authors: Hillary Pan, Alex Ganose (08/07/20)*\n",
    "\n",
    "---\n",
    "\n",
    "First, lets initialize the near neighbor methods we are interested in."
   ]
  },
  {
   "cell_type": "code",
   "execution_count": 1,
   "metadata": {},
   "outputs": [],
   "source": [
    "from pymatgen.analysis.local_env import BrunnerNN_reciprocal, EconNN, JmolNN, \\\n",
    "                                        MinimumDistanceNN, MinimumOKeeffeNN, MinimumVIRENN, \\\n",
    "                                        VoronoiNN, CrystalNN\n",
    "\n",
    "nn_methods = [\n",
    "    MinimumDistanceNN(),  MinimumOKeeffeNN(), MinimumVIRENN(), JmolNN(), \n",
    "    EconNN(tol=0.5), BrunnerNN_reciprocal(), VoronoiNN(tol=0.5), CrystalNN(), CrystalNN(x_diff_weight=0)\n",
    "]"
   ]
  },
  {
   "cell_type": "markdown",
   "metadata": {},
   "source": [
    "Next, import the benchmark and choose the elemental structure set."
   ]
  },
  {
   "cell_type": "code",
   "execution_count": null,
   "metadata": {},
   "outputs": [],
   "source": [
    "from materialscoord.core import Benchmark\n",
    "\n",
    "structure_groups = [\"intermetallics\"]\n",
    "\n",
    "bm = Benchmark.from_structure_group(structure_groups)"
   ]
  },
  {
   "cell_type": "markdown",
   "metadata": {},
   "source": [
    "Calculate the benchmark scores for each algorithm."
   ]
  },
  {
   "cell_type": "code",
   "execution_count": 14,
   "metadata": {},
   "outputs": [
    {
     "data": {
      "text/html": [
       "<div>\n",
       "<style scoped>\n",
       "    .dataframe tbody tr th:only-of-type {\n",
       "        vertical-align: middle;\n",
       "    }\n",
       "\n",
       "    .dataframe tbody tr th {\n",
       "        vertical-align: top;\n",
       "    }\n",
       "\n",
       "    .dataframe thead th {\n",
       "        text-align: right;\n",
       "    }\n",
       "</style>\n",
       "<table border=\"1\" class=\"dataframe\">\n",
       "  <thead>\n",
       "    <tr style=\"text-align: right;\">\n",
       "      <th></th>\n",
       "      <th>MinimumDistanceNN(0)0</th>\n",
       "      <th>MinimumDistanceNN(0)1</th>\n",
       "      <th>MinimumDistanceNN(0)2</th>\n",
       "      <th>MinimumDistanceNN(0)3</th>\n",
       "      <th>MinimumDistanceNN(0)4</th>\n",
       "      <th>MinimumOKeeffeNN(0)0</th>\n",
       "      <th>MinimumOKeeffeNN(0)1</th>\n",
       "      <th>MinimumOKeeffeNN(0)2</th>\n",
       "      <th>MinimumOKeeffeNN(0)3</th>\n",
       "      <th>MinimumOKeeffeNN(0)4</th>\n",
       "      <th>...</th>\n",
       "      <th>CrystalNN(0)0</th>\n",
       "      <th>CrystalNN(0)1</th>\n",
       "      <th>CrystalNN(0)2</th>\n",
       "      <th>CrystalNN(0)3</th>\n",
       "      <th>CrystalNN(0)4</th>\n",
       "      <th>CrystalNN(1)0</th>\n",
       "      <th>CrystalNN(1)1</th>\n",
       "      <th>CrystalNN(1)2</th>\n",
       "      <th>CrystalNN(1)3</th>\n",
       "      <th>CrystalNN(1)4</th>\n",
       "    </tr>\n",
       "  </thead>\n",
       "  <tbody>\n",
       "    <tr>\n",
       "      <th>CaCu5_619215</th>\n",
       "      <td>{'Cu': 6}</td>\n",
       "      <td>{'Cu': 6, 'Ca': 3}</td>\n",
       "      <td>{'Cu': 8}</td>\n",
       "      <td>None</td>\n",
       "      <td>None</td>\n",
       "      <td>{'Cu': 18, 'Ca': 2}</td>\n",
       "      <td>{'Cu': 6, 'Ca': 3}</td>\n",
       "      <td>{'Cu': 8, 'Ca': 4}</td>\n",
       "      <td>None</td>\n",
       "      <td>None</td>\n",
       "      <td>...</td>\n",
       "      <td>{'Cu': 18}</td>\n",
       "      <td>{'Cu': 6, 'Ca': 3}</td>\n",
       "      <td>{'Cu': 8, 'Ca': 4}</td>\n",
       "      <td>None</td>\n",
       "      <td>None</td>\n",
       "      <td>{'Cu': 18}</td>\n",
       "      <td>{'Cu': 9, 'Ca': 3}</td>\n",
       "      <td>{'Cu': 8, 'Ca': 4}</td>\n",
       "      <td>None</td>\n",
       "      <td>None</td>\n",
       "    </tr>\n",
       "    <tr>\n",
       "      <th>Mn5Si3_166772</th>\n",
       "      <td>{'Mn': 2, 'Si': 6}</td>\n",
       "      <td>{'Si': 3}</td>\n",
       "      <td>{'Mn': 7}</td>\n",
       "      <td>None</td>\n",
       "      <td>None</td>\n",
       "      <td>{'Mn': 2, 'Si': 6}</td>\n",
       "      <td>{'Si': 3}</td>\n",
       "      <td>{'Mn': 7}</td>\n",
       "      <td>None</td>\n",
       "      <td>None</td>\n",
       "      <td>...</td>\n",
       "      <td>{'Si': 6}</td>\n",
       "      <td>{'Si': 5}</td>\n",
       "      <td>{'Mn': 9}</td>\n",
       "      <td>None</td>\n",
       "      <td>None</td>\n",
       "      <td>{'Mn': 8, 'Si': 6}</td>\n",
       "      <td>{'Si': 5, 'Mn': 10}</td>\n",
       "      <td>{'Mn': 9, 'Si': 2}</td>\n",
       "      <td>None</td>\n",
       "      <td>None</td>\n",
       "    </tr>\n",
       "    <tr>\n",
       "      <th>MgZn2_46006</th>\n",
       "      <td>{'Zn': 12, 'Mg': 4}</td>\n",
       "      <td>{'Zn': 6, 'Mg': 6}</td>\n",
       "      <td>{'Zn': 6, 'Mg': 6}</td>\n",
       "      <td>None</td>\n",
       "      <td>None</td>\n",
       "      <td>{'Zn': 12, 'Mg': 4}</td>\n",
       "      <td>{'Zn': 6, 'Mg': 6}</td>\n",
       "      <td>{'Zn': 6, 'Mg': 6}</td>\n",
       "      <td>None</td>\n",
       "      <td>None</td>\n",
       "      <td>...</td>\n",
       "      <td>{'Zn': 12, 'Mg': 4}</td>\n",
       "      <td>{'Zn': 6, 'Mg': 6}</td>\n",
       "      <td>{'Zn': 6, 'Mg': 6}</td>\n",
       "      <td>None</td>\n",
       "      <td>None</td>\n",
       "      <td>{'Zn': 12, 'Mg': 4}</td>\n",
       "      <td>{'Zn': 6, 'Mg': 6}</td>\n",
       "      <td>{'Zn': 6, 'Mg': 6}</td>\n",
       "      <td>None</td>\n",
       "      <td>None</td>\n",
       "    </tr>\n",
       "    <tr>\n",
       "      <th>TiNiSi_18188</th>\n",
       "      <td>{'Si': 5, 'Ni': 3}</td>\n",
       "      <td>{'Ni': 4, 'Ti': 5}</td>\n",
       "      <td>{'Si': 4, 'Ti': 3}</td>\n",
       "      <td>None</td>\n",
       "      <td>None</td>\n",
       "      <td>{'Si': 5}</td>\n",
       "      <td>{'Ni': 4, 'Ti': 5}</td>\n",
       "      <td>{'Si': 4}</td>\n",
       "      <td>None</td>\n",
       "      <td>None</td>\n",
       "      <td>...</td>\n",
       "      <td>{'Si': 5, 'Ni': 6}</td>\n",
       "      <td>{'Ni': 4, 'Ti': 5}</td>\n",
       "      <td>{'Si': 4, 'Ni': 2, 'Ti': 6}</td>\n",
       "      <td>None</td>\n",
       "      <td>None</td>\n",
       "      <td>{'Si': 5, 'Ni': 6, 'Ti': 4}</td>\n",
       "      <td>{'Ni': 4, 'Ti': 5}</td>\n",
       "      <td>{'Si': 4, 'Ni': 2, 'Ti': 6}</td>\n",
       "      <td>None</td>\n",
       "      <td>None</td>\n",
       "    </tr>\n",
       "    <tr>\n",
       "      <th>ZrNiAl_152131</th>\n",
       "      <td>{'Ni': 5, 'Al': 2}</td>\n",
       "      <td>{'Ni': 4, 'Zr': 2}</td>\n",
       "      <td>{'Al': 6, 'Zr': 3}</td>\n",
       "      <td>{'Al': 3, 'Zr': 6}</td>\n",
       "      <td>None</td>\n",
       "      <td>{'Ni': 5, 'Al': 6, 'Zr': 2}</td>\n",
       "      <td>{'Ni': 4, 'Zr': 6}</td>\n",
       "      <td>{'Al': 6, 'Zr': 3}</td>\n",
       "      <td>{'Al': 3, 'Zr': 6}</td>\n",
       "      <td>None</td>\n",
       "      <td>...</td>\n",
       "      <td>{'Ni': 5, 'Al': 6}</td>\n",
       "      <td>{'Ni': 4, 'Zr': 6}</td>\n",
       "      <td>{'Al': 6, 'Zr': 3}</td>\n",
       "      <td>{'Al': 3, 'Zr': 6}</td>\n",
       "      <td>None</td>\n",
       "      <td>{'Ni': 5, 'Al': 6}</td>\n",
       "      <td>{'Ni': 4, 'Zr': 6, 'Al': 2}</td>\n",
       "      <td>{'Al': 6, 'Zr': 3}</td>\n",
       "      <td>{'Al': 3, 'Zr': 6}</td>\n",
       "      <td>None</td>\n",
       "    </tr>\n",
       "    <tr>\n",
       "      <th>Mo2FeB2_5431</th>\n",
       "      <td>{'B': 4}</td>\n",
       "      <td>{'B': 1, 'Fe': 2, 'Mo': 6}</td>\n",
       "      <td>{'B': 6}</td>\n",
       "      <td>None</td>\n",
       "      <td>None</td>\n",
       "      <td>{'B': 4, 'Mo': 8}</td>\n",
       "      <td>{'B': 1, 'Fe': 2, 'Mo': 6}</td>\n",
       "      <td>{'B': 6, 'Fe': 4, 'Mo': 5}</td>\n",
       "      <td>None</td>\n",
       "      <td>None</td>\n",
       "      <td>...</td>\n",
       "      <td>{'B': 4, 'Mo': 8}</td>\n",
       "      <td>{'B': 1, 'Fe': 2, 'Mo': 6}</td>\n",
       "      <td>{'B': 6, 'Fe': 4}</td>\n",
       "      <td>None</td>\n",
       "      <td>None</td>\n",
       "      <td>{'B': 4, 'Mo': 8}</td>\n",
       "      <td>{'B': 1, 'Fe': 2, 'Mo': 6}</td>\n",
       "      <td>{'B': 6, 'Fe': 4}</td>\n",
       "      <td>None</td>\n",
       "      <td>None</td>\n",
       "    </tr>\n",
       "    <tr>\n",
       "      <th>KHg2_104303</th>\n",
       "      <td>{'Hg': 12}</td>\n",
       "      <td>{'Hg': 4, 'K': 6}</td>\n",
       "      <td>None</td>\n",
       "      <td>None</td>\n",
       "      <td>None</td>\n",
       "      <td>{'Hg': 12, 'K': 4}</td>\n",
       "      <td>{'Hg': 4, 'K': 6}</td>\n",
       "      <td>None</td>\n",
       "      <td>None</td>\n",
       "      <td>None</td>\n",
       "      <td>...</td>\n",
       "      <td>{'Hg': 12}</td>\n",
       "      <td>{'Hg': 4, 'K': 6}</td>\n",
       "      <td>None</td>\n",
       "      <td>None</td>\n",
       "      <td>None</td>\n",
       "      <td>{'Hg': 12, 'K': 4}</td>\n",
       "      <td>{'Hg': 4, 'K': 6}</td>\n",
       "      <td>None</td>\n",
       "      <td>None</td>\n",
       "      <td>None</td>\n",
       "    </tr>\n",
       "    <tr>\n",
       "      <th>MgCu2_46007</th>\n",
       "      <td>{'Cu': 12, 'Mg': 4}</td>\n",
       "      <td>{'Cu': 6, 'Mg': 6}</td>\n",
       "      <td>None</td>\n",
       "      <td>None</td>\n",
       "      <td>None</td>\n",
       "      <td>{'Cu': 12, 'Mg': 4}</td>\n",
       "      <td>{'Cu': 6, 'Mg': 6}</td>\n",
       "      <td>None</td>\n",
       "      <td>None</td>\n",
       "      <td>None</td>\n",
       "      <td>...</td>\n",
       "      <td>{'Cu': 12}</td>\n",
       "      <td>{'Cu': 6, 'Mg': 6}</td>\n",
       "      <td>None</td>\n",
       "      <td>None</td>\n",
       "      <td>None</td>\n",
       "      <td>{'Cu': 12, 'Mg': 4}</td>\n",
       "      <td>{'Cu': 6, 'Mg': 6}</td>\n",
       "      <td>None</td>\n",
       "      <td>None</td>\n",
       "      <td>None</td>\n",
       "    </tr>\n",
       "    <tr>\n",
       "      <th>ThMn12_104986</th>\n",
       "      <td>{'Mn': 20}</td>\n",
       "      <td>{'Mn': 10, 'Th': 2}</td>\n",
       "      <td>{'Mn': 9, 'Th': 1}</td>\n",
       "      <td>{'Mn': 10, 'Th': 2}</td>\n",
       "      <td>None</td>\n",
       "      <td>{'Mn': 20}</td>\n",
       "      <td>{'Mn': 10, 'Th': 2}</td>\n",
       "      <td>{'Mn': 9, 'Th': 1}</td>\n",
       "      <td>{'Mn': 10, 'Th': 2}</td>\n",
       "      <td>None</td>\n",
       "      <td>...</td>\n",
       "      <td>{'Mn': 20}</td>\n",
       "      <td>{'Mn': 10, 'Th': 2}</td>\n",
       "      <td>{'Mn': 13, 'Th': 1}</td>\n",
       "      <td>{'Mn': 10, 'Th': 2}</td>\n",
       "      <td>None</td>\n",
       "      <td>{'Mn': 20}</td>\n",
       "      <td>{'Mn': 10, 'Th': 2}</td>\n",
       "      <td>{'Mn': 13, 'Th': 1}</td>\n",
       "      <td>{'Mn': 10, 'Th': 2}</td>\n",
       "      <td>None</td>\n",
       "    </tr>\n",
       "    <tr>\n",
       "      <th>AgMgSb_259186</th>\n",
       "      <td>{'Ag': 4}</td>\n",
       "      <td>{'Mg': 4, 'Sb': 4}</td>\n",
       "      <td>{'Ag': 4}</td>\n",
       "      <td>None</td>\n",
       "      <td>None</td>\n",
       "      <td>{'Ag': 4, 'Sb': 6}</td>\n",
       "      <td>{'Mg': 4, 'Sb': 4}</td>\n",
       "      <td>{'Ag': 4, 'Mg': 6}</td>\n",
       "      <td>None</td>\n",
       "      <td>None</td>\n",
       "      <td>...</td>\n",
       "      <td>{'Ag': 4, 'Sb': 6}</td>\n",
       "      <td>{'Mg': 4, 'Sb': 4}</td>\n",
       "      <td>{'Ag': 4, 'Mg': 6}</td>\n",
       "      <td>None</td>\n",
       "      <td>None</td>\n",
       "      <td>{'Ag': 4, 'Sb': 6}</td>\n",
       "      <td>{'Mg': 4, 'Sb': 4}</td>\n",
       "      <td>{'Ag': 4, 'Mg': 6}</td>\n",
       "      <td>None</td>\n",
       "      <td>None</td>\n",
       "    </tr>\n",
       "    <tr>\n",
       "      <th>AlB2_606058</th>\n",
       "      <td>{'B': 12}</td>\n",
       "      <td>{'B': 3, 'Al': 6}</td>\n",
       "      <td>None</td>\n",
       "      <td>None</td>\n",
       "      <td>None</td>\n",
       "      <td>{'B': 12, 'Al': 6}</td>\n",
       "      <td>{'B': 3, 'Al': 6}</td>\n",
       "      <td>None</td>\n",
       "      <td>None</td>\n",
       "      <td>None</td>\n",
       "      <td>...</td>\n",
       "      <td>{'B': 12}</td>\n",
       "      <td>{'B': 3, 'Al': 6}</td>\n",
       "      <td>None</td>\n",
       "      <td>None</td>\n",
       "      <td>None</td>\n",
       "      <td>{'B': 12}</td>\n",
       "      <td>{'B': 3, 'Al': 6}</td>\n",
       "      <td>None</td>\n",
       "      <td>None</td>\n",
       "      <td>None</td>\n",
       "    </tr>\n",
       "    <tr>\n",
       "      <th>CeAl2Ga2_606460</th>\n",
       "      <td>{'Ga': 8, 'Al': 8}</td>\n",
       "      <td>{'Ga': 4, 'Ce': 4}</td>\n",
       "      <td>{'Al': 4, 'Ga': 1, 'Ce': 4}</td>\n",
       "      <td>None</td>\n",
       "      <td>None</td>\n",
       "      <td>{'Ga': 8, 'Al': 8, 'Ce': 4}</td>\n",
       "      <td>{'Ga': 4, 'Ce': 4}</td>\n",
       "      <td>{'Al': 4, 'Ga': 1, 'Ce': 4}</td>\n",
       "      <td>None</td>\n",
       "      <td>None</td>\n",
       "      <td>...</td>\n",
       "      <td>{'Ga': 8, 'Al': 8}</td>\n",
       "      <td>{'Ga': 4, 'Ce': 4}</td>\n",
       "      <td>{'Al': 4, 'Ga': 1, 'Ce': 4}</td>\n",
       "      <td>None</td>\n",
       "      <td>None</td>\n",
       "      <td>{'Ga': 8, 'Al': 8}</td>\n",
       "      <td>{'Ga': 4, 'Ce': 4}</td>\n",
       "      <td>{'Al': 4, 'Ga': 1, 'Ce': 4}</td>\n",
       "      <td>None</td>\n",
       "      <td>None</td>\n",
       "    </tr>\n",
       "    <tr>\n",
       "      <th>CaIn2_58686</th>\n",
       "      <td>{'In': 6}</td>\n",
       "      <td>{'In': 4, 'Ca': 3}</td>\n",
       "      <td>None</td>\n",
       "      <td>None</td>\n",
       "      <td>None</td>\n",
       "      <td>{'In': 6}</td>\n",
       "      <td>{'In': 4, 'Ca': 3}</td>\n",
       "      <td>None</td>\n",
       "      <td>None</td>\n",
       "      <td>None</td>\n",
       "      <td>...</td>\n",
       "      <td>{'In': 12}</td>\n",
       "      <td>{'In': 4, 'Ca': 6}</td>\n",
       "      <td>None</td>\n",
       "      <td>None</td>\n",
       "      <td>None</td>\n",
       "      <td>{'In': 12, 'Ca': 2}</td>\n",
       "      <td>{'In': 4, 'Ca': 6}</td>\n",
       "      <td>None</td>\n",
       "      <td>None</td>\n",
       "      <td>None</td>\n",
       "    </tr>\n",
       "    <tr>\n",
       "      <th>MnCu2Al_607010</th>\n",
       "      <td>{'Cu': 8}</td>\n",
       "      <td>{'Cu': 8}</td>\n",
       "      <td>{'Mn': 4, 'Al': 4}</td>\n",
       "      <td>None</td>\n",
       "      <td>None</td>\n",
       "      <td>{'Cu': 8, 'Al': 6}</td>\n",
       "      <td>{'Cu': 8, 'Mn': 6}</td>\n",
       "      <td>{'Mn': 4, 'Al': 4}</td>\n",
       "      <td>None</td>\n",
       "      <td>None</td>\n",
       "      <td>...</td>\n",
       "      <td>{'Cu': 8}</td>\n",
       "      <td>{'Cu': 8}</td>\n",
       "      <td>{'Al': 4, 'Mn': 4}</td>\n",
       "      <td>None</td>\n",
       "      <td>None</td>\n",
       "      <td>{'Cu': 8}</td>\n",
       "      <td>{'Cu': 8}</td>\n",
       "      <td>{'Al': 4, 'Mn': 4}</td>\n",
       "      <td>None</td>\n",
       "      <td>None</td>\n",
       "    </tr>\n",
       "    <tr>\n",
       "      <th>Th2Zn17_653256</th>\n",
       "      <td>{'Zn': 19}</td>\n",
       "      <td>{'Zn': 10, 'Th': 2}</td>\n",
       "      <td>{'Zn': 6, 'Th': 2}</td>\n",
       "      <td>{'Zn': 7, 'Th': 3}</td>\n",
       "      <td>{'Zn': 7, 'Th': 1}</td>\n",
       "      <td>{'Zn': 19}</td>\n",
       "      <td>{'Zn': 10, 'Th': 2}</td>\n",
       "      <td>{'Zn': 6, 'Th': 2}</td>\n",
       "      <td>{'Zn': 7, 'Th': 3}</td>\n",
       "      <td>{'Zn': 7, 'Th': 1}</td>\n",
       "      <td>...</td>\n",
       "      <td>{'Zn': 19}</td>\n",
       "      <td>{'Zn': 10, 'Th': 2}</td>\n",
       "      <td>{'Zn': 10, 'Th': 2}</td>\n",
       "      <td>{'Zn': 9, 'Th': 3}</td>\n",
       "      <td>{'Zn': 13, 'Th': 1}</td>\n",
       "      <td>{'Zn': 19}</td>\n",
       "      <td>{'Zn': 10, 'Th': 2}</td>\n",
       "      <td>{'Zn': 10, 'Th': 2}</td>\n",
       "      <td>{'Zn': 9, 'Th': 3}</td>\n",
       "      <td>{'Zn': 13, 'Th': 1}</td>\n",
       "    </tr>\n",
       "  </tbody>\n",
       "</table>\n",
       "<p>15 rows × 45 columns</p>\n",
       "</div>"
      ],
      "text/plain": [
       "                MinimumDistanceNN(0)0       MinimumDistanceNN(0)1  \\\n",
       "CaCu5_619215                {'Cu': 6}          {'Cu': 6, 'Ca': 3}   \n",
       "Mn5Si3_166772      {'Mn': 2, 'Si': 6}                   {'Si': 3}   \n",
       "MgZn2_46006       {'Zn': 12, 'Mg': 4}          {'Zn': 6, 'Mg': 6}   \n",
       "TiNiSi_18188       {'Si': 5, 'Ni': 3}          {'Ni': 4, 'Ti': 5}   \n",
       "ZrNiAl_152131      {'Ni': 5, 'Al': 2}          {'Ni': 4, 'Zr': 2}   \n",
       "Mo2FeB2_5431                 {'B': 4}  {'B': 1, 'Fe': 2, 'Mo': 6}   \n",
       "KHg2_104303                {'Hg': 12}           {'Hg': 4, 'K': 6}   \n",
       "MgCu2_46007       {'Cu': 12, 'Mg': 4}          {'Cu': 6, 'Mg': 6}   \n",
       "ThMn12_104986              {'Mn': 20}         {'Mn': 10, 'Th': 2}   \n",
       "AgMgSb_259186               {'Ag': 4}          {'Mg': 4, 'Sb': 4}   \n",
       "AlB2_606058                 {'B': 12}           {'B': 3, 'Al': 6}   \n",
       "CeAl2Ga2_606460    {'Ga': 8, 'Al': 8}          {'Ga': 4, 'Ce': 4}   \n",
       "CaIn2_58686                 {'In': 6}          {'In': 4, 'Ca': 3}   \n",
       "MnCu2Al_607010              {'Cu': 8}                   {'Cu': 8}   \n",
       "Th2Zn17_653256             {'Zn': 19}         {'Zn': 10, 'Th': 2}   \n",
       "\n",
       "                       MinimumDistanceNN(0)2 MinimumDistanceNN(0)3  \\\n",
       "CaCu5_619215                       {'Cu': 8}                  None   \n",
       "Mn5Si3_166772                      {'Mn': 7}                  None   \n",
       "MgZn2_46006               {'Zn': 6, 'Mg': 6}                  None   \n",
       "TiNiSi_18188              {'Si': 4, 'Ti': 3}                  None   \n",
       "ZrNiAl_152131             {'Al': 6, 'Zr': 3}    {'Al': 3, 'Zr': 6}   \n",
       "Mo2FeB2_5431                        {'B': 6}                  None   \n",
       "KHg2_104303                             None                  None   \n",
       "MgCu2_46007                             None                  None   \n",
       "ThMn12_104986             {'Mn': 9, 'Th': 1}   {'Mn': 10, 'Th': 2}   \n",
       "AgMgSb_259186                      {'Ag': 4}                  None   \n",
       "AlB2_606058                             None                  None   \n",
       "CeAl2Ga2_606460  {'Al': 4, 'Ga': 1, 'Ce': 4}                  None   \n",
       "CaIn2_58686                             None                  None   \n",
       "MnCu2Al_607010            {'Mn': 4, 'Al': 4}                  None   \n",
       "Th2Zn17_653256            {'Zn': 6, 'Th': 2}    {'Zn': 7, 'Th': 3}   \n",
       "\n",
       "                MinimumDistanceNN(0)4         MinimumOKeeffeNN(0)0  \\\n",
       "CaCu5_619215                     None          {'Cu': 18, 'Ca': 2}   \n",
       "Mn5Si3_166772                    None           {'Mn': 2, 'Si': 6}   \n",
       "MgZn2_46006                      None          {'Zn': 12, 'Mg': 4}   \n",
       "TiNiSi_18188                     None                    {'Si': 5}   \n",
       "ZrNiAl_152131                    None  {'Ni': 5, 'Al': 6, 'Zr': 2}   \n",
       "Mo2FeB2_5431                     None            {'B': 4, 'Mo': 8}   \n",
       "KHg2_104303                      None           {'Hg': 12, 'K': 4}   \n",
       "MgCu2_46007                      None          {'Cu': 12, 'Mg': 4}   \n",
       "ThMn12_104986                    None                   {'Mn': 20}   \n",
       "AgMgSb_259186                    None           {'Ag': 4, 'Sb': 6}   \n",
       "AlB2_606058                      None           {'B': 12, 'Al': 6}   \n",
       "CeAl2Ga2_606460                  None  {'Ga': 8, 'Al': 8, 'Ce': 4}   \n",
       "CaIn2_58686                      None                    {'In': 6}   \n",
       "MnCu2Al_607010                   None           {'Cu': 8, 'Al': 6}   \n",
       "Th2Zn17_653256     {'Zn': 7, 'Th': 1}                   {'Zn': 19}   \n",
       "\n",
       "                       MinimumOKeeffeNN(0)1         MinimumOKeeffeNN(0)2  \\\n",
       "CaCu5_619215             {'Cu': 6, 'Ca': 3}           {'Cu': 8, 'Ca': 4}   \n",
       "Mn5Si3_166772                     {'Si': 3}                    {'Mn': 7}   \n",
       "MgZn2_46006              {'Zn': 6, 'Mg': 6}           {'Zn': 6, 'Mg': 6}   \n",
       "TiNiSi_18188             {'Ni': 4, 'Ti': 5}                    {'Si': 4}   \n",
       "ZrNiAl_152131            {'Ni': 4, 'Zr': 6}           {'Al': 6, 'Zr': 3}   \n",
       "Mo2FeB2_5431     {'B': 1, 'Fe': 2, 'Mo': 6}   {'B': 6, 'Fe': 4, 'Mo': 5}   \n",
       "KHg2_104303               {'Hg': 4, 'K': 6}                         None   \n",
       "MgCu2_46007              {'Cu': 6, 'Mg': 6}                         None   \n",
       "ThMn12_104986           {'Mn': 10, 'Th': 2}           {'Mn': 9, 'Th': 1}   \n",
       "AgMgSb_259186            {'Mg': 4, 'Sb': 4}           {'Ag': 4, 'Mg': 6}   \n",
       "AlB2_606058               {'B': 3, 'Al': 6}                         None   \n",
       "CeAl2Ga2_606460          {'Ga': 4, 'Ce': 4}  {'Al': 4, 'Ga': 1, 'Ce': 4}   \n",
       "CaIn2_58686              {'In': 4, 'Ca': 3}                         None   \n",
       "MnCu2Al_607010           {'Cu': 8, 'Mn': 6}           {'Mn': 4, 'Al': 4}   \n",
       "Th2Zn17_653256          {'Zn': 10, 'Th': 2}           {'Zn': 6, 'Th': 2}   \n",
       "\n",
       "                MinimumOKeeffeNN(0)3 MinimumOKeeffeNN(0)4  ...  \\\n",
       "CaCu5_619215                    None                 None  ...   \n",
       "Mn5Si3_166772                   None                 None  ...   \n",
       "MgZn2_46006                     None                 None  ...   \n",
       "TiNiSi_18188                    None                 None  ...   \n",
       "ZrNiAl_152131     {'Al': 3, 'Zr': 6}                 None  ...   \n",
       "Mo2FeB2_5431                    None                 None  ...   \n",
       "KHg2_104303                     None                 None  ...   \n",
       "MgCu2_46007                     None                 None  ...   \n",
       "ThMn12_104986    {'Mn': 10, 'Th': 2}                 None  ...   \n",
       "AgMgSb_259186                   None                 None  ...   \n",
       "AlB2_606058                     None                 None  ...   \n",
       "CeAl2Ga2_606460                 None                 None  ...   \n",
       "CaIn2_58686                     None                 None  ...   \n",
       "MnCu2Al_607010                  None                 None  ...   \n",
       "Th2Zn17_653256    {'Zn': 7, 'Th': 3}   {'Zn': 7, 'Th': 1}  ...   \n",
       "\n",
       "                       CrystalNN(0)0               CrystalNN(0)1  \\\n",
       "CaCu5_619215              {'Cu': 18}          {'Cu': 6, 'Ca': 3}   \n",
       "Mn5Si3_166772              {'Si': 6}                   {'Si': 5}   \n",
       "MgZn2_46006      {'Zn': 12, 'Mg': 4}          {'Zn': 6, 'Mg': 6}   \n",
       "TiNiSi_18188      {'Si': 5, 'Ni': 6}          {'Ni': 4, 'Ti': 5}   \n",
       "ZrNiAl_152131     {'Ni': 5, 'Al': 6}          {'Ni': 4, 'Zr': 6}   \n",
       "Mo2FeB2_5431       {'B': 4, 'Mo': 8}  {'B': 1, 'Fe': 2, 'Mo': 6}   \n",
       "KHg2_104303               {'Hg': 12}           {'Hg': 4, 'K': 6}   \n",
       "MgCu2_46007               {'Cu': 12}          {'Cu': 6, 'Mg': 6}   \n",
       "ThMn12_104986             {'Mn': 20}         {'Mn': 10, 'Th': 2}   \n",
       "AgMgSb_259186     {'Ag': 4, 'Sb': 6}          {'Mg': 4, 'Sb': 4}   \n",
       "AlB2_606058                {'B': 12}           {'B': 3, 'Al': 6}   \n",
       "CeAl2Ga2_606460   {'Ga': 8, 'Al': 8}          {'Ga': 4, 'Ce': 4}   \n",
       "CaIn2_58686               {'In': 12}          {'In': 4, 'Ca': 6}   \n",
       "MnCu2Al_607010             {'Cu': 8}                   {'Cu': 8}   \n",
       "Th2Zn17_653256            {'Zn': 19}         {'Zn': 10, 'Th': 2}   \n",
       "\n",
       "                               CrystalNN(0)2        CrystalNN(0)3  \\\n",
       "CaCu5_619215              {'Cu': 8, 'Ca': 4}                 None   \n",
       "Mn5Si3_166772                      {'Mn': 9}                 None   \n",
       "MgZn2_46006               {'Zn': 6, 'Mg': 6}                 None   \n",
       "TiNiSi_18188     {'Si': 4, 'Ni': 2, 'Ti': 6}                 None   \n",
       "ZrNiAl_152131             {'Al': 6, 'Zr': 3}   {'Al': 3, 'Zr': 6}   \n",
       "Mo2FeB2_5431               {'B': 6, 'Fe': 4}                 None   \n",
       "KHg2_104303                             None                 None   \n",
       "MgCu2_46007                             None                 None   \n",
       "ThMn12_104986            {'Mn': 13, 'Th': 1}  {'Mn': 10, 'Th': 2}   \n",
       "AgMgSb_259186             {'Ag': 4, 'Mg': 6}                 None   \n",
       "AlB2_606058                             None                 None   \n",
       "CeAl2Ga2_606460  {'Al': 4, 'Ga': 1, 'Ce': 4}                 None   \n",
       "CaIn2_58686                             None                 None   \n",
       "MnCu2Al_607010            {'Al': 4, 'Mn': 4}                 None   \n",
       "Th2Zn17_653256           {'Zn': 10, 'Th': 2}   {'Zn': 9, 'Th': 3}   \n",
       "\n",
       "                       CrystalNN(0)4                CrystalNN(1)0  \\\n",
       "CaCu5_619215                    None                   {'Cu': 18}   \n",
       "Mn5Si3_166772                   None           {'Mn': 8, 'Si': 6}   \n",
       "MgZn2_46006                     None          {'Zn': 12, 'Mg': 4}   \n",
       "TiNiSi_18188                    None  {'Si': 5, 'Ni': 6, 'Ti': 4}   \n",
       "ZrNiAl_152131                   None           {'Ni': 5, 'Al': 6}   \n",
       "Mo2FeB2_5431                    None            {'B': 4, 'Mo': 8}   \n",
       "KHg2_104303                     None           {'Hg': 12, 'K': 4}   \n",
       "MgCu2_46007                     None          {'Cu': 12, 'Mg': 4}   \n",
       "ThMn12_104986                   None                   {'Mn': 20}   \n",
       "AgMgSb_259186                   None           {'Ag': 4, 'Sb': 6}   \n",
       "AlB2_606058                     None                    {'B': 12}   \n",
       "CeAl2Ga2_606460                 None           {'Ga': 8, 'Al': 8}   \n",
       "CaIn2_58686                     None          {'In': 12, 'Ca': 2}   \n",
       "MnCu2Al_607010                  None                    {'Cu': 8}   \n",
       "Th2Zn17_653256   {'Zn': 13, 'Th': 1}                   {'Zn': 19}   \n",
       "\n",
       "                               CrystalNN(1)1                CrystalNN(1)2  \\\n",
       "CaCu5_619215              {'Cu': 9, 'Ca': 3}           {'Cu': 8, 'Ca': 4}   \n",
       "Mn5Si3_166772            {'Si': 5, 'Mn': 10}           {'Mn': 9, 'Si': 2}   \n",
       "MgZn2_46006               {'Zn': 6, 'Mg': 6}           {'Zn': 6, 'Mg': 6}   \n",
       "TiNiSi_18188              {'Ni': 4, 'Ti': 5}  {'Si': 4, 'Ni': 2, 'Ti': 6}   \n",
       "ZrNiAl_152131    {'Ni': 4, 'Zr': 6, 'Al': 2}           {'Al': 6, 'Zr': 3}   \n",
       "Mo2FeB2_5431      {'B': 1, 'Fe': 2, 'Mo': 6}            {'B': 6, 'Fe': 4}   \n",
       "KHg2_104303                {'Hg': 4, 'K': 6}                         None   \n",
       "MgCu2_46007               {'Cu': 6, 'Mg': 6}                         None   \n",
       "ThMn12_104986            {'Mn': 10, 'Th': 2}          {'Mn': 13, 'Th': 1}   \n",
       "AgMgSb_259186             {'Mg': 4, 'Sb': 4}           {'Ag': 4, 'Mg': 6}   \n",
       "AlB2_606058                {'B': 3, 'Al': 6}                         None   \n",
       "CeAl2Ga2_606460           {'Ga': 4, 'Ce': 4}  {'Al': 4, 'Ga': 1, 'Ce': 4}   \n",
       "CaIn2_58686               {'In': 4, 'Ca': 6}                         None   \n",
       "MnCu2Al_607010                     {'Cu': 8}           {'Al': 4, 'Mn': 4}   \n",
       "Th2Zn17_653256           {'Zn': 10, 'Th': 2}          {'Zn': 10, 'Th': 2}   \n",
       "\n",
       "                       CrystalNN(1)3        CrystalNN(1)4  \n",
       "CaCu5_619215                    None                 None  \n",
       "Mn5Si3_166772                   None                 None  \n",
       "MgZn2_46006                     None                 None  \n",
       "TiNiSi_18188                    None                 None  \n",
       "ZrNiAl_152131     {'Al': 3, 'Zr': 6}                 None  \n",
       "Mo2FeB2_5431                    None                 None  \n",
       "KHg2_104303                     None                 None  \n",
       "MgCu2_46007                     None                 None  \n",
       "ThMn12_104986    {'Mn': 10, 'Th': 2}                 None  \n",
       "AgMgSb_259186                   None                 None  \n",
       "AlB2_606058                     None                 None  \n",
       "CeAl2Ga2_606460                 None                 None  \n",
       "CaIn2_58686                     None                 None  \n",
       "MnCu2Al_607010                  None                 None  \n",
       "Th2Zn17_653256    {'Zn': 9, 'Th': 3}  {'Zn': 13, 'Th': 1}  \n",
       "\n",
       "[15 rows x 45 columns]"
      ]
     },
     "execution_count": 14,
     "metadata": {},
     "output_type": "execute_result"
    }
   ],
   "source": [
    "bm.benchmark(nn_methods)"
   ]
  },
  {
   "cell_type": "code",
   "execution_count": 5,
   "metadata": {},
   "outputs": [
    {
     "data": {
      "text/html": [
       "<div>\n",
       "<style scoped>\n",
       "    .dataframe tbody tr th:only-of-type {\n",
       "        vertical-align: middle;\n",
       "    }\n",
       "\n",
       "    .dataframe tbody tr th {\n",
       "        vertical-align: top;\n",
       "    }\n",
       "\n",
       "    .dataframe thead th {\n",
       "        text-align: right;\n",
       "    }\n",
       "</style>\n",
       "<table border=\"1\" class=\"dataframe\">\n",
       "  <thead>\n",
       "    <tr style=\"text-align: right;\">\n",
       "      <th></th>\n",
       "      <th>MinimumDistanceNN(0)</th>\n",
       "      <th>MinimumOKeeffeNN(0)</th>\n",
       "      <th>MinimumVIRENN(0)</th>\n",
       "      <th>JmolNN(0)</th>\n",
       "      <th>EconNN(0)</th>\n",
       "      <th>BrunnerNN_reciprocal(0)</th>\n",
       "      <th>VoronoiNN(0)</th>\n",
       "      <th>CrystalNN(0)</th>\n",
       "      <th>CrystalNN(1)</th>\n",
       "    </tr>\n",
       "  </thead>\n",
       "  <tbody>\n",
       "    <tr>\n",
       "      <th>CaCu5_619215</th>\n",
       "      <td>5.000000</td>\n",
       "      <td>1.333333</td>\n",
       "      <td>5.000000</td>\n",
       "      <td>4.000000</td>\n",
       "      <td>1.000000</td>\n",
       "      <td>0.000000</td>\n",
       "      <td>1.000000</td>\n",
       "      <td>1.000000</td>\n",
       "      <td>0.000000</td>\n",
       "    </tr>\n",
       "    <tr>\n",
       "      <th>Mn5Si3_166772</th>\n",
       "      <td>7.500000</td>\n",
       "      <td>7.500000</td>\n",
       "      <td>5.250000</td>\n",
       "      <td>0.000000</td>\n",
       "      <td>3.750000</td>\n",
       "      <td>0.000000</td>\n",
       "      <td>3.750000</td>\n",
       "      <td>6.500000</td>\n",
       "      <td>0.000000</td>\n",
       "    </tr>\n",
       "    <tr>\n",
       "      <th>MgZn2_46006</th>\n",
       "      <td>0.000000</td>\n",
       "      <td>0.000000</td>\n",
       "      <td>0.000000</td>\n",
       "      <td>9.333333</td>\n",
       "      <td>0.000000</td>\n",
       "      <td>0.000000</td>\n",
       "      <td>0.000000</td>\n",
       "      <td>0.000000</td>\n",
       "      <td>0.000000</td>\n",
       "    </tr>\n",
       "    <tr>\n",
       "      <th>TiNiSi_18188</th>\n",
       "      <td>2.666667</td>\n",
       "      <td>4.666667</td>\n",
       "      <td>0.000000</td>\n",
       "      <td>0.000000</td>\n",
       "      <td>0.000000</td>\n",
       "      <td>1.333333</td>\n",
       "      <td>0.666667</td>\n",
       "      <td>0.000000</td>\n",
       "      <td>0.000000</td>\n",
       "    </tr>\n",
       "    <tr>\n",
       "      <th>ZrNiAl_152131</th>\n",
       "      <td>3.333333</td>\n",
       "      <td>1.333333</td>\n",
       "      <td>4.666667</td>\n",
       "      <td>0.666667</td>\n",
       "      <td>0.666667</td>\n",
       "      <td>0.666667</td>\n",
       "      <td>0.666667</td>\n",
       "      <td>0.666667</td>\n",
       "      <td>0.000000</td>\n",
       "    </tr>\n",
       "    <tr>\n",
       "      <th>Mo2FeB2_5431</th>\n",
       "      <td>3.200000</td>\n",
       "      <td>2.000000</td>\n",
       "      <td>0.400000</td>\n",
       "      <td>2.000000</td>\n",
       "      <td>0.000000</td>\n",
       "      <td>2.800000</td>\n",
       "      <td>0.000000</td>\n",
       "      <td>0.000000</td>\n",
       "      <td>0.000000</td>\n",
       "    </tr>\n",
       "    <tr>\n",
       "      <th>KHg2_104303</th>\n",
       "      <td>0.000000</td>\n",
       "      <td>1.333333</td>\n",
       "      <td>1.333333</td>\n",
       "      <td>8.000000</td>\n",
       "      <td>0.000000</td>\n",
       "      <td>1.333333</td>\n",
       "      <td>0.000000</td>\n",
       "      <td>0.000000</td>\n",
       "      <td>1.333333</td>\n",
       "    </tr>\n",
       "    <tr>\n",
       "      <th>MgCu2_46007</th>\n",
       "      <td>0.000000</td>\n",
       "      <td>0.000000</td>\n",
       "      <td>0.000000</td>\n",
       "      <td>1.333333</td>\n",
       "      <td>0.000000</td>\n",
       "      <td>0.000000</td>\n",
       "      <td>0.000000</td>\n",
       "      <td>1.333333</td>\n",
       "      <td>0.000000</td>\n",
       "    </tr>\n",
       "    <tr>\n",
       "      <th>ThMn12_104986</th>\n",
       "      <td>1.230769</td>\n",
       "      <td>1.230769</td>\n",
       "      <td>1.230769</td>\n",
       "      <td>0.000000</td>\n",
       "      <td>1.230769</td>\n",
       "      <td>0.000000</td>\n",
       "      <td>1.230769</td>\n",
       "      <td>0.000000</td>\n",
       "      <td>0.000000</td>\n",
       "    </tr>\n",
       "    <tr>\n",
       "      <th>AgMgSb_259186</th>\n",
       "      <td>4.000000</td>\n",
       "      <td>0.000000</td>\n",
       "      <td>4.000000</td>\n",
       "      <td>4.000000</td>\n",
       "      <td>4.000000</td>\n",
       "      <td>0.000000</td>\n",
       "      <td>0.000000</td>\n",
       "      <td>0.000000</td>\n",
       "      <td>0.000000</td>\n",
       "    </tr>\n",
       "    <tr>\n",
       "      <th>AlB2_606058</th>\n",
       "      <td>0.000000</td>\n",
       "      <td>2.000000</td>\n",
       "      <td>2.000000</td>\n",
       "      <td>2.000000</td>\n",
       "      <td>0.000000</td>\n",
       "      <td>0.000000</td>\n",
       "      <td>0.000000</td>\n",
       "      <td>0.000000</td>\n",
       "      <td>0.000000</td>\n",
       "    </tr>\n",
       "    <tr>\n",
       "      <th>CeAl2Ga2_606460</th>\n",
       "      <td>1.600000</td>\n",
       "      <td>2.400000</td>\n",
       "      <td>2.400000</td>\n",
       "      <td>0.000000</td>\n",
       "      <td>1.600000</td>\n",
       "      <td>2.800000</td>\n",
       "      <td>1.600000</td>\n",
       "      <td>1.600000</td>\n",
       "      <td>1.600000</td>\n",
       "    </tr>\n",
       "    <tr>\n",
       "      <th>CaIn2_58686</th>\n",
       "      <td>4.666667</td>\n",
       "      <td>4.666667</td>\n",
       "      <td>4.666667</td>\n",
       "      <td>8.666667</td>\n",
       "      <td>0.666667</td>\n",
       "      <td>0.000000</td>\n",
       "      <td>0.666667</td>\n",
       "      <td>0.666667</td>\n",
       "      <td>0.000000</td>\n",
       "    </tr>\n",
       "    <tr>\n",
       "      <th>MnCu2Al_607010</th>\n",
       "      <td>0.000000</td>\n",
       "      <td>0.000000</td>\n",
       "      <td>0.000000</td>\n",
       "      <td>3.000000</td>\n",
       "      <td>0.000000</td>\n",
       "      <td>3.000000</td>\n",
       "      <td>0.000000</td>\n",
       "      <td>0.000000</td>\n",
       "      <td>0.000000</td>\n",
       "    </tr>\n",
       "    <tr>\n",
       "      <th>Th2Zn17_653256</th>\n",
       "      <td>3.789474</td>\n",
       "      <td>3.789474</td>\n",
       "      <td>3.789474</td>\n",
       "      <td>1.263158</td>\n",
       "      <td>1.263158</td>\n",
       "      <td>0.947368</td>\n",
       "      <td>1.894737</td>\n",
       "      <td>1.263158</td>\n",
       "      <td>1.263158</td>\n",
       "    </tr>\n",
       "    <tr>\n",
       "      <th>Total</th>\n",
       "      <td>36.986910</td>\n",
       "      <td>32.253576</td>\n",
       "      <td>34.736910</td>\n",
       "      <td>44.263158</td>\n",
       "      <td>14.177260</td>\n",
       "      <td>12.880702</td>\n",
       "      <td>11.475506</td>\n",
       "      <td>13.029825</td>\n",
       "      <td>4.196491</td>\n",
       "    </tr>\n",
       "  </tbody>\n",
       "</table>\n",
       "</div>"
      ],
      "text/plain": [
       "                 MinimumDistanceNN(0)  MinimumOKeeffeNN(0)  MinimumVIRENN(0)  \\\n",
       "CaCu5_619215                 5.000000             1.333333          5.000000   \n",
       "Mn5Si3_166772                7.500000             7.500000          5.250000   \n",
       "MgZn2_46006                  0.000000             0.000000          0.000000   \n",
       "TiNiSi_18188                 2.666667             4.666667          0.000000   \n",
       "ZrNiAl_152131                3.333333             1.333333          4.666667   \n",
       "Mo2FeB2_5431                 3.200000             2.000000          0.400000   \n",
       "KHg2_104303                  0.000000             1.333333          1.333333   \n",
       "MgCu2_46007                  0.000000             0.000000          0.000000   \n",
       "ThMn12_104986                1.230769             1.230769          1.230769   \n",
       "AgMgSb_259186                4.000000             0.000000          4.000000   \n",
       "AlB2_606058                  0.000000             2.000000          2.000000   \n",
       "CeAl2Ga2_606460              1.600000             2.400000          2.400000   \n",
       "CaIn2_58686                  4.666667             4.666667          4.666667   \n",
       "MnCu2Al_607010               0.000000             0.000000          0.000000   \n",
       "Th2Zn17_653256               3.789474             3.789474          3.789474   \n",
       "Total                       36.986910            32.253576         34.736910   \n",
       "\n",
       "                 JmolNN(0)  EconNN(0)  BrunnerNN_reciprocal(0)  VoronoiNN(0)  \\\n",
       "CaCu5_619215      4.000000   1.000000                 0.000000      1.000000   \n",
       "Mn5Si3_166772     0.000000   3.750000                 0.000000      3.750000   \n",
       "MgZn2_46006       9.333333   0.000000                 0.000000      0.000000   \n",
       "TiNiSi_18188      0.000000   0.000000                 1.333333      0.666667   \n",
       "ZrNiAl_152131     0.666667   0.666667                 0.666667      0.666667   \n",
       "Mo2FeB2_5431      2.000000   0.000000                 2.800000      0.000000   \n",
       "KHg2_104303       8.000000   0.000000                 1.333333      0.000000   \n",
       "MgCu2_46007       1.333333   0.000000                 0.000000      0.000000   \n",
       "ThMn12_104986     0.000000   1.230769                 0.000000      1.230769   \n",
       "AgMgSb_259186     4.000000   4.000000                 0.000000      0.000000   \n",
       "AlB2_606058       2.000000   0.000000                 0.000000      0.000000   \n",
       "CeAl2Ga2_606460   0.000000   1.600000                 2.800000      1.600000   \n",
       "CaIn2_58686       8.666667   0.666667                 0.000000      0.666667   \n",
       "MnCu2Al_607010    3.000000   0.000000                 3.000000      0.000000   \n",
       "Th2Zn17_653256    1.263158   1.263158                 0.947368      1.894737   \n",
       "Total            44.263158  14.177260                12.880702     11.475506   \n",
       "\n",
       "                 CrystalNN(0)  CrystalNN(1)  \n",
       "CaCu5_619215         1.000000      0.000000  \n",
       "Mn5Si3_166772        6.500000      0.000000  \n",
       "MgZn2_46006          0.000000      0.000000  \n",
       "TiNiSi_18188         0.000000      0.000000  \n",
       "ZrNiAl_152131        0.666667      0.000000  \n",
       "Mo2FeB2_5431         0.000000      0.000000  \n",
       "KHg2_104303          0.000000      1.333333  \n",
       "MgCu2_46007          1.333333      0.000000  \n",
       "ThMn12_104986        0.000000      0.000000  \n",
       "AgMgSb_259186        0.000000      0.000000  \n",
       "AlB2_606058          0.000000      0.000000  \n",
       "CeAl2Ga2_606460      1.600000      1.600000  \n",
       "CaIn2_58686          0.666667      0.000000  \n",
       "MnCu2Al_607010       0.000000      0.000000  \n",
       "Th2Zn17_653256       1.263158      1.263158  \n",
       "Total               13.029825      4.196491  "
      ]
     },
     "execution_count": 5,
     "metadata": {},
     "output_type": "execute_result"
    }
   ],
   "source": [
    "scores = bm.score(nn_methods)\n",
    "scores"
   ]
  },
  {
   "cell_type": "markdown",
   "metadata": {},
   "source": [
    "Plot the results."
   ]
  },
  {
   "cell_type": "code",
   "execution_count": 11,
   "metadata": {},
   "outputs": [
    {
     "data": {
      "image/png": "[encoded data removed]",
      "text/plain": [
       "<Figure size 1133.07x733.607 with 2 Axes>"
      ]
     },
     "metadata": {},
     "output_type": "display_data"
    }
   ],
   "source": [
    "from pathlib import Path\n",
    "\n",
    "from materialscoord import structure_mapping\n",
    "from materialscoord.plot import plot_benchmark_scores\n",
    "\n",
    "nn_method_mapping = {\n",
    "    \"MinimumDistanceNN(0)\": \"MinimumDistanceNN\",\n",
    "    \"MinimumOKeeffeNN(0)\": \"MinimumOKeeffeNN\",\n",
    "    \"MinimumVIRENN(0)\": \"MinimumVIRENN\",\n",
    "    \"JmolNN(0)\": \"JmolNN\",\n",
    "    \"EconNN(0)\": \"EconNN\",\n",
    "    \"BrunnerNN_reciprocal(0)\": \"BrunnerNN\",\n",
    "    \"VoronoiNN(0)\": \"VoronoiNN\",\n",
    "    \"CrystalNN(0)\": \"CrystalNN (default)\",\n",
    "    \"CrystalNN(1)\": \"CrystalNN (no electronegativity)\"\n",
    "}\n",
    "\n",
    "plt = plot_benchmark_scores(\n",
    "    scores, \n",
    "    structure_mapping=structure_mapping,\n",
    "    nn_method_mapping=nn_method_mapping\n",
    ")\n",
    " \n",
    "plt.savefig(Path(\"plots\", \"intermetallics.pdf\"), bbox_inches='tight')\n",
    "plt.show()"
   ]
  },
  {
   "cell_type": "code",
   "execution_count": 13,
   "metadata": {},
   "outputs": [
    {
     "data": {
      "text/plain": [
       "{'coordination': [{'Ca': 2, 'In': 12},\n",
       "  {'Ca': 2, 'In': 12},\n",
       "  {'Ca': 6, 'In': 4},\n",
       "  {'Ca': 6, 'In': 4},\n",
       "  {'Ca': 6, 'In': 4},\n",
       "  {'Ca': 6, 'In': 4}]}"
      ]
     },
     "execution_count": 13,
     "metadata": {},
     "output_type": "execute_result"
    }
   ],
   "source": [
    "bm.structures[\"CaIn2_58686\"].site_properties"
   ]
  },
  {
   "cell_type": "code",
   "execution_count": null,
   "metadata": {},
   "outputs": [],
   "source": [
    "{'In': 6}\t{'In': 4, 'Ca': 3}\t"
   ]
  },
  {
   "cell_type": "code",
   "execution_count": 32,
   "metadata": {},
   "outputs": [
    {
     "data": {
      "application/vnd.plotly.v1+json": {
       "config": {
        "plotlyServerURL": "https://plot.ly"
       },
       "data": [
        {
         "i": [
          2,
          5,
          0,
          2,
          0,
          4,
          2,
          4
         ],
         "intensity": [
          0,
          0,
          -0.25,
          0.25,
          0.25,
          -0.25
         ],
         "intensitymode": "vertex",
         "j": [
          5,
          1,
          1,
          3,
          3,
          5,
          0,
          0
         ],
         "k": [
          3,
          3,
          5,
          0,
          1,
          2,
          4,
          5
         ],
         "type": "mesh3d",
         "x": [
          0,
          0,
          -0.5,
          -0.5,
          0.5,
          0.5
         ],
         "y": [
          0.5,
          0.5,
          -0.5,
          -0.5,
          -0.5,
          -0.5
         ],
         "z": [
          -1,
          1,
          -1,
          1,
          -1,
          1
         ]
        }
       ],
       "layout": {
        "autosize": true,
        "scene": {
         "aspectmode": "auto",
         "aspectratio": {
          "x": 0.7937005259840998,
          "y": 0.7937005259840998,
          "z": 1.5874010519681996
         },
         "camera": {
          "center": {
           "x": 0,
           "y": 0,
           "z": 0
          },
          "eye": {
           "x": 0.5984379351461371,
           "y": -0.6043240230530624,
           "z": 2.222203913495662
          },
          "projection": {
           "type": "perspective"
          },
          "up": {
           "x": 0,
           "y": 0,
           "z": 1
          }
         }
        },
        "template": {
         "data": {
          "bar": [
           {
            "error_x": {
             "color": "#2a3f5f"
            },
            "error_y": {
             "color": "#2a3f5f"
            },
            "marker": {
             "line": {
              "color": "#E5ECF6",
              "width": 0.5
             }
            },
            "type": "bar"
           }
          ],
          "barpolar": [
           {
            "marker": {
             "line": {
              "color": "#E5ECF6",
              "width": 0.5
             }
            },
            "type": "barpolar"
           }
          ],
          "carpet": [
           {
            "aaxis": {
             "endlinecolor": "#2a3f5f",
             "gridcolor": "white",
             "linecolor": "white",
             "minorgridcolor": "white",
             "startlinecolor": "#2a3f5f"
            },
            "baxis": {
             "endlinecolor": "#2a3f5f",
             "gridcolor": "white",
             "linecolor": "white",
             "minorgridcolor": "white",
             "startlinecolor": "#2a3f5f"
            },
            "type": "carpet"
           }
          ],
          "choropleth": [
           {
            "colorbar": {
             "outlinewidth": 0,
             "ticks": ""
            },
            "type": "choropleth"
           }
          ],
          "contour": [
           {
            "colorbar": {
             "outlinewidth": 0,
             "ticks": ""
            },
            "colorscale": [
             [
              0,
              "#0d0887"
             ],
             [
              0.1111111111111111,
              "#46039f"
             ],
             [
              0.2222222222222222,
              "#7201a8"
             ],
             [
              0.3333333333333333,
              "#9c179e"
             ],
             [
              0.4444444444444444,
              "#bd3786"
             ],
             [
              0.5555555555555556,
              "#d8576b"
             ],
             [
              0.6666666666666666,
              "#ed7953"
             ],
             [
              0.7777777777777778,
              "#fb9f3a"
             ],
             [
              0.8888888888888888,
              "#fdca26"
             ],
             [
              1,
              "#f0f921"
             ]
            ],
            "type": "contour"
           }
          ],
          "contourcarpet": [
           {
            "colorbar": {
             "outlinewidth": 0,
             "ticks": ""
            },
            "type": "contourcarpet"
           }
          ],
          "heatmap": [
           {
            "colorbar": {
             "outlinewidth": 0,
             "ticks": ""
            },
            "colorscale": [
             [
              0,
              "#0d0887"
             ],
             [
              0.1111111111111111,
              "#46039f"
             ],
             [
              0.2222222222222222,
              "#7201a8"
             ],
             [
              0.3333333333333333,
              "#9c179e"
             ],
             [
              0.4444444444444444,
              "#bd3786"
             ],
             [
              0.5555555555555556,
              "#d8576b"
             ],
             [
              0.6666666666666666,
              "#ed7953"
             ],
             [
              0.7777777777777778,
              "#fb9f3a"
             ],
             [
              0.8888888888888888,
              "#fdca26"
             ],
             [
              1,
              "#f0f921"
             ]
            ],
            "type": "heatmap"
           }
          ],
          "heatmapgl": [
           {
            "colorbar": {
             "outlinewidth": 0,
             "ticks": ""
            },
            "colorscale": [
             [
              0,
              "#0d0887"
             ],
             [
              0.1111111111111111,
              "#46039f"
             ],
             [
              0.2222222222222222,
              "#7201a8"
             ],
             [
              0.3333333333333333,
              "#9c179e"
             ],
             [
              0.4444444444444444,
              "#bd3786"
             ],
             [
              0.5555555555555556,
              "#d8576b"
             ],
             [
              0.6666666666666666,
              "#ed7953"
             ],
             [
              0.7777777777777778,
              "#fb9f3a"
             ],
             [
              0.8888888888888888,
              "#fdca26"
             ],
             [
              1,
              "#f0f921"
             ]
            ],
            "type": "heatmapgl"
           }
          ],
          "histogram": [
           {
            "marker": {
             "colorbar": {
              "outlinewidth": 0,
              "ticks": ""
             }
            },
            "type": "histogram"
           }
          ],
          "histogram2d": [
           {
            "colorbar": {
             "outlinewidth": 0,
             "ticks": ""
            },
            "colorscale": [
             [
              0,
              "#0d0887"
             ],
             [
              0.1111111111111111,
              "#46039f"
             ],
             [
              0.2222222222222222,
              "#7201a8"
             ],
             [
              0.3333333333333333,
              "#9c179e"
             ],
             [
              0.4444444444444444,
              "#bd3786"
             ],
             [
              0.5555555555555556,
              "#d8576b"
             ],
             [
              0.6666666666666666,
              "#ed7953"
             ],
             [
              0.7777777777777778,
              "#fb9f3a"
             ],
             [
              0.8888888888888888,
              "#fdca26"
             ],
             [
              1,
              "#f0f921"
             ]
            ],
            "type": "histogram2d"
           }
          ],
          "histogram2dcontour": [
           {
            "colorbar": {
             "outlinewidth": 0,
             "ticks": ""
            },
            "colorscale": [
             [
              0,
              "#0d0887"
             ],
             [
              0.1111111111111111,
              "#46039f"
             ],
             [
              0.2222222222222222,
              "#7201a8"
             ],
             [
              0.3333333333333333,
              "#9c179e"
             ],
             [
              0.4444444444444444,
              "#bd3786"
             ],
             [
              0.5555555555555556,
              "#d8576b"
             ],
             [
              0.6666666666666666,
              "#ed7953"
             ],
             [
              0.7777777777777778,
              "#fb9f3a"
             ],
             [
              0.8888888888888888,
              "#fdca26"
             ],
             [
              1,
              "#f0f921"
             ]
            ],
            "type": "histogram2dcontour"
           }
          ],
          "mesh3d": [
           {
            "colorbar": {
             "outlinewidth": 0,
             "ticks": ""
            },
            "type": "mesh3d"
           }
          ],
          "parcoords": [
           {
            "line": {
             "colorbar": {
              "outlinewidth": 0,
              "ticks": ""
             }
            },
            "type": "parcoords"
           }
          ],
          "pie": [
           {
            "automargin": true,
            "type": "pie"
           }
          ],
          "scatter": [
           {
            "marker": {
             "colorbar": {
              "outlinewidth": 0,
              "ticks": ""
             }
            },
            "type": "scatter"
           }
          ],
          "scatter3d": [
           {
            "line": {
             "colorbar": {
              "outlinewidth": 0,
              "ticks": ""
             }
            },
            "marker": {
             "colorbar": {
              "outlinewidth": 0,
              "ticks": ""
             }
            },
            "type": "scatter3d"
           }
          ],
          "scattercarpet": [
           {
            "marker": {
             "colorbar": {
              "outlinewidth": 0,
              "ticks": ""
             }
            },
            "type": "scattercarpet"
           }
          ],
          "scattergeo": [
           {
            "marker": {
             "colorbar": {
              "outlinewidth": 0,
              "ticks": ""
             }
            },
            "type": "scattergeo"
           }
          ],
          "scattergl": [
           {
            "marker": {
             "colorbar": {
              "outlinewidth": 0,
              "ticks": ""
             }
            },
            "type": "scattergl"
           }
          ],
          "scattermapbox": [
           {
            "marker": {
             "colorbar": {
              "outlinewidth": 0,
              "ticks": ""
             }
            },
            "type": "scattermapbox"
           }
          ],
          "scatterpolar": [
           {
            "marker": {
             "colorbar": {
              "outlinewidth": 0,
              "ticks": ""
             }
            },
            "type": "scatterpolar"
           }
          ],
          "scatterpolargl": [
           {
            "marker": {
             "colorbar": {
              "outlinewidth": 0,
              "ticks": ""
             }
            },
            "type": "scatterpolargl"
           }
          ],
          "scatterternary": [
           {
            "marker": {
             "colorbar": {
              "outlinewidth": 0,
              "ticks": ""
             }
            },
            "type": "scatterternary"
           }
          ],
          "surface": [
           {
            "colorbar": {
             "outlinewidth": 0,
             "ticks": ""
            },
            "colorscale": [
             [
              0,
              "#0d0887"
             ],
             [
              0.1111111111111111,
              "#46039f"
             ],
             [
              0.2222222222222222,
              "#7201a8"
             ],
             [
              0.3333333333333333,
              "#9c179e"
             ],
             [
              0.4444444444444444,
              "#bd3786"
             ],
             [
              0.5555555555555556,
              "#d8576b"
             ],
             [
              0.6666666666666666,
              "#ed7953"
             ],
             [
              0.7777777777777778,
              "#fb9f3a"
             ],
             [
              0.8888888888888888,
              "#fdca26"
             ],
             [
              1,
              "#f0f921"
             ]
            ],
            "type": "surface"
           }
          ],
          "table": [
           {
            "cells": {
             "fill": {
              "color": "#EBF0F8"
             },
             "line": {
              "color": "white"
             }
            },
            "header": {
             "fill": {
              "color": "#C8D4E3"
             },
             "line": {
              "color": "white"
             }
            },
            "type": "table"
           }
          ]
         },
         "layout": {
          "annotationdefaults": {
           "arrowcolor": "#2a3f5f",
           "arrowhead": 0,
           "arrowwidth": 1
          },
          "coloraxis": {
           "colorbar": {
            "outlinewidth": 0,
            "ticks": ""
           }
          },
          "colorscale": {
           "diverging": [
            [
             0,
             "#8e0152"
            ],
            [
             0.1,
             "#c51b7d"
            ],
            [
             0.2,
             "#de77ae"
            ],
            [
             0.3,
             "#f1b6da"
            ],
            [
             0.4,
             "#fde0ef"
            ],
            [
             0.5,
             "#f7f7f7"
            ],
            [
             0.6,
             "#e6f5d0"
            ],
            [
             0.7,
             "#b8e186"
            ],
            [
             0.8,
             "#7fbc41"
            ],
            [
             0.9,
             "#4d9221"
            ],
            [
             1,
             "#276419"
            ]
           ],
           "sequential": [
            [
             0,
             "#0d0887"
            ],
            [
             0.1111111111111111,
             "#46039f"
            ],
            [
             0.2222222222222222,
             "#7201a8"
            ],
            [
             0.3333333333333333,
             "#9c179e"
            ],
            [
             0.4444444444444444,
             "#bd3786"
            ],
            [
             0.5555555555555556,
             "#d8576b"
            ],
            [
             0.6666666666666666,
             "#ed7953"
            ],
            [
             0.7777777777777778,
             "#fb9f3a"
            ],
            [
             0.8888888888888888,
             "#fdca26"
            ],
            [
             1,
             "#f0f921"
            ]
           ],
           "sequentialminus": [
            [
             0,
             "#0d0887"
            ],
            [
             0.1111111111111111,
             "#46039f"
            ],
            [
             0.2222222222222222,
             "#7201a8"
            ],
            [
             0.3333333333333333,
             "#9c179e"
            ],
            [
             0.4444444444444444,
             "#bd3786"
            ],
            [
             0.5555555555555556,
             "#d8576b"
            ],
            [
             0.6666666666666666,
             "#ed7953"
            ],
            [
             0.7777777777777778,
             "#fb9f3a"
            ],
            [
             0.8888888888888888,
             "#fdca26"
            ],
            [
             1,
             "#f0f921"
            ]
           ]
          },
          "colorway": [
           "#636efa",
           "#EF553B",
           "#00cc96",
           "#ab63fa",
           "#FFA15A",
           "#19d3f3",
           "#FF6692",
           "#B6E880",
           "#FF97FF",
           "#FECB52"
          ],
          "font": {
           "color": "#2a3f5f"
          },
          "geo": {
           "bgcolor": "white",
           "lakecolor": "white",
           "landcolor": "#E5ECF6",
           "showlakes": true,
           "showland": true,
           "subunitcolor": "white"
          },
          "hoverlabel": {
           "align": "left"
          },
          "hovermode": "closest",
          "mapbox": {
           "style": "light"
          },
          "paper_bgcolor": "white",
          "plot_bgcolor": "#E5ECF6",
          "polar": {
           "angularaxis": {
            "gridcolor": "white",
            "linecolor": "white",
            "ticks": ""
           },
           "bgcolor": "#E5ECF6",
           "radialaxis": {
            "gridcolor": "white",
            "linecolor": "white",
            "ticks": ""
           }
          },
          "scene": {
           "xaxis": {
            "backgroundcolor": "#E5ECF6",
            "gridcolor": "white",
            "gridwidth": 2,
            "linecolor": "white",
            "showbackground": true,
            "ticks": "",
            "zerolinecolor": "white"
           },
           "yaxis": {
            "backgroundcolor": "#E5ECF6",
            "gridcolor": "white",
            "gridwidth": 2,
            "linecolor": "white",
            "showbackground": true,
            "ticks": "",
            "zerolinecolor": "white"
           },
           "zaxis": {
            "backgroundcolor": "#E5ECF6",
            "gridcolor": "white",
            "gridwidth": 2,
            "linecolor": "white",
            "showbackground": true,
            "ticks": "",
            "zerolinecolor": "white"
           }
          },
          "shapedefaults": {
           "line": {
            "color": "#2a3f5f"
           }
          },
          "ternary": {
           "aaxis": {
            "gridcolor": "white",
            "linecolor": "white",
            "ticks": ""
           },
           "baxis": {
            "gridcolor": "white",
            "linecolor": "white",
            "ticks": ""
           },
           "bgcolor": "#E5ECF6",
           "caxis": {
            "gridcolor": "white",
            "linecolor": "white",
            "ticks": ""
           }
          },
          "title": {
           "x": 0.05
          },
          "xaxis": {
           "automargin": true,
           "gridcolor": "white",
           "linecolor": "white",
           "ticks": "",
           "title": {
            "standoff": 15
           },
           "zerolinecolor": "white",
           "zerolinewidth": 2
          },
          "yaxis": {
           "automargin": true,
           "gridcolor": "white",
           "linecolor": "white",
           "ticks": "",
           "title": {
            "standoff": 15
           },
           "zerolinecolor": "white",
           "zerolinewidth": 2
          }
         }
        }
       }
      },
      "image/png": "[encoded data removed]",
      "text/html": [
       "<div>\n",
       "        \n",
       "        \n",
       "            <div id=\"195b6fdd-e618-4370-82de-2286d2444d02\" class=\"plotly-graph-div\" style=\"height:525px; width:100%;\"></div>\n",
       "            <script type=\"text/javascript\">\n",
       "                require([\"plotly\"], function(Plotly) {\n",
       "                    window.PLOTLYENV=window.PLOTLYENV || {};\n",
       "                    \n",
       "                if (document.getElementById(\"195b6fdd-e618-4370-82de-2286d2444d02\")) {\n",
       "                    Plotly.newPlot(\n",
       "                        '195b6fdd-e618-4370-82de-2286d2444d02',\n",
       "                        [{\"i\": [2, 5, 0, 2, 0, 4, 2, 4], \"intensity\": [-0.0, 0.0, -0.25, 0.25, 0.25, -0.25], \"intensitymode\": \"vertex\", \"j\": [5, 1, 1, 3, 3, 5, 0, 0], \"k\": [3, 3, 5, 0, 1, 2, 4, 5], \"type\": \"mesh3d\", \"x\": [0.0, 0.0, -0.5, -0.5, 0.5, 0.5], \"y\": [0.5, 0.5, -0.5, -0.5, -0.5, -0.5], \"z\": [-1.0, 1.0, -1.0, 1.0, -1.0, 1.0]}],\n",
       "                        {\"template\": {\"data\": {\"bar\": [{\"error_x\": {\"color\": \"#2a3f5f\"}, \"error_y\": {\"color\": \"#2a3f5f\"}, \"marker\": {\"line\": {\"color\": \"#E5ECF6\", \"width\": 0.5}}, \"type\": \"bar\"}], \"barpolar\": [{\"marker\": {\"line\": {\"color\": \"#E5ECF6\", \"width\": 0.5}}, \"type\": \"barpolar\"}], \"carpet\": [{\"aaxis\": {\"endlinecolor\": \"#2a3f5f\", \"gridcolor\": \"white\", \"linecolor\": \"white\", \"minorgridcolor\": \"white\", \"startlinecolor\": \"#2a3f5f\"}, \"baxis\": {\"endlinecolor\": \"#2a3f5f\", \"gridcolor\": \"white\", \"linecolor\": \"white\", \"minorgridcolor\": \"white\", \"startlinecolor\": \"#2a3f5f\"}, \"type\": \"carpet\"}], \"choropleth\": [{\"colorbar\": {\"outlinewidth\": 0, \"ticks\": \"\"}, \"type\": \"choropleth\"}], \"contour\": [{\"colorbar\": {\"outlinewidth\": 0, \"ticks\": \"\"}, \"colorscale\": [[0.0, \"#0d0887\"], [0.1111111111111111, \"#46039f\"], [0.2222222222222222, \"#7201a8\"], [0.3333333333333333, \"#9c179e\"], [0.4444444444444444, \"#bd3786\"], [0.5555555555555556, \"#d8576b\"], [0.6666666666666666, \"#ed7953\"], [0.7777777777777778, \"#fb9f3a\"], [0.8888888888888888, \"#fdca26\"], [1.0, \"#f0f921\"]], \"type\": \"contour\"}], \"contourcarpet\": [{\"colorbar\": {\"outlinewidth\": 0, \"ticks\": \"\"}, \"type\": \"contourcarpet\"}], \"heatmap\": [{\"colorbar\": {\"outlinewidth\": 0, \"ticks\": \"\"}, \"colorscale\": [[0.0, \"#0d0887\"], [0.1111111111111111, \"#46039f\"], [0.2222222222222222, \"#7201a8\"], [0.3333333333333333, \"#9c179e\"], [0.4444444444444444, \"#bd3786\"], [0.5555555555555556, \"#d8576b\"], [0.6666666666666666, \"#ed7953\"], [0.7777777777777778, \"#fb9f3a\"], [0.8888888888888888, \"#fdca26\"], [1.0, \"#f0f921\"]], \"type\": \"heatmap\"}], \"heatmapgl\": [{\"colorbar\": {\"outlinewidth\": 0, \"ticks\": \"\"}, \"colorscale\": [[0.0, \"#0d0887\"], [0.1111111111111111, \"#46039f\"], [0.2222222222222222, \"#7201a8\"], [0.3333333333333333, \"#9c179e\"], [0.4444444444444444, \"#bd3786\"], [0.5555555555555556, \"#d8576b\"], [0.6666666666666666, \"#ed7953\"], [0.7777777777777778, \"#fb9f3a\"], [0.8888888888888888, \"#fdca26\"], [1.0, \"#f0f921\"]], \"type\": \"heatmapgl\"}], \"histogram\": [{\"marker\": {\"colorbar\": {\"outlinewidth\": 0, \"ticks\": \"\"}}, \"type\": \"histogram\"}], \"histogram2d\": [{\"colorbar\": {\"outlinewidth\": 0, \"ticks\": \"\"}, \"colorscale\": [[0.0, \"#0d0887\"], [0.1111111111111111, \"#46039f\"], [0.2222222222222222, \"#7201a8\"], [0.3333333333333333, \"#9c179e\"], [0.4444444444444444, \"#bd3786\"], [0.5555555555555556, \"#d8576b\"], [0.6666666666666666, \"#ed7953\"], [0.7777777777777778, \"#fb9f3a\"], [0.8888888888888888, \"#fdca26\"], [1.0, \"#f0f921\"]], \"type\": \"histogram2d\"}], \"histogram2dcontour\": [{\"colorbar\": {\"outlinewidth\": 0, \"ticks\": \"\"}, \"colorscale\": [[0.0, \"#0d0887\"], [0.1111111111111111, \"#46039f\"], [0.2222222222222222, \"#7201a8\"], [0.3333333333333333, \"#9c179e\"], [0.4444444444444444, \"#bd3786\"], [0.5555555555555556, \"#d8576b\"], [0.6666666666666666, \"#ed7953\"], [0.7777777777777778, \"#fb9f3a\"], [0.8888888888888888, \"#fdca26\"], [1.0, \"#f0f921\"]], \"type\": \"histogram2dcontour\"}], \"mesh3d\": [{\"colorbar\": {\"outlinewidth\": 0, \"ticks\": \"\"}, \"type\": \"mesh3d\"}], \"parcoords\": [{\"line\": {\"colorbar\": {\"outlinewidth\": 0, \"ticks\": \"\"}}, \"type\": \"parcoords\"}], \"pie\": [{\"automargin\": true, \"type\": \"pie\"}], \"scatter\": [{\"marker\": {\"colorbar\": {\"outlinewidth\": 0, \"ticks\": \"\"}}, \"type\": \"scatter\"}], \"scatter3d\": [{\"line\": {\"colorbar\": {\"outlinewidth\": 0, \"ticks\": \"\"}}, \"marker\": {\"colorbar\": {\"outlinewidth\": 0, \"ticks\": \"\"}}, \"type\": \"scatter3d\"}], \"scattercarpet\": [{\"marker\": {\"colorbar\": {\"outlinewidth\": 0, \"ticks\": \"\"}}, \"type\": \"scattercarpet\"}], \"scattergeo\": [{\"marker\": {\"colorbar\": {\"outlinewidth\": 0, \"ticks\": \"\"}}, \"type\": \"scattergeo\"}], \"scattergl\": [{\"marker\": {\"colorbar\": {\"outlinewidth\": 0, \"ticks\": \"\"}}, \"type\": \"scattergl\"}], \"scattermapbox\": [{\"marker\": {\"colorbar\": {\"outlinewidth\": 0, \"ticks\": \"\"}}, \"type\": \"scattermapbox\"}], \"scatterpolar\": [{\"marker\": {\"colorbar\": {\"outlinewidth\": 0, \"ticks\": \"\"}}, \"type\": \"scatterpolar\"}], \"scatterpolargl\": [{\"marker\": {\"colorbar\": {\"outlinewidth\": 0, \"ticks\": \"\"}}, \"type\": \"scatterpolargl\"}], \"scatterternary\": [{\"marker\": {\"colorbar\": {\"outlinewidth\": 0, \"ticks\": \"\"}}, \"type\": \"scatterternary\"}], \"surface\": [{\"colorbar\": {\"outlinewidth\": 0, \"ticks\": \"\"}, \"colorscale\": [[0.0, \"#0d0887\"], [0.1111111111111111, \"#46039f\"], [0.2222222222222222, \"#7201a8\"], [0.3333333333333333, \"#9c179e\"], [0.4444444444444444, \"#bd3786\"], [0.5555555555555556, \"#d8576b\"], [0.6666666666666666, \"#ed7953\"], [0.7777777777777778, \"#fb9f3a\"], [0.8888888888888888, \"#fdca26\"], [1.0, \"#f0f921\"]], \"type\": \"surface\"}], \"table\": [{\"cells\": {\"fill\": {\"color\": \"#EBF0F8\"}, \"line\": {\"color\": \"white\"}}, \"header\": {\"fill\": {\"color\": \"#C8D4E3\"}, \"line\": {\"color\": \"white\"}}, \"type\": \"table\"}]}, \"layout\": {\"annotationdefaults\": {\"arrowcolor\": \"#2a3f5f\", \"arrowhead\": 0, \"arrowwidth\": 1}, \"coloraxis\": {\"colorbar\": {\"outlinewidth\": 0, \"ticks\": \"\"}}, \"colorscale\": {\"diverging\": [[0, \"#8e0152\"], [0.1, \"#c51b7d\"], [0.2, \"#de77ae\"], [0.3, \"#f1b6da\"], [0.4, \"#fde0ef\"], [0.5, \"#f7f7f7\"], [0.6, \"#e6f5d0\"], [0.7, \"#b8e186\"], [0.8, \"#7fbc41\"], [0.9, \"#4d9221\"], [1, \"#276419\"]], \"sequential\": [[0.0, \"#0d0887\"], [0.1111111111111111, \"#46039f\"], [0.2222222222222222, \"#7201a8\"], [0.3333333333333333, \"#9c179e\"], [0.4444444444444444, \"#bd3786\"], [0.5555555555555556, \"#d8576b\"], [0.6666666666666666, \"#ed7953\"], [0.7777777777777778, \"#fb9f3a\"], [0.8888888888888888, \"#fdca26\"], [1.0, \"#f0f921\"]], \"sequentialminus\": [[0.0, \"#0d0887\"], [0.1111111111111111, \"#46039f\"], [0.2222222222222222, \"#7201a8\"], [0.3333333333333333, \"#9c179e\"], [0.4444444444444444, \"#bd3786\"], [0.5555555555555556, \"#d8576b\"], [0.6666666666666666, \"#ed7953\"], [0.7777777777777778, \"#fb9f3a\"], [0.8888888888888888, \"#fdca26\"], [1.0, \"#f0f921\"]]}, \"colorway\": [\"#636efa\", \"#EF553B\", \"#00cc96\", \"#ab63fa\", \"#FFA15A\", \"#19d3f3\", \"#FF6692\", \"#B6E880\", \"#FF97FF\", \"#FECB52\"], \"font\": {\"color\": \"#2a3f5f\"}, \"geo\": {\"bgcolor\": \"white\", \"lakecolor\": \"white\", \"landcolor\": \"#E5ECF6\", \"showlakes\": true, \"showland\": true, \"subunitcolor\": \"white\"}, \"hoverlabel\": {\"align\": \"left\"}, \"hovermode\": \"closest\", \"mapbox\": {\"style\": \"light\"}, \"paper_bgcolor\": \"white\", \"plot_bgcolor\": \"#E5ECF6\", \"polar\": {\"angularaxis\": {\"gridcolor\": \"white\", \"linecolor\": \"white\", \"ticks\": \"\"}, \"bgcolor\": \"#E5ECF6\", \"radialaxis\": {\"gridcolor\": \"white\", \"linecolor\": \"white\", \"ticks\": \"\"}}, \"scene\": {\"xaxis\": {\"backgroundcolor\": \"#E5ECF6\", \"gridcolor\": \"white\", \"gridwidth\": 2, \"linecolor\": \"white\", \"showbackground\": true, \"ticks\": \"\", \"zerolinecolor\": \"white\"}, \"yaxis\": {\"backgroundcolor\": \"#E5ECF6\", \"gridcolor\": \"white\", \"gridwidth\": 2, \"linecolor\": \"white\", \"showbackground\": true, \"ticks\": \"\", \"zerolinecolor\": \"white\"}, \"zaxis\": {\"backgroundcolor\": \"#E5ECF6\", \"gridcolor\": \"white\", \"gridwidth\": 2, \"linecolor\": \"white\", \"showbackground\": true, \"ticks\": \"\", \"zerolinecolor\": \"white\"}}, \"shapedefaults\": {\"line\": {\"color\": \"#2a3f5f\"}}, \"ternary\": {\"aaxis\": {\"gridcolor\": \"white\", \"linecolor\": \"white\", \"ticks\": \"\"}, \"baxis\": {\"gridcolor\": \"white\", \"linecolor\": \"white\", \"ticks\": \"\"}, \"bgcolor\": \"#E5ECF6\", \"caxis\": {\"gridcolor\": \"white\", \"linecolor\": \"white\", \"ticks\": \"\"}}, \"title\": {\"x\": 0.05}, \"xaxis\": {\"automargin\": true, \"gridcolor\": \"white\", \"linecolor\": \"white\", \"ticks\": \"\", \"title\": {\"standoff\": 15}, \"zerolinecolor\": \"white\", \"zerolinewidth\": 2}, \"yaxis\": {\"automargin\": true, \"gridcolor\": \"white\", \"linecolor\": \"white\", \"ticks\": \"\", \"title\": {\"standoff\": 15}, \"zerolinecolor\": \"white\", \"zerolinewidth\": 2}}}},\n",
       "                        {\"responsive\": true}\n",
       "                    ).then(function(){\n",
       "                            \n",
       "var gd = document.getElementById('195b6fdd-e618-4370-82de-2286d2444d02');\n",
       "var x = new MutationObserver(function (mutations, observer) {{\n",
       "        var display = window.getComputedStyle(gd).display;\n",
       "        if (!display || display === 'none') {{\n",
       "            console.log([gd, 'removed!']);\n",
       "            Plotly.purge(gd);\n",
       "            observer.disconnect();\n",
       "        }}\n",
       "}});\n",
       "\n",
       "// Listen for the removal of the full notebook cells\n",
       "var notebookContainer = gd.closest('#notebook-container');\n",
       "if (notebookContainer) {{\n",
       "    x.observe(notebookContainer, {childList: true});\n",
       "}}\n",
       "\n",
       "// Listen for the clearing of the current output cell\n",
       "var outputEl = gd.closest('.output');\n",
       "if (outputEl) {{\n",
       "    x.observe(outputEl, {childList: true});\n",
       "}}\n",
       "\n",
       "                        })\n",
       "                };\n",
       "                });\n",
       "            </script>\n",
       "        </div>"
      ]
     },
     "metadata": {},
     "output_type": "display_data"
    }
   ],
   "source": [
    "import plotly.graph_objects as go\n",
    "import pandas as pd\n",
    "import numpy as np\n",
    "import trimesh\n",
    "\n",
    "# generate random points on unit sphere\n",
    "def sample_spherical(npoints, ndim=3):\n",
    "    vec = np.random.randn(ndim, npoints)\n",
    "    vec /= np.linalg.norm(vec, axis=0)\n",
    "    return vec\n",
    "\n",
    "# these are your x, y, z\n",
    "# x, y, z = sample_spherical(100)\n",
    "points = np.array(\n",
    "    [[0, 0, 0],\n",
    "    [0.5, -0.5, 1],\n",
    "    [-0.5, -0.5, 1],\n",
    "    [0, 0.5, 1],\n",
    "    [0.5, -0.5, -1],\n",
    "    [-0.5, -0.5, -1],\n",
    "    [0, 0.5, -1]]\n",
    ")\n",
    "# find the closest point on the mesh to each random point\n",
    "(closest_points,\n",
    " distances,\n",
    " triangle_id) = mesh.nearest.on_surface(points)\n",
    "\n",
    "# get convex hull\n",
    "mesh = trimesh.convex.convex_hull(np.stack([x, y, z]).T)\n",
    "\n",
    "# obtain the color for each vertex using interpolation or whatnot\n",
    "# i.e., interpolate your mca for each vertex\n",
    "# mca = interp(mesh.vertices)\n",
    "# or for now just approximate with random numbers\n",
    "mca = mesh.vertices[:, 0] * mesh.vertices[:, 1] * mesh.vertices[:, 2] \n",
    "\n",
    "# get vertices and faces in desired format\n",
    "vert_x, vert_y, vert_z = mesh.vertices.T\n",
    "face_i, face_j, face_k = mesh.faces.T\n",
    "\n",
    "# plot mesh\n",
    "# the intensity is the MAE for each vertices\n",
    "# and the intensity mode means it will work out the color of each face\n",
    "# based on the adjacent vertices\n",
    "trace = go.Mesh3d(x=vert_x, y=vert_y, z=vert_z, i=face_i, j=face_j, k=face_k,\n",
    "                  intensity=mca, intensitymode='vertex')\n",
    "fig = go.Figure(data=[trace])\n",
    "fig.show()"
   ]
  },
  {
   "cell_type": "code",
   "execution_count": 92,
   "metadata": {},
   "outputs": [
    {
     "data": {
      "application/vnd.plotly.v1+json": {
       "config": {
        "plotlyServerURL": "https://plot.ly"
       },
       "data": [
        {
         "i": [
          0,
          3,
          1,
          4
         ],
         "intensity": [
          0,
          -0.25,
          0.25,
          0,
          0.25,
          -0.25,
          0
         ],
         "intensitymode": "vertex",
         "j": [
          6,
          1,
          4,
          6
         ],
         "k": [
          3,
          0,
          0,
          0
         ],
         "type": "mesh3d",
         "x": [
          0,
          0.5,
          -0.5,
          0,
          0.5,
          -0.5,
          0
         ],
         "y": [
          0,
          -0.5,
          -0.5,
          0.5,
          -0.5,
          -0.5,
          0.5
         ],
         "z": [
          0,
          1,
          1,
          1,
          -1,
          -1,
          -1
         ]
        }
       ],
       "layout": {
        "autosize": true,
        "scene": {
         "aspectmode": "auto",
         "aspectratio": {
          "x": 0.7937005259840998,
          "y": 0.7937005259840998,
          "z": 1.5874010519681996
         },
         "camera": {
          "center": {
           "x": 0,
           "y": 0,
           "z": 0
          },
          "eye": {
           "x": 1.7448477683209345,
           "y": 1.1699315729967041,
           "z": 0.5237044776311466
          },
          "projection": {
           "type": "perspective"
          },
          "up": {
           "x": 0,
           "y": 0,
           "z": 1
          }
         }
        },
        "template": {
         "data": {
          "bar": [
           {
            "error_x": {
             "color": "#2a3f5f"
            },
            "error_y": {
             "color": "#2a3f5f"
            },
            "marker": {
             "line": {
              "color": "#E5ECF6",
              "width": 0.5
             }
            },
            "type": "bar"
           }
          ],
          "barpolar": [
           {
            "marker": {
             "line": {
              "color": "#E5ECF6",
              "width": 0.5
             }
            },
            "type": "barpolar"
           }
          ],
          "carpet": [
           {
            "aaxis": {
             "endlinecolor": "#2a3f5f",
             "gridcolor": "white",
             "linecolor": "white",
             "minorgridcolor": "white",
             "startlinecolor": "#2a3f5f"
            },
            "baxis": {
             "endlinecolor": "#2a3f5f",
             "gridcolor": "white",
             "linecolor": "white",
             "minorgridcolor": "white",
             "startlinecolor": "#2a3f5f"
            },
            "type": "carpet"
           }
          ],
          "choropleth": [
           {
            "colorbar": {
             "outlinewidth": 0,
             "ticks": ""
            },
            "type": "choropleth"
           }
          ],
          "contour": [
           {
            "colorbar": {
             "outlinewidth": 0,
             "ticks": ""
            },
            "colorscale": [
             [
              0,
              "#0d0887"
             ],
             [
              0.1111111111111111,
              "#46039f"
             ],
             [
              0.2222222222222222,
              "#7201a8"
             ],
             [
              0.3333333333333333,
              "#9c179e"
             ],
             [
              0.4444444444444444,
              "#bd3786"
             ],
             [
              0.5555555555555556,
              "#d8576b"
             ],
             [
              0.6666666666666666,
              "#ed7953"
             ],
             [
              0.7777777777777778,
              "#fb9f3a"
             ],
             [
              0.8888888888888888,
              "#fdca26"
             ],
             [
              1,
              "#f0f921"
             ]
            ],
            "type": "contour"
           }
          ],
          "contourcarpet": [
           {
            "colorbar": {
             "outlinewidth": 0,
             "ticks": ""
            },
            "type": "contourcarpet"
           }
          ],
          "heatmap": [
           {
            "colorbar": {
             "outlinewidth": 0,
             "ticks": ""
            },
            "colorscale": [
             [
              0,
              "#0d0887"
             ],
             [
              0.1111111111111111,
              "#46039f"
             ],
             [
              0.2222222222222222,
              "#7201a8"
             ],
             [
              0.3333333333333333,
              "#9c179e"
             ],
             [
              0.4444444444444444,
              "#bd3786"
             ],
             [
              0.5555555555555556,
              "#d8576b"
             ],
             [
              0.6666666666666666,
              "#ed7953"
             ],
             [
              0.7777777777777778,
              "#fb9f3a"
             ],
             [
              0.8888888888888888,
              "#fdca26"
             ],
             [
              1,
              "#f0f921"
             ]
            ],
            "type": "heatmap"
           }
          ],
          "heatmapgl": [
           {
            "colorbar": {
             "outlinewidth": 0,
             "ticks": ""
            },
            "colorscale": [
             [
              0,
              "#0d0887"
             ],
             [
              0.1111111111111111,
              "#46039f"
             ],
             [
              0.2222222222222222,
              "#7201a8"
             ],
             [
              0.3333333333333333,
              "#9c179e"
             ],
             [
              0.4444444444444444,
              "#bd3786"
             ],
             [
              0.5555555555555556,
              "#d8576b"
             ],
             [
              0.6666666666666666,
              "#ed7953"
             ],
             [
              0.7777777777777778,
              "#fb9f3a"
             ],
             [
              0.8888888888888888,
              "#fdca26"
             ],
             [
              1,
              "#f0f921"
             ]
            ],
            "type": "heatmapgl"
           }
          ],
          "histogram": [
           {
            "marker": {
             "colorbar": {
              "outlinewidth": 0,
              "ticks": ""
             }
            },
            "type": "histogram"
           }
          ],
          "histogram2d": [
           {
            "colorbar": {
             "outlinewidth": 0,
             "ticks": ""
            },
            "colorscale": [
             [
              0,
              "#0d0887"
             ],
             [
              0.1111111111111111,
              "#46039f"
             ],
             [
              0.2222222222222222,
              "#7201a8"
             ],
             [
              0.3333333333333333,
              "#9c179e"
             ],
             [
              0.4444444444444444,
              "#bd3786"
             ],
             [
              0.5555555555555556,
              "#d8576b"
             ],
             [
              0.6666666666666666,
              "#ed7953"
             ],
             [
              0.7777777777777778,
              "#fb9f3a"
             ],
             [
              0.8888888888888888,
              "#fdca26"
             ],
             [
              1,
              "#f0f921"
             ]
            ],
            "type": "histogram2d"
           }
          ],
          "histogram2dcontour": [
           {
            "colorbar": {
             "outlinewidth": 0,
             "ticks": ""
            },
            "colorscale": [
             [
              0,
              "#0d0887"
             ],
             [
              0.1111111111111111,
              "#46039f"
             ],
             [
              0.2222222222222222,
              "#7201a8"
             ],
             [
              0.3333333333333333,
              "#9c179e"
             ],
             [
              0.4444444444444444,
              "#bd3786"
             ],
             [
              0.5555555555555556,
              "#d8576b"
             ],
             [
              0.6666666666666666,
              "#ed7953"
             ],
             [
              0.7777777777777778,
              "#fb9f3a"
             ],
             [
              0.8888888888888888,
              "#fdca26"
             ],
             [
              1,
              "#f0f921"
             ]
            ],
            "type": "histogram2dcontour"
           }
          ],
          "mesh3d": [
           {
            "colorbar": {
             "outlinewidth": 0,
             "ticks": ""
            },
            "type": "mesh3d"
           }
          ],
          "parcoords": [
           {
            "line": {
             "colorbar": {
              "outlinewidth": 0,
              "ticks": ""
             }
            },
            "type": "parcoords"
           }
          ],
          "pie": [
           {
            "automargin": true,
            "type": "pie"
           }
          ],
          "scatter": [
           {
            "marker": {
             "colorbar": {
              "outlinewidth": 0,
              "ticks": ""
             }
            },
            "type": "scatter"
           }
          ],
          "scatter3d": [
           {
            "line": {
             "colorbar": {
              "outlinewidth": 0,
              "ticks": ""
             }
            },
            "marker": {
             "colorbar": {
              "outlinewidth": 0,
              "ticks": ""
             }
            },
            "type": "scatter3d"
           }
          ],
          "scattercarpet": [
           {
            "marker": {
             "colorbar": {
              "outlinewidth": 0,
              "ticks": ""
             }
            },
            "type": "scattercarpet"
           }
          ],
          "scattergeo": [
           {
            "marker": {
             "colorbar": {
              "outlinewidth": 0,
              "ticks": ""
             }
            },
            "type": "scattergeo"
           }
          ],
          "scattergl": [
           {
            "marker": {
             "colorbar": {
              "outlinewidth": 0,
              "ticks": ""
             }
            },
            "type": "scattergl"
           }
          ],
          "scattermapbox": [
           {
            "marker": {
             "colorbar": {
              "outlinewidth": 0,
              "ticks": ""
             }
            },
            "type": "scattermapbox"
           }
          ],
          "scatterpolar": [
           {
            "marker": {
             "colorbar": {
              "outlinewidth": 0,
              "ticks": ""
             }
            },
            "type": "scatterpolar"
           }
          ],
          "scatterpolargl": [
           {
            "marker": {
             "colorbar": {
              "outlinewidth": 0,
              "ticks": ""
             }
            },
            "type": "scatterpolargl"
           }
          ],
          "scatterternary": [
           {
            "marker": {
             "colorbar": {
              "outlinewidth": 0,
              "ticks": ""
             }
            },
            "type": "scatterternary"
           }
          ],
          "surface": [
           {
            "colorbar": {
             "outlinewidth": 0,
             "ticks": ""
            },
            "colorscale": [
             [
              0,
              "#0d0887"
             ],
             [
              0.1111111111111111,
              "#46039f"
             ],
             [
              0.2222222222222222,
              "#7201a8"
             ],
             [
              0.3333333333333333,
              "#9c179e"
             ],
             [
              0.4444444444444444,
              "#bd3786"
             ],
             [
              0.5555555555555556,
              "#d8576b"
             ],
             [
              0.6666666666666666,
              "#ed7953"
             ],
             [
              0.7777777777777778,
              "#fb9f3a"
             ],
             [
              0.8888888888888888,
              "#fdca26"
             ],
             [
              1,
              "#f0f921"
             ]
            ],
            "type": "surface"
           }
          ],
          "table": [
           {
            "cells": {
             "fill": {
              "color": "#EBF0F8"
             },
             "line": {
              "color": "white"
             }
            },
            "header": {
             "fill": {
              "color": "#C8D4E3"
             },
             "line": {
              "color": "white"
             }
            },
            "type": "table"
           }
          ]
         },
         "layout": {
          "annotationdefaults": {
           "arrowcolor": "#2a3f5f",
           "arrowhead": 0,
           "arrowwidth": 1
          },
          "coloraxis": {
           "colorbar": {
            "outlinewidth": 0,
            "ticks": ""
           }
          },
          "colorscale": {
           "diverging": [
            [
             0,
             "#8e0152"
            ],
            [
             0.1,
             "#c51b7d"
            ],
            [
             0.2,
             "#de77ae"
            ],
            [
             0.3,
             "#f1b6da"
            ],
            [
             0.4,
             "#fde0ef"
            ],
            [
             0.5,
             "#f7f7f7"
            ],
            [
             0.6,
             "#e6f5d0"
            ],
            [
             0.7,
             "#b8e186"
            ],
            [
             0.8,
             "#7fbc41"
            ],
            [
             0.9,
             "#4d9221"
            ],
            [
             1,
             "#276419"
            ]
           ],
           "sequential": [
            [
             0,
             "#0d0887"
            ],
            [
             0.1111111111111111,
             "#46039f"
            ],
            [
             0.2222222222222222,
             "#7201a8"
            ],
            [
             0.3333333333333333,
             "#9c179e"
            ],
            [
             0.4444444444444444,
             "#bd3786"
            ],
            [
             0.5555555555555556,
             "#d8576b"
            ],
            [
             0.6666666666666666,
             "#ed7953"
            ],
            [
             0.7777777777777778,
             "#fb9f3a"
            ],
            [
             0.8888888888888888,
             "#fdca26"
            ],
            [
             1,
             "#f0f921"
            ]
           ],
           "sequentialminus": [
            [
             0,
             "#0d0887"
            ],
            [
             0.1111111111111111,
             "#46039f"
            ],
            [
             0.2222222222222222,
             "#7201a8"
            ],
            [
             0.3333333333333333,
             "#9c179e"
            ],
            [
             0.4444444444444444,
             "#bd3786"
            ],
            [
             0.5555555555555556,
             "#d8576b"
            ],
            [
             0.6666666666666666,
             "#ed7953"
            ],
            [
             0.7777777777777778,
             "#fb9f3a"
            ],
            [
             0.8888888888888888,
             "#fdca26"
            ],
            [
             1,
             "#f0f921"
            ]
           ]
          },
          "colorway": [
           "#636efa",
           "#EF553B",
           "#00cc96",
           "#ab63fa",
           "#FFA15A",
           "#19d3f3",
           "#FF6692",
           "#B6E880",
           "#FF97FF",
           "#FECB52"
          ],
          "font": {
           "color": "#2a3f5f"
          },
          "geo": {
           "bgcolor": "white",
           "lakecolor": "white",
           "landcolor": "#E5ECF6",
           "showlakes": true,
           "showland": true,
           "subunitcolor": "white"
          },
          "hoverlabel": {
           "align": "left"
          },
          "hovermode": "closest",
          "mapbox": {
           "style": "light"
          },
          "paper_bgcolor": "white",
          "plot_bgcolor": "#E5ECF6",
          "polar": {
           "angularaxis": {
            "gridcolor": "white",
            "linecolor": "white",
            "ticks": ""
           },
           "bgcolor": "#E5ECF6",
           "radialaxis": {
            "gridcolor": "white",
            "linecolor": "white",
            "ticks": ""
           }
          },
          "scene": {
           "xaxis": {
            "backgroundcolor": "#E5ECF6",
            "gridcolor": "white",
            "gridwidth": 2,
            "linecolor": "white",
            "showbackground": true,
            "ticks": "",
            "zerolinecolor": "white"
           },
           "yaxis": {
            "backgroundcolor": "#E5ECF6",
            "gridcolor": "white",
            "gridwidth": 2,
            "linecolor": "white",
            "showbackground": true,
            "ticks": "",
            "zerolinecolor": "white"
           },
           "zaxis": {
            "backgroundcolor": "#E5ECF6",
            "gridcolor": "white",
            "gridwidth": 2,
            "linecolor": "white",
            "showbackground": true,
            "ticks": "",
            "zerolinecolor": "white"
           }
          },
          "shapedefaults": {
           "line": {
            "color": "#2a3f5f"
           }
          },
          "ternary": {
           "aaxis": {
            "gridcolor": "white",
            "linecolor": "white",
            "ticks": ""
           },
           "baxis": {
            "gridcolor": "white",
            "linecolor": "white",
            "ticks": ""
           },
           "bgcolor": "#E5ECF6",
           "caxis": {
            "gridcolor": "white",
            "linecolor": "white",
            "ticks": ""
           }
          },
          "title": {
           "x": 0.05
          },
          "xaxis": {
           "automargin": true,
           "gridcolor": "white",
           "linecolor": "white",
           "ticks": "",
           "title": {
            "standoff": 15
           },
           "zerolinecolor": "white",
           "zerolinewidth": 2
          },
          "yaxis": {
           "automargin": true,
           "gridcolor": "white",
           "linecolor": "white",
           "ticks": "",
           "title": {
            "standoff": 15
           },
           "zerolinecolor": "white",
           "zerolinewidth": 2
          }
         }
        }
       }
      },
      "text/html": [
       "<div>\n",
       "        \n",
       "        \n",
       "            <div id=\"b1fda263-2214-4428-a37a-6f41613ea27e\" class=\"plotly-graph-div\" style=\"height:525px; width:100%;\"></div>\n",
       "            <script type=\"text/javascript\">\n",
       "                require([\"plotly\"], function(Plotly) {\n",
       "                    window.PLOTLYENV=window.PLOTLYENV || {};\n",
       "                    \n",
       "                if (document.getElementById(\"b1fda263-2214-4428-a37a-6f41613ea27e\")) {\n",
       "                    Plotly.newPlot(\n",
       "                        'b1fda263-2214-4428-a37a-6f41613ea27e',\n",
       "                        [{\"i\": [0, 3, 1, 4], \"intensity\": [0.0, -0.25, 0.25, 0.0, 0.25, -0.25, -0.0], \"intensitymode\": \"vertex\", \"j\": [6, 1, 4, 6], \"k\": [3, 0, 0, 0], \"type\": \"mesh3d\", \"x\": [0.0, 0.5, -0.5, 0.0, 0.5, -0.5, 0.0], \"y\": [0.0, -0.5, -0.5, 0.5, -0.5, -0.5, 0.5], \"z\": [0.0, 1.0, 1.0, 1.0, -1.0, -1.0, -1.0]}],\n",
       "                        {\"template\": {\"data\": {\"bar\": [{\"error_x\": {\"color\": \"#2a3f5f\"}, \"error_y\": {\"color\": \"#2a3f5f\"}, \"marker\": {\"line\": {\"color\": \"#E5ECF6\", \"width\": 0.5}}, \"type\": \"bar\"}], \"barpolar\": [{\"marker\": {\"line\": {\"color\": \"#E5ECF6\", \"width\": 0.5}}, \"type\": \"barpolar\"}], \"carpet\": [{\"aaxis\": {\"endlinecolor\": \"#2a3f5f\", \"gridcolor\": \"white\", \"linecolor\": \"white\", \"minorgridcolor\": \"white\", \"startlinecolor\": \"#2a3f5f\"}, \"baxis\": {\"endlinecolor\": \"#2a3f5f\", \"gridcolor\": \"white\", \"linecolor\": \"white\", \"minorgridcolor\": \"white\", \"startlinecolor\": \"#2a3f5f\"}, \"type\": \"carpet\"}], \"choropleth\": [{\"colorbar\": {\"outlinewidth\": 0, \"ticks\": \"\"}, \"type\": \"choropleth\"}], \"contour\": [{\"colorbar\": {\"outlinewidth\": 0, \"ticks\": \"\"}, \"colorscale\": [[0.0, \"#0d0887\"], [0.1111111111111111, \"#46039f\"], [0.2222222222222222, \"#7201a8\"], [0.3333333333333333, \"#9c179e\"], [0.4444444444444444, \"#bd3786\"], [0.5555555555555556, \"#d8576b\"], [0.6666666666666666, \"#ed7953\"], [0.7777777777777778, \"#fb9f3a\"], [0.8888888888888888, \"#fdca26\"], [1.0, \"#f0f921\"]], \"type\": \"contour\"}], \"contourcarpet\": [{\"colorbar\": {\"outlinewidth\": 0, \"ticks\": \"\"}, \"type\": \"contourcarpet\"}], \"heatmap\": [{\"colorbar\": {\"outlinewidth\": 0, \"ticks\": \"\"}, \"colorscale\": [[0.0, \"#0d0887\"], [0.1111111111111111, \"#46039f\"], [0.2222222222222222, \"#7201a8\"], [0.3333333333333333, \"#9c179e\"], [0.4444444444444444, \"#bd3786\"], [0.5555555555555556, \"#d8576b\"], [0.6666666666666666, \"#ed7953\"], [0.7777777777777778, \"#fb9f3a\"], [0.8888888888888888, \"#fdca26\"], [1.0, \"#f0f921\"]], \"type\": \"heatmap\"}], \"heatmapgl\": [{\"colorbar\": {\"outlinewidth\": 0, \"ticks\": \"\"}, \"colorscale\": [[0.0, \"#0d0887\"], [0.1111111111111111, \"#46039f\"], [0.2222222222222222, \"#7201a8\"], [0.3333333333333333, \"#9c179e\"], [0.4444444444444444, \"#bd3786\"], [0.5555555555555556, \"#d8576b\"], [0.6666666666666666, \"#ed7953\"], [0.7777777777777778, \"#fb9f3a\"], [0.8888888888888888, \"#fdca26\"], [1.0, \"#f0f921\"]], \"type\": \"heatmapgl\"}], \"histogram\": [{\"marker\": {\"colorbar\": {\"outlinewidth\": 0, \"ticks\": \"\"}}, \"type\": \"histogram\"}], \"histogram2d\": [{\"colorbar\": {\"outlinewidth\": 0, \"ticks\": \"\"}, \"colorscale\": [[0.0, \"#0d0887\"], [0.1111111111111111, \"#46039f\"], [0.2222222222222222, \"#7201a8\"], [0.3333333333333333, \"#9c179e\"], [0.4444444444444444, \"#bd3786\"], [0.5555555555555556, \"#d8576b\"], [0.6666666666666666, \"#ed7953\"], [0.7777777777777778, \"#fb9f3a\"], [0.8888888888888888, \"#fdca26\"], [1.0, \"#f0f921\"]], \"type\": \"histogram2d\"}], \"histogram2dcontour\": [{\"colorbar\": {\"outlinewidth\": 0, \"ticks\": \"\"}, \"colorscale\": [[0.0, \"#0d0887\"], [0.1111111111111111, \"#46039f\"], [0.2222222222222222, \"#7201a8\"], [0.3333333333333333, \"#9c179e\"], [0.4444444444444444, \"#bd3786\"], [0.5555555555555556, \"#d8576b\"], [0.6666666666666666, \"#ed7953\"], [0.7777777777777778, \"#fb9f3a\"], [0.8888888888888888, \"#fdca26\"], [1.0, \"#f0f921\"]], \"type\": \"histogram2dcontour\"}], \"mesh3d\": [{\"colorbar\": {\"outlinewidth\": 0, \"ticks\": \"\"}, \"type\": \"mesh3d\"}], \"parcoords\": [{\"line\": {\"colorbar\": {\"outlinewidth\": 0, \"ticks\": \"\"}}, \"type\": \"parcoords\"}], \"pie\": [{\"automargin\": true, \"type\": \"pie\"}], \"scatter\": [{\"marker\": {\"colorbar\": {\"outlinewidth\": 0, \"ticks\": \"\"}}, \"type\": \"scatter\"}], \"scatter3d\": [{\"line\": {\"colorbar\": {\"outlinewidth\": 0, \"ticks\": \"\"}}, \"marker\": {\"colorbar\": {\"outlinewidth\": 0, \"ticks\": \"\"}}, \"type\": \"scatter3d\"}], \"scattercarpet\": [{\"marker\": {\"colorbar\": {\"outlinewidth\": 0, \"ticks\": \"\"}}, \"type\": \"scattercarpet\"}], \"scattergeo\": [{\"marker\": {\"colorbar\": {\"outlinewidth\": 0, \"ticks\": \"\"}}, \"type\": \"scattergeo\"}], \"scattergl\": [{\"marker\": {\"colorbar\": {\"outlinewidth\": 0, \"ticks\": \"\"}}, \"type\": \"scattergl\"}], \"scattermapbox\": [{\"marker\": {\"colorbar\": {\"outlinewidth\": 0, \"ticks\": \"\"}}, \"type\": \"scattermapbox\"}], \"scatterpolar\": [{\"marker\": {\"colorbar\": {\"outlinewidth\": 0, \"ticks\": \"\"}}, \"type\": \"scatterpolar\"}], \"scatterpolargl\": [{\"marker\": {\"colorbar\": {\"outlinewidth\": 0, \"ticks\": \"\"}}, \"type\": \"scatterpolargl\"}], \"scatterternary\": [{\"marker\": {\"colorbar\": {\"outlinewidth\": 0, \"ticks\": \"\"}}, \"type\": \"scatterternary\"}], \"surface\": [{\"colorbar\": {\"outlinewidth\": 0, \"ticks\": \"\"}, \"colorscale\": [[0.0, \"#0d0887\"], [0.1111111111111111, \"#46039f\"], [0.2222222222222222, \"#7201a8\"], [0.3333333333333333, \"#9c179e\"], [0.4444444444444444, \"#bd3786\"], [0.5555555555555556, \"#d8576b\"], [0.6666666666666666, \"#ed7953\"], [0.7777777777777778, \"#fb9f3a\"], [0.8888888888888888, \"#fdca26\"], [1.0, \"#f0f921\"]], \"type\": \"surface\"}], \"table\": [{\"cells\": {\"fill\": {\"color\": \"#EBF0F8\"}, \"line\": {\"color\": \"white\"}}, \"header\": {\"fill\": {\"color\": \"#C8D4E3\"}, \"line\": {\"color\": \"white\"}}, \"type\": \"table\"}]}, \"layout\": {\"annotationdefaults\": {\"arrowcolor\": \"#2a3f5f\", \"arrowhead\": 0, \"arrowwidth\": 1}, \"coloraxis\": {\"colorbar\": {\"outlinewidth\": 0, \"ticks\": \"\"}}, \"colorscale\": {\"diverging\": [[0, \"#8e0152\"], [0.1, \"#c51b7d\"], [0.2, \"#de77ae\"], [0.3, \"#f1b6da\"], [0.4, \"#fde0ef\"], [0.5, \"#f7f7f7\"], [0.6, \"#e6f5d0\"], [0.7, \"#b8e186\"], [0.8, \"#7fbc41\"], [0.9, \"#4d9221\"], [1, \"#276419\"]], \"sequential\": [[0.0, \"#0d0887\"], [0.1111111111111111, \"#46039f\"], [0.2222222222222222, \"#7201a8\"], [0.3333333333333333, \"#9c179e\"], [0.4444444444444444, \"#bd3786\"], [0.5555555555555556, \"#d8576b\"], [0.6666666666666666, \"#ed7953\"], [0.7777777777777778, \"#fb9f3a\"], [0.8888888888888888, \"#fdca26\"], [1.0, \"#f0f921\"]], \"sequentialminus\": [[0.0, \"#0d0887\"], [0.1111111111111111, \"#46039f\"], [0.2222222222222222, \"#7201a8\"], [0.3333333333333333, \"#9c179e\"], [0.4444444444444444, \"#bd3786\"], [0.5555555555555556, \"#d8576b\"], [0.6666666666666666, \"#ed7953\"], [0.7777777777777778, \"#fb9f3a\"], [0.8888888888888888, \"#fdca26\"], [1.0, \"#f0f921\"]]}, \"colorway\": [\"#636efa\", \"#EF553B\", \"#00cc96\", \"#ab63fa\", \"#FFA15A\", \"#19d3f3\", \"#FF6692\", \"#B6E880\", \"#FF97FF\", \"#FECB52\"], \"font\": {\"color\": \"#2a3f5f\"}, \"geo\": {\"bgcolor\": \"white\", \"lakecolor\": \"white\", \"landcolor\": \"#E5ECF6\", \"showlakes\": true, \"showland\": true, \"subunitcolor\": \"white\"}, \"hoverlabel\": {\"align\": \"left\"}, \"hovermode\": \"closest\", \"mapbox\": {\"style\": \"light\"}, \"paper_bgcolor\": \"white\", \"plot_bgcolor\": \"#E5ECF6\", \"polar\": {\"angularaxis\": {\"gridcolor\": \"white\", \"linecolor\": \"white\", \"ticks\": \"\"}, \"bgcolor\": \"#E5ECF6\", \"radialaxis\": {\"gridcolor\": \"white\", \"linecolor\": \"white\", \"ticks\": \"\"}}, \"scene\": {\"xaxis\": {\"backgroundcolor\": \"#E5ECF6\", \"gridcolor\": \"white\", \"gridwidth\": 2, \"linecolor\": \"white\", \"showbackground\": true, \"ticks\": \"\", \"zerolinecolor\": \"white\"}, \"yaxis\": {\"backgroundcolor\": \"#E5ECF6\", \"gridcolor\": \"white\", \"gridwidth\": 2, \"linecolor\": \"white\", \"showbackground\": true, \"ticks\": \"\", \"zerolinecolor\": \"white\"}, \"zaxis\": {\"backgroundcolor\": \"#E5ECF6\", \"gridcolor\": \"white\", \"gridwidth\": 2, \"linecolor\": \"white\", \"showbackground\": true, \"ticks\": \"\", \"zerolinecolor\": \"white\"}}, \"shapedefaults\": {\"line\": {\"color\": \"#2a3f5f\"}}, \"ternary\": {\"aaxis\": {\"gridcolor\": \"white\", \"linecolor\": \"white\", \"ticks\": \"\"}, \"baxis\": {\"gridcolor\": \"white\", \"linecolor\": \"white\", \"ticks\": \"\"}, \"bgcolor\": \"#E5ECF6\", \"caxis\": {\"gridcolor\": \"white\", \"linecolor\": \"white\", \"ticks\": \"\"}}, \"title\": {\"x\": 0.05}, \"xaxis\": {\"automargin\": true, \"gridcolor\": \"white\", \"linecolor\": \"white\", \"ticks\": \"\", \"title\": {\"standoff\": 15}, \"zerolinecolor\": \"white\", \"zerolinewidth\": 2}, \"yaxis\": {\"automargin\": true, \"gridcolor\": \"white\", \"linecolor\": \"white\", \"ticks\": \"\", \"title\": {\"standoff\": 15}, \"zerolinecolor\": \"white\", \"zerolinewidth\": 2}}}},\n",
       "                        {\"responsive\": true}\n",
       "                    ).then(function(){\n",
       "                            \n",
       "var gd = document.getElementById('b1fda263-2214-4428-a37a-6f41613ea27e');\n",
       "var x = new MutationObserver(function (mutations, observer) {{\n",
       "        var display = window.getComputedStyle(gd).display;\n",
       "        if (!display || display === 'none') {{\n",
       "            console.log([gd, 'removed!']);\n",
       "            Plotly.purge(gd);\n",
       "            observer.disconnect();\n",
       "        }}\n",
       "}});\n",
       "\n",
       "// Listen for the removal of the full notebook cells\n",
       "var notebookContainer = gd.closest('#notebook-container');\n",
       "if (notebookContainer) {{\n",
       "    x.observe(notebookContainer, {childList: true});\n",
       "}}\n",
       "\n",
       "// Listen for the clearing of the current output cell\n",
       "var outputEl = gd.closest('.output');\n",
       "if (outputEl) {{\n",
       "    x.observe(outputEl, {childList: true});\n",
       "}}\n",
       "\n",
       "                        })\n",
       "                };\n",
       "                });\n",
       "            </script>\n",
       "        </div>"
      ]
     },
     "metadata": {},
     "output_type": "display_data"
    }
   ],
   "source": [
    "import open3d as o3d\n",
    "import trimesh\n",
    "import numpy as np\n",
    "\n",
    "points = np.array(\n",
    "    [[0, 0, 0],\n",
    "    [0.5, -0.5, 1],\n",
    "    [-0.5, -0.5, 1],\n",
    "    [0, 0.5, 1],\n",
    "    [0.5, -0.5, -1],\n",
    "    [-0.5, -0.5, -1],\n",
    "    [0, 0.5, -1],]\n",
    ")\n",
    "\n",
    "pcd = o3d.geometry.PointCloud(o3d.open3d_pybind.utility.Vector3dVector(points))\n",
    "pcd.estimate_normals()\n",
    "\n",
    "# estimate radius for rolling ball\n",
    "# distances = pcd.compute_nearest_neighbor_distance()\n",
    "# avg_dist = np.mean(distances)\n",
    "# radius = 1.5 * avg_dist   \n",
    "radius = 2\n",
    "mesh = o3d.geometry.TriangleMesh.create_from_point_cloud_ball_pivoting(\n",
    "           pcd,\n",
    "           o3d.utility.DoubleVector([radius]))\n",
    "# o3d.visualization.draw_geometries([pcd, mesh])\n",
    "\n",
    "vertices = np.asarray(mesh.vertices)\n",
    "faces = np.asarray(mesh.triangles)\n",
    "mca = vertices[:, 0] * vertices[:, 1] * vertices[:, 2] \n",
    "\n",
    "# get vertices and faces in desired format\n",
    "vert_x, vert_y, vert_z = vertices.T\n",
    "face_i, face_j, face_k = faces.T\n",
    "\n",
    "# plot mesh\n",
    "# the intensity is the MAE for each vertices\n",
    "# and the intensity mode means it will work out the color of each face\n",
    "# based on the adjacent vertices\n",
    "trace = go.Mesh3d(x=vert_x, y=vert_y, z=vert_z, i=face_i, j=face_j, k=face_k,\n",
    "                  intensity=mca, intensitymode='vertex')\n",
    "fig = go.Figure(data=[trace])\n",
    "fig.show()"
   ]
  },
  {
   "cell_type": "code",
   "execution_count": 61,
   "metadata": {},
   "outputs": [
    {
     "data": {
      "text/plain": [
       "array([[ 0. ,  0. ,  0. ],\n",
       "       [ 0.5, -0.5,  1. ],\n",
       "       [-0.5, -0.5,  1. ],\n",
       "       [ 0. ,  0.5,  1. ],\n",
       "       [ 0.5, -0.5, -1. ],\n",
       "       [-0.5, -0.5, -1. ],\n",
       "       [ 0. ,  0.5, -1. ]])"
      ]
     },
     "execution_count": 61,
     "metadata": {},
     "output_type": "execute_result"
    }
   ],
   "source": []
  },
  {
   "cell_type": "code",
   "execution_count": 44,
   "metadata": {},
   "outputs": [
    {
     "name": "stdout",
     "output_type": "stream",
     "text": [
      "Collecting open3d\n",
      "  Downloading open3d-0.10.0.0-cp38-cp38-macosx_10_9_x86_64.whl (3.9 MB)\n",
      "\u001b[K     |████████████████████████████████| 3.9 MB 4.0 MB/s eta 0:00:01\n",
      "\u001b[?25hRequirement already satisfied: matplotlib in /Users/alex/miniconda3/envs/py3/lib/python3.8/site-packages (from open3d) (3.3.0)\n",
      "Requirement already satisfied: widgetsnbextension in /Users/alex/miniconda3/envs/py3/lib/python3.8/site-packages (from open3d) (3.5.1)\n",
      "Requirement already satisfied: numpy in /Users/alex/miniconda3/envs/py3/lib/python3.8/site-packages (from open3d) (1.19.1)\n",
      "Requirement already satisfied: ipywidgets in /Users/alex/miniconda3/envs/py3/lib/python3.8/site-packages (from open3d) (7.5.1)\n",
      "Requirement already satisfied: notebook in /Users/alex/miniconda3/envs/py3/lib/python3.8/site-packages (from open3d) (6.0.3)\n",
      "Requirement already satisfied: pillow>=6.2.0 in /Users/alex/miniconda3/envs/py3/lib/python3.8/site-packages (from matplotlib->open3d) (7.2.0)\n",
      "Requirement already satisfied: cycler>=0.10 in /Users/alex/miniconda3/envs/py3/lib/python3.8/site-packages (from matplotlib->open3d) (0.10.0)\n",
      "Requirement already satisfied: python-dateutil>=2.1 in /Users/alex/miniconda3/envs/py3/lib/python3.8/site-packages (from matplotlib->open3d) (2.8.1)\n",
      "Requirement already satisfied: kiwisolver>=1.0.1 in /Users/alex/miniconda3/envs/py3/lib/python3.8/site-packages (from matplotlib->open3d) (1.2.0)\n",
      "Requirement already satisfied: pyparsing!=2.0.4,!=2.1.2,!=2.1.6,>=2.0.3 in /Users/alex/miniconda3/envs/py3/lib/python3.8/site-packages (from matplotlib->open3d) (2.4.7)\n",
      "Requirement already satisfied: traitlets>=4.3.1 in /Users/alex/miniconda3/envs/py3/lib/python3.8/site-packages (from ipywidgets->open3d) (4.3.3)\n",
      "Requirement already satisfied: ipykernel>=4.5.1 in /Users/alex/miniconda3/envs/py3/lib/python3.8/site-packages (from ipywidgets->open3d) (5.3.0)\n",
      "Requirement already satisfied: ipython>=4.0.0; python_version >= \"3.3\" in /Users/alex/miniconda3/envs/py3/lib/python3.8/site-packages (from ipywidgets->open3d) (7.15.0)\n",
      "Requirement already satisfied: nbformat>=4.2.0 in /Users/alex/miniconda3/envs/py3/lib/python3.8/site-packages (from ipywidgets->open3d) (5.0.6)\n",
      "Requirement already satisfied: pyzmq>=17 in /Users/alex/miniconda3/envs/py3/lib/python3.8/site-packages (from notebook->open3d) (19.0.1)\n",
      "Requirement already satisfied: jinja2 in /Users/alex/miniconda3/envs/py3/lib/python3.8/site-packages (from notebook->open3d) (2.11.2)\n",
      "Requirement already satisfied: jupyter-core>=4.6.1 in /Users/alex/miniconda3/envs/py3/lib/python3.8/site-packages (from notebook->open3d) (4.6.3)\n",
      "Requirement already satisfied: tornado>=5.0 in /Users/alex/miniconda3/envs/py3/lib/python3.8/site-packages (from notebook->open3d) (6.0.4)\n",
      "Requirement already satisfied: jupyter-client>=5.3.4 in /Users/alex/miniconda3/envs/py3/lib/python3.8/site-packages (from notebook->open3d) (6.1.3)\n",
      "Requirement already satisfied: nbconvert in /Users/alex/miniconda3/envs/py3/lib/python3.8/site-packages (from notebook->open3d) (5.6.1)\n",
      "Requirement already satisfied: terminado>=0.8.1 in /Users/alex/miniconda3/envs/py3/lib/python3.8/site-packages (from notebook->open3d) (0.8.3)\n",
      "Requirement already satisfied: ipython-genutils in /Users/alex/miniconda3/envs/py3/lib/python3.8/site-packages (from notebook->open3d) (0.2.0)\n",
      "Requirement already satisfied: Send2Trash in /Users/alex/miniconda3/envs/py3/lib/python3.8/site-packages (from notebook->open3d) (1.5.0)\n",
      "Requirement already satisfied: prometheus-client in /Users/alex/miniconda3/envs/py3/lib/python3.8/site-packages (from notebook->open3d) (0.8.0)\n",
      "Requirement already satisfied: six in /Users/alex/miniconda3/envs/py3/lib/python3.8/site-packages (from cycler>=0.10->matplotlib->open3d) (1.15.0)\n",
      "Requirement already satisfied: decorator in /Users/alex/miniconda3/envs/py3/lib/python3.8/site-packages (from traitlets>=4.3.1->ipywidgets->open3d) (4.4.2)\n",
      "Requirement already satisfied: appnope; platform_system == \"Darwin\" in /Users/alex/miniconda3/envs/py3/lib/python3.8/site-packages (from ipykernel>=4.5.1->ipywidgets->open3d) (0.1.0)\n",
      "Requirement already satisfied: pygments in /Users/alex/miniconda3/envs/py3/lib/python3.8/site-packages (from ipython>=4.0.0; python_version >= \"3.3\"->ipywidgets->open3d) (2.6.1)\n",
      "Requirement already satisfied: pickleshare in /Users/alex/miniconda3/envs/py3/lib/python3.8/site-packages (from ipython>=4.0.0; python_version >= \"3.3\"->ipywidgets->open3d) (0.7.5)\n",
      "Requirement already satisfied: jedi>=0.10 in /Users/alex/miniconda3/envs/py3/lib/python3.8/site-packages (from ipython>=4.0.0; python_version >= \"3.3\"->ipywidgets->open3d) (0.16.0)\n",
      "Requirement already satisfied: pexpect; sys_platform != \"win32\" in /Users/alex/miniconda3/envs/py3/lib/python3.8/site-packages (from ipython>=4.0.0; python_version >= \"3.3\"->ipywidgets->open3d) (4.8.0)\n",
      "Requirement already satisfied: setuptools>=18.5 in /Users/alex/miniconda3/envs/py3/lib/python3.8/site-packages (from ipython>=4.0.0; python_version >= \"3.3\"->ipywidgets->open3d) (47.1.1.post20200529)\n",
      "Requirement already satisfied: backcall in /Users/alex/miniconda3/envs/py3/lib/python3.8/site-packages (from ipython>=4.0.0; python_version >= \"3.3\"->ipywidgets->open3d) (0.1.0)\n",
      "Requirement already satisfied: prompt-toolkit!=3.0.0,!=3.0.1,<3.1.0,>=2.0.0 in /Users/alex/miniconda3/envs/py3/lib/python3.8/site-packages (from ipython>=4.0.0; python_version >= \"3.3\"->ipywidgets->open3d) (3.0.5)\n",
      "Requirement already satisfied: jsonschema!=2.5.0,>=2.4 in /Users/alex/miniconda3/envs/py3/lib/python3.8/site-packages (from nbformat>=4.2.0->ipywidgets->open3d) (3.2.0)\n",
      "Requirement already satisfied: MarkupSafe>=0.23 in /Users/alex/miniconda3/envs/py3/lib/python3.8/site-packages (from jinja2->notebook->open3d) (1.1.1)\n",
      "Requirement already satisfied: pandocfilters>=1.4.1 in /Users/alex/miniconda3/envs/py3/lib/python3.8/site-packages (from nbconvert->notebook->open3d) (1.4.2)\n",
      "Requirement already satisfied: defusedxml in /Users/alex/miniconda3/envs/py3/lib/python3.8/site-packages (from nbconvert->notebook->open3d) (0.6.0)\n",
      "Requirement already satisfied: mistune<2,>=0.8.1 in /Users/alex/miniconda3/envs/py3/lib/python3.8/site-packages (from nbconvert->notebook->open3d) (0.8.4)\n",
      "Requirement already satisfied: testpath in /Users/alex/miniconda3/envs/py3/lib/python3.8/site-packages (from nbconvert->notebook->open3d) (0.4.4)\n",
      "Requirement already satisfied: bleach in /Users/alex/miniconda3/envs/py3/lib/python3.8/site-packages (from nbconvert->notebook->open3d) (3.1.5)\n",
      "Requirement already satisfied: entrypoints>=0.2.2 in /Users/alex/miniconda3/envs/py3/lib/python3.8/site-packages (from nbconvert->notebook->open3d) (0.3)\n",
      "Requirement already satisfied: parso>=0.5.2 in /Users/alex/miniconda3/envs/py3/lib/python3.8/site-packages (from jedi>=0.10->ipython>=4.0.0; python_version >= \"3.3\"->ipywidgets->open3d) (0.7.0)\n",
      "Requirement already satisfied: ptyprocess>=0.5 in /Users/alex/miniconda3/envs/py3/lib/python3.8/site-packages (from pexpect; sys_platform != \"win32\"->ipython>=4.0.0; python_version >= \"3.3\"->ipywidgets->open3d) (0.6.0)\n",
      "Requirement already satisfied: wcwidth in /Users/alex/miniconda3/envs/py3/lib/python3.8/site-packages (from prompt-toolkit!=3.0.0,!=3.0.1,<3.1.0,>=2.0.0->ipython>=4.0.0; python_version >= \"3.3\"->ipywidgets->open3d) (0.2.4)\n",
      "Requirement already satisfied: pyrsistent>=0.14.0 in /Users/alex/miniconda3/envs/py3/lib/python3.8/site-packages (from jsonschema!=2.5.0,>=2.4->nbformat>=4.2.0->ipywidgets->open3d) (0.16.0)\n",
      "Requirement already satisfied: attrs>=17.4.0 in /Users/alex/miniconda3/envs/py3/lib/python3.8/site-packages (from jsonschema!=2.5.0,>=2.4->nbformat>=4.2.0->ipywidgets->open3d) (19.3.0)\n",
      "Requirement already satisfied: packaging in /Users/alex/miniconda3/envs/py3/lib/python3.8/site-packages (from bleach->nbconvert->notebook->open3d) (20.4)\n",
      "Requirement already satisfied: webencodings in /Users/alex/miniconda3/envs/py3/lib/python3.8/site-packages (from bleach->nbconvert->notebook->open3d) (0.5.1)\n",
      "Installing collected packages: open3d\n",
      "Successfully installed open3d-0.10.0.0\n"
     ]
    }
   ],
   "source": [
    "!pip install open3d"
   ]
  },
  {
   "cell_type": "code",
   "execution_count": null,
   "metadata": {},
   "outputs": [],
   "source": []
  }
 ],
 "metadata": {
  "kernelspec": {
   "display_name": "Python 3",
   "language": "python",
   "name": "python3"
  },
  "language_info": {
   "codemirror_mode": {
    "name": "ipython",
    "version": 3
   },
   "file_extension": ".py",
   "mimetype": "text/x-python",
   "name": "python",
   "nbconvert_exporter": "python",
   "pygments_lexer": "ipython3",
   "version": "3.8.1"
  }
 },
 "nbformat": 4,
 "nbformat_minor": 4
}

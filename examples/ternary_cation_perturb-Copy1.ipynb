{
 "cells": [
  {
   "cell_type": "code",
   "execution_count": null,
   "metadata": {},
   "outputs": [],
   "source": [
    "import numpy as np\n",
    "import pandas as pd\n",
    "pd.set_option(\"display.max_columns\",999) # display all columns\n",
    "pd.set_option(\"display.max_rows\", 999)\n",
    "\n",
    "from pymatgen.analysis.local_env import BrunnerNN_reciprocal, EconNN, JmolNN, \\\n",
    "                                        MinimumDistanceNN, MinimumOKeeffeNN, MinimumVIRENN, \\\n",
    "                                        VoronoiNN, VoronoiNN_modified, CrystalNN\n",
    "from materialscoord.core import Benchmark, HumanInterpreter\n",
    "\n",
    "methods = [BrunnerNN_reciprocal(), EconNN(), JmolNN(), CrystalNN(), VoronoiNN(tol=0.5),\n",
    "           MinimumDistanceNN(), MinimumOKeeffeNN(), MinimumVIRENN(),\n",
    "           HumanInterpreter()]\n",
    "structure_groups = [\"A2BX4\", \"ABX3\", \"ABX4\"]\n",
    "\n",
    "algos = [\"BrunnerNN_reciprocal\", \"EconNN\", \"JmolNN\", \"CrystalNN\", \"VoronoiNN\",\n",
    "         \"MinimumDistanceNN\", \"MinimumOKeeffeNN\", \"MinimumVIRENN\"]\n",
    "\n",
    "d = {}\n",
    "for sigma in np.arange(0, 0.06, 0.01):\n",
    "    preset = Benchmark.from_preset(preset_name=structure_groups, perturb=True, perturb_sigma=sigma)\n",
    "    preset.benchmark(methods=methods)\n",
    "    df = preset.score(methods)\n",
    "    \n",
    "    for a in algos:\n",
    "        total = df.iloc[-1][a]\n",
    "        if a not in d:\n",
    "            d[a] = [(sigma, total)]\n",
    "        else:\n",
    "            d[a].append((sigma, total))"
   ]
  },
  {
   "cell_type": "code",
   "execution_count": null,
   "metadata": {},
   "outputs": [],
   "source": [
    "import matplotlib.pyplot as plt\n",
    "\n",
    "plt.subplots(figsize=(20, 10))\n",
    "\n",
    "for data_list in d.values():\n",
    "    zip(*data_list)\n",
    "    plt.plot(*zip(*data_list))\n",
    "plt.legend(d.keys(), loc='lower right')\n",
    "plt.show()"
   ]
  }
 ],
 "metadata": {
  "kernelspec": {
   "display_name": "Python 2",
   "language": "python",
   "name": "python2"
  },
  "language_info": {
   "codemirror_mode": {
    "name": "ipython",
    "version": 2
   },
   "file_extension": ".py",
   "mimetype": "text/x-python",
   "name": "python",
   "nbconvert_exporter": "python",
   "pygments_lexer": "ipython2",
   "version": "2.7.15"
  }
 },
 "nbformat": 4,
 "nbformat_minor": 2
}

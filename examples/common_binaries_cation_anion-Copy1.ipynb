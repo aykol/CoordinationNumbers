{
 "cells": [
  {
   "cell_type": "code",
   "execution_count": null,
   "metadata": {
    "scrolled": false
   },
   "outputs": [
    {
     "name": "stderr",
     "output_type": "stream",
     "text": [
      "/Users/hillarypan/AJResearch/cn_routines/codes/pymatgen/pymatgen/__init__.py:89: UserWarning: \n",
      "Pymatgen will drop Py2k support from v2019.1.1. Pls consult the documentation\n",
      "at https://www.pymatgen.org for more details.\n",
      "  at https://www.pymatgen.org for more details.\"\"\")\n"
     ]
    }
   ],
   "source": [
    "import pandas as pd\n",
    "pd.set_option(\"display.max_columns\",999) # display all columns\n",
    "pd.set_option(\"display.max_rows\", 999)\n",
    "\n",
    "from pymatgen.analysis.local_env import BrunnerNN_reciprocal, EconNN, JMolNN, \\\n",
    "                                        MinimumDistanceNN, MinimumOKeeffeNN, MinimumVIRENN, \\\n",
    "                                        VoronoiNN, VoronoiNN_modified, CrystalNN\n",
    "from materialscoord.core import Benchmark, HumanInterpreter\n",
    "\n",
    "methods = [BrunnerNN_reciprocal(), EconNN(), JMolNN(), CrystalNN(distance_cutoffs=None, x_diff_weight=None), VoronoiNN(tol=0.5),\n",
    "           MinimumDistanceNN(), MinimumOKeeffeNN(), MinimumVIRENN(),\n",
    "           HumanInterpreter()]\n",
    "structure_groups = [\"common_binaries\"]\n",
    "\n",
    "preset = Benchmark.from_preset(preset_name=structure_groups)\n",
    "preset.benchmark(methods=methods)"
   ]
  },
  {
   "cell_type": "code",
   "execution_count": null,
   "metadata": {},
   "outputs": [],
   "source": [
    "df = preset.score(methods)\n",
    "df"
   ]
  },
  {
   "cell_type": "code",
   "execution_count": null,
   "metadata": {},
   "outputs": [],
   "source": [
    "import seaborn as sns\n",
    "import matplotlib.pyplot as plt\n",
    "\n",
    "fig, ax = plt.subplots(figsize=(20, 12))\n",
    "\n",
    "sns.set(font='Times New Roman')\n",
    "sns.set(font_scale=2)\n",
    "\n",
    "hm = sns.heatmap(df, annot=True, cmap=\"BuPu\", vmax=10)\n",
    "\n",
    "ax.set_xticklabels(df.columns.tolist(), rotation=45)\n",
    "ax.set_yticklabels(df.index.tolist())\n",
    "\n",
    "plt.savefig('common_binaries.png')\n",
    "plt.show()"
   ]
  }
 ],
 "metadata": {
  "kernelspec": {
   "display_name": "Python 2",
   "language": "python",
   "name": "python2"
  },
  "language_info": {
   "codemirror_mode": {
    "name": "ipython",
    "version": 2
   },
   "file_extension": ".py",
   "mimetype": "text/x-python",
   "name": "python",
   "nbconvert_exporter": "python",
   "pygments_lexer": "ipython2",
   "version": "2.7.15"
  }
 },
 "nbformat": 4,
 "nbformat_minor": 2
}

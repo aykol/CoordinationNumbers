{
 "cells": [
  {
   "cell_type": "code",
   "execution_count": 1,
   "metadata": {},
   "outputs": [
    {
     "name": "stderr",
     "output_type": "stream",
     "text": [
      "/Users/hillarypan/AJResearch/cn_routines/codes/pymatgen/pymatgen/__init__.py:87: UserWarning: \n",
      "Pymatgen will drop Py2k support from v2019.1.1. Pls consult the documentation\n",
      "at https://www.pymatgen.org for more details.\n",
      "  at https://www.pymatgen.org for more details.\"\"\")\n"
     ]
    }
   ],
   "source": [
    "import pandas as pd\n",
    "pd.set_option(\"display.max_columns\",999) # display all columns\n",
    "\n",
    "from pymatgen.analysis.local_env import BrunnerNN_reciprocal, BrunnerNN_relative, BrunnerNN_real, EconNN, JMolNN, \\\n",
    "                                        MinimumDistanceNN, MinimumOKeeffeNN, MinimumVIRENN, \\\n",
    "                                        VoronoiNN, VoronoiNN_modified, CrystalNN\n",
    "from materialscoord.core import Benchmark, HumanInterpreter, NbFuncs\n",
    "\n",
    "methods = [HumanInterpreter(), VoronoiNN(), CrystalNN()]\n",
    "structure_groups = [\"A2BX4\"]\n",
    "unique_sites = 4"
   ]
  },
  {
   "cell_type": "code",
   "execution_count": null,
   "metadata": {
    "scrolled": false
   },
   "outputs": [],
   "source": [
    "bm = Benchmark(methods=methods, structure_groups=structure_groups, unique_sites=True,\n",
    "               use_weights=False, cation_anion=False, anion_cation=True)\n",
    "bm.benchmark()\n",
    "\n",
    "report = bm.report(totals=False, separate_columns=True, max_sites=unique_sites)\n",
    "report"
   ]
  },
  {
   "cell_type": "code",
   "execution_count": null,
   "metadata": {},
   "outputs": [],
   "source": [
    "test = NbFuncs(bm, unique_sites=unique_sites)"
   ]
  },
  {
   "cell_type": "code",
   "execution_count": null,
   "metadata": {},
   "outputs": [],
   "source": [
    "df = test.sub_hi()\n",
    "df"
   ]
  },
  {
   "cell_type": "code",
   "execution_count": null,
   "metadata": {},
   "outputs": [],
   "source": [
    "df = test.cif_stats()\n",
    "df"
   ]
  },
  {
   "cell_type": "code",
   "execution_count": null,
   "metadata": {},
   "outputs": [],
   "source": [
    "df = test.mult_equiv()\n",
    "df"
   ]
  },
  {
   "cell_type": "code",
   "execution_count": null,
   "metadata": {},
   "outputs": [],
   "source": [
    "df = test.merge()\n",
    "df"
   ]
  },
  {
   "cell_type": "code",
   "execution_count": null,
   "metadata": {},
   "outputs": [],
   "source": [
    "df = test.total()\n",
    "df"
   ]
  },
  {
   "cell_type": "code",
   "execution_count": null,
   "metadata": {},
   "outputs": [],
   "source": [
    "df = test.div()\n",
    "df"
   ]
  },
  {
   "cell_type": "code",
   "execution_count": null,
   "metadata": {},
   "outputs": [],
   "source": [
    "df = test.final()\n",
    "df"
   ]
  }
 ],
 "metadata": {
  "kernelspec": {
   "display_name": "Python 2",
   "language": "python",
   "name": "python2"
  },
  "language_info": {
   "codemirror_mode": {
    "name": "ipython",
    "version": 2
   },
   "file_extension": ".py",
   "mimetype": "text/x-python",
   "name": "python",
   "nbconvert_exporter": "python",
   "pygments_lexer": "ipython2",
   "version": "2.7.15"
  }
 },
 "nbformat": 4,
 "nbformat_minor": 2
}

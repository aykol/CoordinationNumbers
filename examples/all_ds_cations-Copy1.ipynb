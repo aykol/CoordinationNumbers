{
 "cells": [
  {
   "cell_type": "code",
   "execution_count": 1,
   "metadata": {},
   "outputs": [
    {
     "name": "stderr",
     "output_type": "stream",
     "text": [
      "/Users/hillarypan/AJResearch/cn_routines/codes/pymatgen/pymatgen/__init__.py:87: UserWarning: \n",
      "Pymatgen will drop Py2k support from v2019.1.1. Pls consult the documentation\n",
      "at https://www.pymatgen.org for more details.\n",
      "  at https://www.pymatgen.org for more details.\"\"\")\n",
      "/Users/hillarypan/AJResearch/cn_routines/codes/pymatgen/pymatgen/io/cif.py:44: UserWarning: Please install optional dependency pybtex if youwant to extract references from CIF files.\n",
      "  warnings.warn(\"Please install optional dependency pybtex if you\"\n"
     ]
    },
    {
     "data": {
      "text/plain": [
       "'\\nmethods = [BrunnerNN_reciprocal(), BrunnerNN_relative(), BrunnerNN_real(), EconNN(), JMolNN(), MinimumDistanceNN(),\\n           MinimumOKeeffeNN(), MinimumVIRENN(), VoronoiNN(), VoronoiNN_modified(), CrystalNN(), HumanInterpreter()]\\n\\nstructure_groups = [\"ABX3\", \"common_binaries\", \"elemental\", \"laves\", \"mixed\", \"zeolites\"]\\n\\nunique_sites = 7\\nalgo = [\"BrunnerNN_reciprocal\", \"BrunnerNN_relative\", \"BrunnerNN_real\", \"EconNN\", \"JMolNN\", \"MinimumDistanceNN\",\\n        \"MinimumOKeeffeNN\", \"MinimumVIRENN\", \"VoronoiNN\", \"VoronoiNN_modified\", \"CrystalNN\"]\\n'"
      ]
     },
     "execution_count": 1,
     "metadata": {},
     "output_type": "execute_result"
    }
   ],
   "source": [
    "import pandas as pd\n",
    "pd.set_option(\"display.max_columns\",999) # display all columns\n",
    "\n",
    "from pymatgen.analysis.local_env import BrunnerNN_reciprocal, BrunnerNN_relative, BrunnerNN_real, EconNN, JMolNN, \\\n",
    "                                        MinimumDistanceNN, MinimumOKeeffeNN, MinimumVIRENN, \\\n",
    "                                        VoronoiNN, VoronoiNN_modified, CrystalNN\n",
    "from materialscoord.core import Benchmark, HumanInterpreter\n",
    "\n",
    "methods = [HumanInterpreter(), MinimumVIRENN(), CrystalNN()]\n",
    "structure_groups = [\"zeolites\"]\n",
    "unique_sites = 7\n",
    "algo = [\"MinimumVIRENN\", \"CrystalNN\"]\n",
    "\n",
    "\"\"\"\n",
    "methods = [BrunnerNN_reciprocal(), BrunnerNN_relative(), BrunnerNN_real(), EconNN(), JMolNN(), MinimumDistanceNN(),\n",
    "           MinimumOKeeffeNN(), MinimumVIRENN(), VoronoiNN(), VoronoiNN_modified(), CrystalNN(), HumanInterpreter()]\n",
    "\n",
    "structure_groups = [\"ABX3\", \"common_binaries\", \"elemental\", \"laves\", \"mixed\", \"zeolites\"]\n",
    "\n",
    "unique_sites = 7\n",
    "algo = [\"BrunnerNN_reciprocal\", \"BrunnerNN_relative\", \"BrunnerNN_real\", \"EconNN\", \"JMolNN\", \"MinimumDistanceNN\",\n",
    "        \"MinimumOKeeffeNN\", \"MinimumVIRENN\", \"VoronoiNN\", \"VoronoiNN_modified\", \"CrystalNN\"]\n",
    "\"\"\""
   ]
  },
  {
   "cell_type": "code",
   "execution_count": 2,
   "metadata": {
    "scrolled": false
   },
   "outputs": [
    {
     "name": "stdout",
     "output_type": "stream",
     "text": [
      "Initialization successful.\n"
     ]
    },
    {
     "data": {
      "text/html": [
       "<div>\n",
       "<style scoped>\n",
       "    .dataframe tbody tr th:only-of-type {\n",
       "        vertical-align: middle;\n",
       "    }\n",
       "\n",
       "    .dataframe tbody tr th {\n",
       "        vertical-align: top;\n",
       "    }\n",
       "\n",
       "    .dataframe thead th {\n",
       "        text-align: right;\n",
       "    }\n",
       "</style>\n",
       "<table border=\"1\" class=\"dataframe\">\n",
       "  <thead>\n",
       "    <tr style=\"text-align: right;\">\n",
       "      <th></th>\n",
       "      <th>CrystalNN0</th>\n",
       "      <th>CrystalNN1</th>\n",
       "      <th>CrystalNN2</th>\n",
       "      <th>CrystalNN3</th>\n",
       "      <th>CrystalNN4</th>\n",
       "      <th>CrystalNN5</th>\n",
       "      <th>CrystalNN6</th>\n",
       "      <th>HumanInterpreter0</th>\n",
       "      <th>HumanInterpreter1</th>\n",
       "      <th>HumanInterpreter2</th>\n",
       "      <th>HumanInterpreter3</th>\n",
       "      <th>HumanInterpreter4</th>\n",
       "      <th>HumanInterpreter5</th>\n",
       "      <th>HumanInterpreter6</th>\n",
       "      <th>MinimumVIRENN0</th>\n",
       "      <th>MinimumVIRENN1</th>\n",
       "      <th>MinimumVIRENN2</th>\n",
       "      <th>MinimumVIRENN3</th>\n",
       "      <th>MinimumVIRENN4</th>\n",
       "      <th>MinimumVIRENN5</th>\n",
       "      <th>MinimumVIRENN6</th>\n",
       "    </tr>\n",
       "  </thead>\n",
       "  <tbody>\n",
       "    <tr>\n",
       "      <th>AlPO4_91671</th>\n",
       "      <td>{u'O': 4.0}</td>\n",
       "      <td>{u'O': 4.0}</td>\n",
       "      <td>{}</td>\n",
       "      <td>{}</td>\n",
       "      <td>{}</td>\n",
       "      <td>{}</td>\n",
       "      <td>{}</td>\n",
       "      <td>{u'P': 0.0, u'O': 4.0}</td>\n",
       "      <td>{u'Al': 0.0, u'O': 4.0}</td>\n",
       "      <td>{}</td>\n",
       "      <td>{}</td>\n",
       "      <td>{}</td>\n",
       "      <td>{}</td>\n",
       "      <td>{}</td>\n",
       "      <td>{u'O2-': 4.0}</td>\n",
       "      <td>{u'O2-': 2.0}</td>\n",
       "      <td>{}</td>\n",
       "      <td>{}</td>\n",
       "      <td>{}</td>\n",
       "      <td>{}</td>\n",
       "      <td>{}</td>\n",
       "    </tr>\n",
       "    <tr>\n",
       "      <th>SiO2_413210</th>\n",
       "      <td>{u'O': 4.0}</td>\n",
       "      <td>{u'O': 4.0}</td>\n",
       "      <td>{}</td>\n",
       "      <td>{}</td>\n",
       "      <td>{}</td>\n",
       "      <td>{}</td>\n",
       "      <td>{}</td>\n",
       "      <td>{u'O': 4.0}</td>\n",
       "      <td>{u'O': 4.0}</td>\n",
       "      <td>{}</td>\n",
       "      <td>{}</td>\n",
       "      <td>{}</td>\n",
       "      <td>{}</td>\n",
       "      <td>{}</td>\n",
       "      <td>{u'O2-': 4.0}</td>\n",
       "      <td>{u'O2-': 4.0}</td>\n",
       "      <td>{}</td>\n",
       "      <td>{}</td>\n",
       "      <td>{}</td>\n",
       "      <td>{}</td>\n",
       "      <td>{}</td>\n",
       "    </tr>\n",
       "  </tbody>\n",
       "</table>\n",
       "</div>"
      ],
      "text/plain": [
       "              CrystalNN0   CrystalNN1 CrystalNN2 CrystalNN3 CrystalNN4  \\\n",
       "AlPO4_91671  {u'O': 4.0}  {u'O': 4.0}         {}         {}         {}   \n",
       "SiO2_413210  {u'O': 4.0}  {u'O': 4.0}         {}         {}         {}   \n",
       "\n",
       "            CrystalNN5 CrystalNN6       HumanInterpreter0  \\\n",
       "AlPO4_91671         {}         {}  {u'P': 0.0, u'O': 4.0}   \n",
       "SiO2_413210         {}         {}             {u'O': 4.0}   \n",
       "\n",
       "                   HumanInterpreter1 HumanInterpreter2 HumanInterpreter3  \\\n",
       "AlPO4_91671  {u'Al': 0.0, u'O': 4.0}                {}                {}   \n",
       "SiO2_413210              {u'O': 4.0}                {}                {}   \n",
       "\n",
       "            HumanInterpreter4 HumanInterpreter5 HumanInterpreter6  \\\n",
       "AlPO4_91671                {}                {}                {}   \n",
       "SiO2_413210                {}                {}                {}   \n",
       "\n",
       "            MinimumVIRENN0 MinimumVIRENN1 MinimumVIRENN2 MinimumVIRENN3  \\\n",
       "AlPO4_91671  {u'O2-': 4.0}  {u'O2-': 2.0}             {}             {}   \n",
       "SiO2_413210  {u'O2-': 4.0}  {u'O2-': 4.0}             {}             {}   \n",
       "\n",
       "            MinimumVIRENN4 MinimumVIRENN5 MinimumVIRENN6  \n",
       "AlPO4_91671             {}             {}             {}  \n",
       "SiO2_413210             {}             {}             {}  "
      ]
     },
     "execution_count": 2,
     "metadata": {},
     "output_type": "execute_result"
    }
   ],
   "source": [
    "uw_bm = Benchmark(methods=methods, structure_groups=structure_groups, unique_sites=True,\n",
    "                  use_weights=False, cation_anion=True, anion_cation=False)\n",
    "uw_bm.benchmark()\n",
    "\n",
    "uw = uw_bm.report(totals=False, separate_columns=True, max_sites=unique_sites)\n",
    "uw"
   ]
  }
 ],
 "metadata": {
  "kernelspec": {
   "display_name": "Python 2",
   "language": "python",
   "name": "python2"
  },
  "language_info": {
   "codemirror_mode": {
    "name": "ipython",
    "version": 2
   },
   "file_extension": ".py",
   "mimetype": "text/x-python",
   "name": "python",
   "nbconvert_exporter": "python",
   "pygments_lexer": "ipython2",
   "version": "2.7.15"
  }
 },
 "nbformat": 4,
 "nbformat_minor": 2
}

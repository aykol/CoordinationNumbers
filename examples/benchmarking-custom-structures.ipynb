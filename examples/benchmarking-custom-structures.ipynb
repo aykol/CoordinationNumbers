{
 "cells": [
  {
   "cell_type": "markdown",
   "metadata": {},
   "source": [
    "# Benchmarking using custom structures\n",
    "\n",
    "This notebook will demonstrate how to use custom structures in the MaterialsCoord benchmark.\n",
    "\n",
    "*Written using:*\n",
    "- MaterialsCoord==0.1.0\n",
    "\n",
    "*Authors: Alex Ganose (10/14/19)*\n",
    "\n",
    "---\n",
    "\n",
    "## The `\"coordination\"` site property\n",
    "\n",
    "MaterialsCoord uses pymatgen `Structure` objects to internally store the crystal structure data. The structures provided in the default structure groups contain an additional site property called `\"coordination\"`. This property contains information on the human interpreted coordination environment for each site.\n",
    "\n",
    "For example, if a site is bonded to two oxygen and three chlorine atoms, the coordination property should be a dictionary of ``{\"O\": 2, \"Cl\": 3}``. If multiple coordination numbers are deemed correct these should be provided as a list. For example, if the coordination to gallium could be 4 or 12 coordinate, the coordination property should a dictionary of ``{\"Ga\": [4, 12]}``.\n",
    "            \n",
    "To see this in action, let's first load the benchmark with the elemental structure group."
   ]
  },
  {
   "cell_type": "code",
   "execution_count": 1,
   "metadata": {},
   "outputs": [],
   "source": [
    "from materialscoord.core import Benchmark\n",
    "\n",
    "bm = Benchmark.from_structure_group(\"elemental\")"
   ]
  },
  {
   "cell_type": "markdown",
   "metadata": {},
   "source": [
    "If we examine the `\"Ga_12174\"` structure we see it only contains two atoms."
   ]
  },
  {
   "cell_type": "code",
   "execution_count": 2,
   "metadata": {},
   "outputs": [
    {
     "data": {
      "text/plain": [
       "Structure Summary\n",
       "Lattice\n",
       "    abc : 2.813 2.813 4.452\n",
       " angles : 90.0 90.0 90.0\n",
       " volume : 35.22853798800001\n",
       "      A : 2.813 0.0 1.7224657230007525e-16\n",
       "      B : -1.7224657230007525e-16 2.813 1.7224657230007525e-16\n",
       "      C : 0.0 0.0 4.452\n",
       "PeriodicSite: Ga (0.0000, 0.0000, 0.0000) [0.0000, 0.0000, 0.0000]\n",
       "PeriodicSite: Ga (1.4065, 1.4065, 2.2260) [0.5000, 0.5000, 0.5000]"
      ]
     },
     "execution_count": 2,
     "metadata": {},
     "output_type": "execute_result"
    }
   ],
   "source": [
    "bm.structures[\"Ga_12174\"]"
   ]
  },
  {
   "cell_type": "markdown",
   "metadata": {},
   "source": [
    "The coordination of these sites can be accessed through the `site_properties` attribute."
   ]
  },
  {
   "cell_type": "code",
   "execution_count": 3,
   "metadata": {},
   "outputs": [
    {
     "data": {
      "text/plain": [
       "{'coordination': [{'Ga': [4.0, 12.0]}, {'Ga': [4.0, 12.0]}]}"
      ]
     },
     "execution_count": 3,
     "metadata": {},
     "output_type": "execute_result"
    }
   ],
   "source": [
    "bm.structures[\"Ga_12174\"].site_properties"
   ]
  },
  {
   "cell_type": "markdown",
   "metadata": {},
   "source": [
    "Here we can see that each site has two acceptable coordination environments, namely the sites can be coordinated to either 4 or 12 Ga atoms.\n",
    "\n",
    "## Preparing custom structures\n",
    "\n",
    "Using custom structures with MaterialsCoord is easy. The only requirement is that you add the `\"coordination\"` site property to the structures with the desired \"correct\" bonding interpretation. Let's create a custom structure and prepare it for use with MaterialsCoord.\n",
    "\n",
    "We'll recreate the NaCl face-centered cubic structure from scratch. Alternatively, structures can be loaded from files (CIF, POSCAR, etc...) using the `Structure.from_file()` method."
   ]
  },
  {
   "cell_type": "code",
   "execution_count": 4,
   "metadata": {},
   "outputs": [
    {
     "data": {
      "text/plain": [
       "Structure Summary\n",
       "Lattice\n",
       "    abc : 5.7 5.7 5.7\n",
       " angles : 90.0 90.0 90.0\n",
       " volume : 185.193\n",
       "      A : 5.7 0.0 0.0\n",
       "      B : 0.0 5.7 0.0\n",
       "      C : 0.0 0.0 5.7\n",
       "PeriodicSite: Na+ (0.0000, 0.0000, 0.0000) [0.0000, 0.0000, 0.0000]\n",
       "PeriodicSite: Na+ (0.0000, 2.8500, 2.8500) [0.0000, 0.5000, 0.5000]\n",
       "PeriodicSite: Na+ (2.8500, 0.0000, 2.8500) [0.5000, 0.0000, 0.5000]\n",
       "PeriodicSite: Na+ (2.8500, 2.8500, 0.0000) [0.5000, 0.5000, 0.0000]\n",
       "PeriodicSite: Cl- (2.8500, 0.0000, 0.0000) [0.5000, 0.0000, 0.0000]\n",
       "PeriodicSite: Cl- (0.0000, 2.8500, 0.0000) [0.0000, 0.5000, 0.0000]\n",
       "PeriodicSite: Cl- (0.0000, 0.0000, 2.8500) [0.0000, 0.0000, 0.5000]\n",
       "PeriodicSite: Cl- (2.8500, 2.8500, 2.8500) [0.5000, 0.5000, 0.5000]"
      ]
     },
     "execution_count": 4,
     "metadata": {},
     "output_type": "execute_result"
    }
   ],
   "source": [
    "from pymatgen import Structure\n",
    "\n",
    "structure = Structure.from_spacegroup(\n",
    "    225,\n",
    "    [[5.7, 0, 0], [0, 5.7, 0], [0, 0, 5.7]], \n",
    "    [\"Na1+\", \"Cl1-\"], \n",
    "    [[0, 0, 0], [0.5, 0, 0]]\n",
    ")\n",
    "\n",
    "structure"
   ]
  },
  {
   "cell_type": "markdown",
   "metadata": {},
   "source": [
    "In the NaCl structure, each Na is bonded to 6 Cl, whereas each Cl is bonded to 6 Na.\n",
    "\n",
    "We can therefore define our coordination dictionaries as:"
   ]
  },
  {
   "cell_type": "code",
   "execution_count": 5,
   "metadata": {},
   "outputs": [],
   "source": [
    "na_coordination = {\"Cl\": 6}\n",
    "cl_coordination = {\"Na\": 6}"
   ]
  },
  {
   "cell_type": "markdown",
   "metadata": {},
   "source": [
    "In the structure we have generated, the first 4 atoms are Na and the last 4 atoms are Cl. We can therefore define the coordination for each site in the structure as:"
   ]
  },
  {
   "cell_type": "code",
   "execution_count": 6,
   "metadata": {},
   "outputs": [],
   "source": [
    "all_sites_coordination = [na_coordination] * 4 + [cl_coordination] * 4"
   ]
  },
  {
   "cell_type": "markdown",
   "metadata": {},
   "source": [
    "Note that that the length of `all_sites_coordination` must be the same as the number of atoms in the structure.\n",
    "\n",
    "Finally, we can add the property to the structure using `add_site_property()` function."
   ]
  },
  {
   "cell_type": "code",
   "execution_count": 7,
   "metadata": {},
   "outputs": [],
   "source": [
    "structure.add_site_property(\"coordination\", all_sites_coordination)"
   ]
  },
  {
   "cell_type": "markdown",
   "metadata": {},
   "source": [
    "We can check that the `\"coordination\"` property was added correctly by examining the `site_properties` attribute:"
   ]
  },
  {
   "cell_type": "code",
   "execution_count": 8,
   "metadata": {},
   "outputs": [
    {
     "data": {
      "text/plain": [
       "{'coordination': [{'Cl': 6},\n",
       "  {'Cl': 6},\n",
       "  {'Cl': 6},\n",
       "  {'Cl': 6},\n",
       "  {'Na': 6},\n",
       "  {'Na': 6},\n",
       "  {'Na': 6},\n",
       "  {'Na': 6}]}"
      ]
     },
     "execution_count": 8,
     "metadata": {},
     "output_type": "execute_result"
    }
   ],
   "source": [
    "structure.site_properties"
   ]
  },
  {
   "cell_type": "markdown",
   "metadata": {},
   "source": [
    "## Running the benchmark on custom structures\n",
    "\n",
    "To run the benchmark on custom structures, we can initialize the `Benchmark` object directly, **without** using the `from_structure_groups()` method.\n",
    "\n",
    "The `Benchmark` object takes a dictionary as input, where the dictionary is formatted as `{\"structure_name\": Structure}`. Remember, each structure must have the `\"coordination\"` site property to be used a benchmark structure.\n",
    "\n",
    "Let's initialize the benchmark using our custom structure:"
   ]
  },
  {
   "cell_type": "code",
   "execution_count": 9,
   "metadata": {},
   "outputs": [],
   "source": [
    "structures_dict = {\"NaCl_custom\": structure}\n",
    "\n",
    "bm = Benchmark(structures_dict)"
   ]
  },
  {
   "cell_type": "markdown",
   "metadata": {},
   "source": [
    "We can then use the benchmark object like normal. Let's try benchmarking some near neighbor algorithms:"
   ]
  },
  {
   "cell_type": "code",
   "execution_count": 10,
   "metadata": {},
   "outputs": [
    {
     "data": {
      "text/html": [
       "<div>\n",
       "<style scoped>\n",
       "    .dataframe tbody tr th:only-of-type {\n",
       "        vertical-align: middle;\n",
       "    }\n",
       "\n",
       "    .dataframe tbody tr th {\n",
       "        vertical-align: top;\n",
       "    }\n",
       "\n",
       "    .dataframe thead th {\n",
       "        text-align: right;\n",
       "    }\n",
       "</style>\n",
       "<table border=\"1\" class=\"dataframe\">\n",
       "  <thead>\n",
       "    <tr style=\"text-align: right;\">\n",
       "      <th></th>\n",
       "      <th>BrunnerNN_reciprocal</th>\n",
       "      <th>VoronoiNN</th>\n",
       "      <th>EconNN</th>\n",
       "    </tr>\n",
       "  </thead>\n",
       "  <tbody>\n",
       "    <tr>\n",
       "      <th>NaCl_custom</th>\n",
       "      <td>0.0</td>\n",
       "      <td>0.0</td>\n",
       "      <td>12.0</td>\n",
       "    </tr>\n",
       "    <tr>\n",
       "      <th>Total</th>\n",
       "      <td>0.0</td>\n",
       "      <td>0.0</td>\n",
       "      <td>12.0</td>\n",
       "    </tr>\n",
       "  </tbody>\n",
       "</table>\n",
       "</div>"
      ],
      "text/plain": [
       "             BrunnerNN_reciprocal  VoronoiNN  EconNN\n",
       "NaCl_custom                   0.0        0.0    12.0\n",
       "Total                         0.0        0.0    12.0"
      ]
     },
     "execution_count": 10,
     "metadata": {},
     "output_type": "execute_result"
    }
   ],
   "source": [
    "from pymatgen.analysis.local_env import BrunnerNN_reciprocal, VoronoiNN, EconNN\n",
    "\n",
    "nn_methods = [BrunnerNN_reciprocal(), VoronoiNN(tol=0.5), EconNN()]\n",
    "\n",
    "bm.score(nn_methods)"
   ]
  }
 ],
 "metadata": {
  "kernelspec": {
   "display_name": "Python 3",
   "language": "python",
   "name": "python3"
  },
  "language_info": {
   "codemirror_mode": {
    "name": "ipython",
    "version": 3
   },
   "file_extension": ".py",
   "mimetype": "text/x-python",
   "name": "python",
   "nbconvert_exporter": "python",
   "pygments_lexer": "ipython3",
   "version": "3.6.7"
  }
 },
 "nbformat": 4,
 "nbformat_minor": 2
}

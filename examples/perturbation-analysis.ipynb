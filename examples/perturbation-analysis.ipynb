{
 "cells": [
  {
   "cell_type": "markdown",
   "metadata": {},
   "source": [
    "# MaterialsCoord benchmarking – sensitivity to perturbation analysis\n",
    "\n",
    "This notebook demonstrates how to use MaterialsCoord to benchmark the sensitivity of bonding algorithms to structural perturbations. Perturbations are introduced according the Einstein crystal test rig, in which site is perturbed so that the distribution around the equilibrium position yields a normal distribution for each Cartesian component.\n",
    "\n",
    "The perturbation complies thus with the expectation for an Einstein crystal,\n",
    "in which the potential is given by $V(\\delta r) = 0.5 k_\\mathrm{spring} \\delta r^2$, where\n",
    "$k_\\mathrm{spring}$ denotes the spring constant with which the sites are tethered to\n",
    "their equilibrium position, and $\\delta r$ is the distance of the site under\n",
    "consideration from its equilibrium position.\n",
    "\n",
    "The MaterialsCoord `Benchmark` class accepts a `perturb_sigma` option, which is equal to $(k_\\mathrm{B}T/k_\\mathrm{spring})^{0.5}$.\n",
    "\n",
    "*Written using:*\n",
    "- MaterialsCoord==0.1.0\n",
    "\n",
    "*Authors: Hillary Pan, Alex Ganose (10/12/19)*"
   ]
  },
  {
   "cell_type": "markdown",
   "metadata": {},
   "source": [
    "First, lets initialize the near neighbor methods we are interested in."
   ]
  },
  {
   "cell_type": "code",
   "execution_count": 1,
   "metadata": {},
   "outputs": [],
   "source": [
    "from pymatgen.analysis.local_env import BrunnerNN_reciprocal, EconNN, JmolNN, \\\n",
    "                                        MinimumDistanceNN, MinimumOKeeffeNN, MinimumVIRENN, \\\n",
    "                                        VoronoiNN, CrystalNN\n",
    "\n",
    "nn_methods = [\n",
    "    BrunnerNN_reciprocal(), EconNN(), JmolNN(), CrystalNN(), VoronoiNN(tol=0.5),\n",
    "    MinimumDistanceNN(), MinimumOKeeffeNN(), MinimumVIRENN()\n",
    "]"
   ]
  },
  {
   "cell_type": "markdown",
   "metadata": {},
   "source": [
    "Next, import the benchmark and choose which structures we are interested in."
   ]
  },
  {
   "cell_type": "code",
   "execution_count": 2,
   "metadata": {},
   "outputs": [],
   "source": [
    "from materialscoord.core import Benchmark\n",
    "\n",
    "structure_groups = [\"common_binaries\", \"elemental\", \"A2BX4\", \"ABX3\", \"ABX4\"]"
   ]
  },
  {
   "cell_type": "markdown",
   "metadata": {},
   "source": [
    "Choose the initial and final perturbation sigma values to include, as well as the number of steps inbetween."
   ]
  },
  {
   "cell_type": "code",
   "execution_count": 3,
   "metadata": {},
   "outputs": [],
   "source": [
    "import numpy as np\n",
    "\n",
    "initial_sigma = 0\n",
    "final_sigma = 0.2\n",
    "nsteps = 100\n",
    "\n",
    "sigmas = np.linspace(initial_sigma, final_sigma, nsteps)"
   ]
  },
  {
   "cell_type": "markdown",
   "metadata": {},
   "source": [
    "Run the benchmark with the perturbation turned on. Note we have disabled symmetry so that each perturbed site is treated separately."
   ]
  },
  {
   "cell_type": "code",
   "execution_count": null,
   "metadata": {},
   "outputs": [
    {
     "name": "stderr",
     "output_type": "stream",
     "text": [
      "/Users/alexganose/dev/src/pymatgen/pymatgen/analysis/local_env.py:3532: UserWarning: CrystalNN: distance cutoffs set but no oxidation states specified on sites! For better results, set the site oxidation states in the structure.\n",
      "  warnings.warn(\"CrystalNN: distance cutoffs set but no oxidation \"\n",
      "/Users/alexganose/dev/src/pymatgen/pymatgen/analysis/local_env.py:3347: UserWarning: CrystalNN: cannot locate an appropriate radius, covalent or atomic radii will be used, this can lead to non-optimal results.\n",
      "  \"CrystalNN: cannot locate an appropriate radius, \"\n"
     ]
    }
   ],
   "source": [
    "results = []\n",
    "for sigma in sigmas:\n",
    "    bm = Benchmark.from_structure_group(structure_groups, perturb_sigma=sigma, symprec=None)\n",
    "    sigma_scores = bm.score(nn_methods, site_type=\"cation\")\n",
    "    results.append(sigma_scores.iloc[-1].values)"
   ]
  },
  {
   "cell_type": "markdown",
   "metadata": {},
   "source": [
    "Finally, plot the results."
   ]
  },
  {
   "cell_type": "code",
   "execution_count": null,
   "metadata": {},
   "outputs": [],
   "source": [
    "%matplotlib inline\n",
    "import matplotlib.pyplot as plt\n",
    "import os\n",
    "\n",
    "plt_results = np.array(results).T\n",
    "\n",
    "# define matplotlib style settings\n",
    "style = {\n",
    "    \"font.sans-serif\": [\"Helvetica\", \"Arial\"], \"axes.labelsize\": 16,\n",
    "    \"xtick.labelsize\": 16, \"ytick.labelsize\": 16, \"xtick.direction\": \"in\",\n",
    "    \"ytick.direction\": \"in\", \"xtick.major.size\": 8, \"xtick.minor.size\": 4,\n",
    "    \"ytick.major.size\": 8, \"ytick.minor.size\": 4, \"lines.linewidth\": 2.5,\n",
    "    \"lines.markersize\": 10, \"axes.linewidth\": 1.2, \"xtick.major.width\": 1.2,\n",
    "    \"xtick.minor.width\": 1.2, \"ytick.major.width\": 1.2, \"ytick.minor.width\": 1.2,  \n",
    "}\n",
    "\n",
    "plt.style.use(style)\n",
    "fig = plt.figure(figsize=(6, 6))\n",
    "ax = plt.gca()\n",
    "\n",
    "for method, y_vals in zip(nn_methods, plt_results):\n",
    "    name = method.__class__.__name__\n",
    "    ax.plot(sigmas, y_vals, label=name)\n",
    "\n",
    "ax.set(ylabel=\"Benchmark score\", xlabel=\"Sigma (Å)\")\n",
    "\n",
    "plt.legend()\n",
    "plt.savefig(os.path.join(\"plots\", \"perturbation-tolerance.pdf\"),\n",
    "            dpi=400, bbox_inches=\"tight\")\n",
    "plt.show()"
   ]
  },
  {
   "cell_type": "code",
   "execution_count": null,
   "metadata": {},
   "outputs": [],
   "source": []
  }
 ],
 "metadata": {
  "kernelspec": {
   "display_name": "Python 3",
   "language": "python",
   "name": "python3"
  },
  "language_info": {
   "codemirror_mode": {
    "name": "ipython",
    "version": 3
   },
   "file_extension": ".py",
   "mimetype": "text/x-python",
   "name": "python",
   "nbconvert_exporter": "python",
   "pygments_lexer": "ipython3",
   "version": "3.6.7"
  }
 },
 "nbformat": 4,
 "nbformat_minor": 2
}

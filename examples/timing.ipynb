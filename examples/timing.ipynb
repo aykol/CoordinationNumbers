{
 "cells": [
  {
   "cell_type": "markdown",
   "metadata": {},
   "source": [
    "# MaterialsCoord benchmarking – timing analysis\n",
    "\n",
    "Calculate the time taken to perform the MaterialsCoord benchmark and use the scores to plot a Pareto front.\n",
    "\n",
    "*Written using:*\n",
    "- MaterialsCoord==0.2.0\n",
    "\n",
    "*Authors: Alex Ganose (03/30/20)*\n",
    "\n",
    "---\n",
    "\n",
    "First, lets initialize the near neighbor methods we are interested in."
   ]
  },
  {
   "cell_type": "code",
   "execution_count": 1,
   "metadata": {},
   "outputs": [],
   "source": [
    "from pymatgen.analysis.local_env import BrunnerNN_reciprocal, EconNN, JmolNN, \\\n",
    "                                        MinimumDistanceNN, MinimumOKeeffeNN, MinimumVIRENN, \\\n",
    "                                        VoronoiNN, CrystalNN\n",
    "\n",
    "nn_methods = [\n",
    "    BrunnerNN_reciprocal(), EconNN(tol=0.5), JmolNN(), CrystalNN(), VoronoiNN(tol=0.5),\n",
    "    MinimumDistanceNN(), MinimumOKeeffeNN(), MinimumVIRENN()\n",
    "]"
   ]
  },
  {
   "cell_type": "markdown",
   "metadata": {},
   "source": [
    "Next, import the benchmark and choose which structures we are interested in."
   ]
  },
  {
   "cell_type": "code",
   "execution_count": 2,
   "metadata": {},
   "outputs": [],
   "source": [
    "from materialscoord.core import Benchmark\n",
    "\n",
    "structure_groups = [\"common_binaries\", \"elemental\", \"A2BX4\", \"ABX3\", \"ABX4\"]\n",
    "\n",
    "bm = Benchmark.from_structure_group(structure_groups)"
   ]
  },
  {
   "cell_type": "markdown",
   "metadata": {},
   "source": [
    "Calculate the timings for each algorithm by calculating the bonded structures for all structures in the benchmark."
   ]
  },
  {
   "cell_type": "code",
   "execution_count": 3,
   "metadata": {
    "scrolled": true
   },
   "outputs": [
    {
     "name": "stderr",
     "output_type": "stream",
     "text": [
      "/Users/alex/dev/src/pymatgen/pymatgen/analysis/local_env.py:3951: UserWarning: No oxidation states specified on sites! For better results, set the site oxidation states in the structure.\n",
      "  warnings.warn(\n",
      "/Users/alex/dev/src/pymatgen/pymatgen/analysis/local_env.py:3745: UserWarning: CrystalNN: cannot locate an appropriate radius, covalent or atomic radii will be used, this can lead to non-optimal results.\n",
      "  warnings.warn(\n"
     ]
    }
   ],
   "source": [
    "import time\n",
    "\n",
    "timings = []\n",
    "for nn_method in nn_methods:\n",
    "    t0 = time.perf_counter()\n",
    "    for structure in bm.structures.values():\n",
    "        nn_method.get_bonded_structure(structure)\n",
    "    timings.append(time.perf_counter() - t0)"
   ]
  },
  {
   "cell_type": "markdown",
   "metadata": {},
   "source": [
    "Calculate the benchmark scores for each algorithm."
   ]
  },
  {
   "cell_type": "code",
   "execution_count": 4,
   "metadata": {
    "scrolled": true
   },
   "outputs": [],
   "source": [
    "df = bm.score(nn_methods, site_type=\"all\")\n",
    "scores = df.loc[\"Total\"].values"
   ]
  },
  {
   "cell_type": "markdown",
   "metadata": {},
   "source": [
    "Define a function to calculate the Pareto front."
   ]
  },
  {
   "cell_type": "code",
   "execution_count": 5,
   "metadata": {},
   "outputs": [],
   "source": [
    "def pareto_frontier(x, y, maximize_x=False, maximize_y=False):    \n",
    "    sort = sorted([[x[i], y[i]] for i in range(len(x))], reverse=maximize_x)\n",
    "    \n",
    "    # Start the Pareto frontier with the first value in the sorted list\n",
    "    p_front = [sort[0]]\n",
    "    \n",
    "    # Loop through the sorted list\n",
    "    for pair in sort[1:]:\n",
    "        if maximize_y: \n",
    "            if pair[1] >= p_front[-1][1]: # Look for higher values of Y…\n",
    "                p_front.append(pair) # … and add them to the Pareto frontier\n",
    "        else:\n",
    "            if pair[1] <= p_front[-1][1]: # Look for lower values of Y…\n",
    "                p_front.append(pair) # … and add them to the Pareto frontier\n",
    "                \n",
    "    # Turn resulting pairs back into a list of Xs and Ys\n",
    "    p_front_x = [pair[0] for pair in p_front]\n",
    "    p_front_y = [pair[1] for pair in p_front]\n",
    "    return p_front_x, p_front_y"
   ]
  },
  {
   "cell_type": "markdown",
   "metadata": {},
   "source": [
    "Finally, plot the results."
   ]
  },
  {
   "cell_type": "code",
   "execution_count": 6,
   "metadata": {},
   "outputs": [
    {
     "data": {
      "image/png": "[encoded data removed]",
      "text/plain": [
       "<Figure size 432x432 with 1 Axes>"
      ]
     },
     "metadata": {
      "needs_background": "light"
     },
     "output_type": "display_data"
    }
   ],
   "source": [
    "%matplotlib inline\n",
    "import matplotlib.pyplot as plt\n",
    "import os\n",
    "\n",
    "p_front = pareto_frontier(scores, timings)\n",
    "\n",
    "# define matplotlib style settings\n",
    "style = {\n",
    "    \"font.sans-serif\": [\"Helvetica\", \"Arial\"], \"axes.labelsize\": 16,\n",
    "    \"xtick.labelsize\": 16, \"ytick.labelsize\": 16, \"xtick.direction\": \"in\",\n",
    "    \"ytick.direction\": \"in\", \"xtick.major.size\": 8, \"xtick.minor.size\": 4,\n",
    "    \"ytick.major.size\": 8, \"ytick.minor.size\": 4, \"lines.linewidth\": 2.5,\n",
    "    \"lines.markersize\": 10, \"axes.linewidth\": 1.2, \"xtick.major.width\": 1.2,\n",
    "    \"xtick.minor.width\": 1.2, \"ytick.major.width\": 1.2, \"ytick.minor.width\": 1.2,\n",
    "    \"pdf.fonttype\": 42\n",
    "}\n",
    "\n",
    "# use these shifts to fine tune the positions of the labels\n",
    "shifts = {\n",
    "    \"BrunnerNN_reciprocal\": {\"x\": 4, \"y\": 0}, \n",
    "    \"EconNN\": {\"x\": 3, \"y\": 1},\n",
    "    \"JmolNN\": {\"x\": -14, \"y\": 1.2},\n",
    "    \"CrystalNN\": {\"x\": 4, \"y\": 1},\n",
    "    \"VoronoiNN\": {\"x\": -8, \"y\": -70},\n",
    "    \"MinimumDistanceNN\": {\"x\": -10, \"y\": -2.1},\n",
    "    \"MinimumOKeeffeNN\": {\"x\": -20, \"y\": 4},\n",
    "    \"MinimumVIRENN\": {\"x\": 5, \"y\": -10},\n",
    "}\n",
    "\n",
    "highlight = \"#003366\"\n",
    "\n",
    "plt.style.use(style)\n",
    "fig = plt.figure(figsize=(6, 6))\n",
    "ax = plt.gca()\n",
    "nn_method_mapping = {\"BrunnerNN_reciprocal\": \"BrunnerNN\"}\n",
    "\n",
    "\n",
    "for nn_method, (x, y) in zip(nn_methods, zip(scores, timings)):\n",
    "    algo = nn_method.__class__.__name__\n",
    "    \n",
    "    xshift = shifts[algo][\"x\"]\n",
    "    yshift = shifts[algo][\"y\"]\n",
    "    \n",
    "    algo = nn_method_mapping.get(algo, algo)\n",
    "    \n",
    "    # color the points depending on whether \n",
    "    on_front = x in p_front[0] and y in p_front[1]\n",
    "    color = highlight if on_front else \"gray\" \n",
    "    \n",
    "    ax.scatter(x, y, c=color)\n",
    "    plt.text(x + xshift, y + yshift, algo, fontsize=14, color=color)\n",
    "\n",
    "# plot the Pareto front line\n",
    "ax.plot(p_front[0], p_front[1], zorder=-1, color=highlight)\n",
    "\n",
    "ax.set_ylim((3, 4e2))\n",
    "ax.set(xlabel=\"Benchmark score\", ylabel=\"Runtime (s)\")\n",
    "ax.semilogy()\n",
    "\n",
    "plt.savefig(os.path.join(\"plots\", \"timing.pdf\"),\n",
    "            bbox_inches=\"tight\")\n",
    "plt.show()"
   ]
  }
 ],
 "metadata": {
  "kernelspec": {
   "display_name": "Python 3",
   "language": "python",
   "name": "python3"
  },
  "language_info": {
   "codemirror_mode": {
    "name": "ipython",
    "version": 3
   },
   "file_extension": ".py",
   "mimetype": "text/x-python",
   "name": "python",
   "nbconvert_exporter": "python",
   "pygments_lexer": "ipython3",
   "version": "3.8.1"
  }
 },
 "nbformat": 4,
 "nbformat_minor": 4
}

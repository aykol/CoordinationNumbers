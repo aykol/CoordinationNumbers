{
 "cells": [
  {
   "cell_type": "markdown",
   "metadata": {},
   "source": [
    "\n",
    "## Example using CN methods in MaterialsCoord to analyze any structure"
   ]
  },
  {
   "cell_type": "code",
   "execution_count": 2,
   "metadata": {
    "collapsed": false
   },
   "outputs": [],
   "source": [
    "from materialscoord.cn_methods import TestECoN, TestVoronoiCoordFinder, \\\n",
    "                                    TestVoronoiCoordFinder_mod, TestBrunnerReciprocal\n",
    "from materialscoord.core import Benchmark\n",
    "\n",
    "methods = [TestECoN(), TestVoronoiCoordFinder(), \n",
    "           TestVoronoiCoordFinder_mod(), TestBrunnerReciprocal()]"
   ]
  },
  {
   "cell_type": "code",
   "execution_count": 3,
   "metadata": {
    "collapsed": false
   },
   "outputs": [
    {
     "name": "stdout",
     "output_type": "stream",
     "text": [
      "Initialization successful.\n"
     ]
    },
    {
     "data": {
      "text/html": [
       "<div>\n",
       "<table border=\"1\" class=\"dataframe\">\n",
       "  <thead>\n",
       "    <tr style=\"text-align: right;\">\n",
       "      <th></th>\n",
       "      <th>TestBrunnerReciprocal</th>\n",
       "      <th>TestECoN</th>\n",
       "      <th>TestVoronoiCoordFinder</th>\n",
       "      <th>TestVoronoiCoordFinder_mod</th>\n",
       "    </tr>\n",
       "  </thead>\n",
       "  <tbody>\n",
       "    <tr>\n",
       "      <th>NiAs_mp-590_primitive</th>\n",
       "      <td>[(Ni, 8.0), (Ni, 8.0), (As, 6.0), (As, 6.0)]</td>\n",
       "      <td>[(Ni, 7.95), (Ni, 7.953), (As, 6.134), (As, 6....</td>\n",
       "      <td>[(Ni, 7.03), (Ni, 6.91), (As, 7.03), (As, 6.91)]</td>\n",
       "      <td>[(Ni, 8.0), (Ni, 8.0), (As, 6.0), (As, 6.0)]</td>\n",
       "    </tr>\n",
       "  </tbody>\n",
       "</table>\n",
       "</div>"
      ],
      "text/plain": [
       "                                              TestBrunnerReciprocal  \\\n",
       "NiAs_mp-590_primitive  [(Ni, 8.0), (Ni, 8.0), (As, 6.0), (As, 6.0)]   \n",
       "\n",
       "                                                                TestECoN  \\\n",
       "NiAs_mp-590_primitive  [(Ni, 7.95), (Ni, 7.953), (As, 6.134), (As, 6....   \n",
       "\n",
       "                                                 TestVoronoiCoordFinder  \\\n",
       "NiAs_mp-590_primitive  [(Ni, 7.03), (Ni, 6.91), (As, 7.03), (As, 6.91)]   \n",
       "\n",
       "                                         TestVoronoiCoordFinder_mod  \n",
       "NiAs_mp-590_primitive  [(Ni, 8.0), (Ni, 8.0), (As, 6.0), (As, 6.0)]  "
      ]
     },
     "execution_count": 3,
     "metadata": {},
     "output_type": "execute_result"
    }
   ],
   "source": [
    "# The custom_set argument of Benchmark can take the path to a file or a folder containing one or more structure files.\n",
    "bm = Benchmark(methods, custom_set=\"./NiAs_mp-590_primitive.cif\")\n",
    "bm.benchmark()\n",
    "bm.report(totals=True)"
   ]
  }
 ],
 "metadata": {
  "kernelspec": {
   "display_name": "Python 2",
   "language": "python",
   "name": "python2"
  },
  "language_info": {
   "codemirror_mode": {
    "name": "ipython",
    "version": 2
   },
   "file_extension": ".py",
   "mimetype": "text/x-python",
   "name": "python",
   "nbconvert_exporter": "python",
   "pygments_lexer": "ipython2",
   "version": "2.7.10"
  }
 },
 "nbformat": 4,
 "nbformat_minor": 0
}

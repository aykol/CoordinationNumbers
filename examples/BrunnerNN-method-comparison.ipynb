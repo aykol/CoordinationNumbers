{
 "cells": [
  {
   "cell_type": "markdown",
   "metadata": {},
   "source": [
    "# MaterialsCoord benchmarking – BrunnerNN variants comparison\n",
    "\n",
    "In the rest of the notebooks we use Brunner’s method of largest reciprocal gap (`BrunnerNN_reciprocal`). Two other variations of Brunner’s method, `BrunnerNN_real` and `Brunner_relative`, are implemented in pymatgen.\n",
    "\n",
    "In this notebook we compare the performance of all the BrunnerNN methods.\n",
    "\n",
    "*Written using:*\n",
    "- MaterialsCoord==0.2.0\n",
    "\n",
    "*Authors: Alex Ganose (03/30/20)*\n",
    "\n",
    "---\n",
    "\n",
    "First, lets initialize the near neighbor methods we are interested in."
   ]
  },
  {
   "cell_type": "code",
   "execution_count": null,
   "metadata": {},
   "outputs": [],
   "source": [
    "from pymatgen.analysis.local_env import BrunnerNN_reciprocal, BrunnerNN_real, BrunnerNN_relative\n",
    "\n",
    "nn_methods = [BrunnerNN_reciprocal(), BrunnerNN_real(), BrunnerNN_relative()]"
   ]
  },
  {
   "cell_type": "markdown",
   "metadata": {},
   "source": [
    "Next, import the benchmark and choose which structures we are interested in."
   ]
  },
  {
   "cell_type": "code",
   "execution_count": 2,
   "metadata": {},
   "outputs": [],
   "source": [
    "from materialscoord.core import Benchmark\n",
    "\n",
    "structure_groups = [\"common_binaries\", \"elemental\", \"A2BX4\", \"ABX3\", \"ABX4\"]\n",
    "\n",
    "bm = Benchmark.from_structure_group(structure_groups, remove_oxidation_states=False)"
   ]
  },
  {
   "cell_type": "markdown",
   "metadata": {},
   "source": [
    "Calculate the scores for all algorithms."
   ]
  },
  {
   "cell_type": "code",
   "execution_count": 3,
   "metadata": {
    "scrolled": true
   },
   "outputs": [],
   "source": [
    "scores = bm.score(nn_methods)"
   ]
  },
  {
   "cell_type": "markdown",
   "metadata": {},
   "source": [
    "Plot the scores."
   ]
  },
  {
   "cell_type": "code",
   "execution_count": 4,
   "metadata": {},
   "outputs": [
    {
     "name": "stderr",
     "output_type": "stream",
     "text": [
      "<ipython-input-4-8db352d2ffb5>:15: UserWarning: Matplotlib is currently using agg, which is a non-GUI backend, so cannot show the figure.\n",
      "  plt.show()\n"
     ]
    }
   ],
   "source": [
    "from pathlib import Path\n",
    "\n",
    "from materialscoord import structure_mapping\n",
    "from materialscoord.plot import plot_benchmark_scores\n",
    "\n",
    "plt = plot_benchmark_scores(\n",
    "    scores, \n",
    "    structure_mapping=structure_mapping,\n",
    ")\n",
    "\n",
    "plt.savefig(Path(\"plots\", \"BrunnerNN-comparison.pdf\"), bbox_inches='tight')\n",
    "plt.show()"
   ]
  },
  {
   "cell_type": "code",
   "execution_count": 14,
   "metadata": {},
   "outputs": [],
   "source": [
    "import subprocess\n",
    "\n",
    "def gs_opt(filename):\n",
    "    filenameTmp = filename.split('.')[-2]+'_tmp.pdf'\n",
    "    gs = ['command', 'gs',\n",
    "          '-sDEVICE=pdfwrite',\n",
    "          '-dEmbedAllFonts=false',\n",
    "          '-dSubsetFonts=true',             # Create font subsets (default)\n",
    "          '-dPDFSETTINGS=/prepress',        # Image resolution\n",
    "          '-dDetectDuplicateImages=true',   # Embeds images used multiple times only once\n",
    "          '-dCompressFonts=true',           # Compress fonts in the output (default)\n",
    "          '-dNOPAUSE',                      # No pause after each image\n",
    "          '-dQUIET',                        # Suppress output\n",
    "          '-dBATCH',                        # Automatically exit\n",
    "          '-sOutputFile='+filenameTmp,      # Save to temporary output\n",
    "          filename]                         # Input file\n",
    "\n",
    "    subprocess.run(gs)                                      # Create temporary file\n",
    "    subprocess.run(['rm', filename], shell=True)            # Delete input file\n",
    "    subprocess.run(['mv', filenameTmp, filename], shell=True) # Rename temporary to input file"
   ]
  },
  {
   "cell_type": "code",
   "execution_count": 15,
   "metadata": {},
   "outputs": [],
   "source": [
    "gs_opt(\"plots/BrunnerNN-comparison.pdf\")"
   ]
  },
  {
   "cell_type": "code",
   "execution_count": null,
   "metadata": {},
   "outputs": [],
   "source": []
  }
 ],
 "metadata": {
  "kernelspec": {
   "display_name": "Python 3",
   "language": "python",
   "name": "python3"
  },
  "language_info": {
   "codemirror_mode": {
    "name": "ipython",
    "version": 3
   },
   "file_extension": ".py",
   "mimetype": "text/x-python",
   "name": "python",
   "nbconvert_exporter": "python",
   "pygments_lexer": "ipython3",
   "version": "3.8.1"
  }
 },
 "nbformat": 4,
 "nbformat_minor": 4
}

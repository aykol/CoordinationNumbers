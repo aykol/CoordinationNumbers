{
 "cells": [
  {
   "cell_type": "code",
   "execution_count": null,
   "metadata": {},
   "outputs": [
    {
     "name": "stderr",
     "output_type": "stream",
     "text": [
      "/Users/hillarypan/AJResearch/cn_routines/codes/pymatgen/pymatgen/__init__.py:87: UserWarning: \n",
      "Pymatgen will drop Py2k support from v2019.1.1. Pls consult the documentation\n",
      "at https://www.pymatgen.org for more details.\n",
      "  at https://www.pymatgen.org for more details.\"\"\")\n"
     ]
    },
    {
     "name": "stdout",
     "output_type": "stream",
     "text": [
      "Initialization successful.\n"
     ]
    }
   ],
   "source": [
    "import pandas as pd\n",
    "pd.set_option(\"display.max_columns\",999) # display all columns\n",
    "\n",
    "from pymatgen.analysis.local_env import BrunnerNN_reciprocal, BrunnerNN_relative, BrunnerNN_real, EconNN, JMolNN, \\\n",
    "                                        MinimumDistanceNN, MinimumOKeeffeNN, MinimumVIRENN, \\\n",
    "                                        VoronoiNN, VoronoiNN_modified, CrystalNN\n",
    "from materialscoord.core import Benchmark, HumanInterpreter, NbFuncs\n",
    "\n",
    "methods = [BrunnerNN_reciprocal(), BrunnerNN_relative(), BrunnerNN_real(), \n",
    "           EconNN(), JMolNN(), MinimumDistanceNN(), MinimumOKeeffeNN(),\n",
    "           VoronoiNN(), VoronoiNN_modified(), CrystalNN(), HumanInterpreter()]\n",
    "structure_groups = [\"A2BX4\", \"ABX3\", \"ABX4\", \"common_binaries\", \"mixed\", \"zeolites\"]\n",
    "\n",
    "bm = Benchmark(methods=methods, structure_groups=structure_groups, unique_sites=True,\n",
    "               use_weights=False, cation_anion=False, anion_cation=True)\n",
    "bm.benchmark()"
   ]
  },
  {
   "cell_type": "code",
   "execution_count": null,
   "metadata": {
    "scrolled": true
   },
   "outputs": [],
   "source": [
    "report = bm.report(totals=False, separate_columns=True)\n",
    "report"
   ]
  },
  {
   "cell_type": "code",
   "execution_count": null,
   "metadata": {
    "scrolled": true
   },
   "outputs": [],
   "source": [
    "nbf = NbFuncs(bm)\n",
    "df = nbf.final()\n",
    "df"
   ]
  },
  {
   "cell_type": "code",
   "execution_count": null,
   "metadata": {},
   "outputs": [],
   "source": [
    "import seaborn as sns\n",
    "import matplotlib.pyplot as plt\n",
    "\n",
    "fig, ax = plt.subplots(figsize=(20, 15))\n",
    "\n",
    "sns.set(font='Times New Roman')\n",
    "sns.set(font_scale=1)\n",
    "\n",
    "hm = sns.heatmap(df, annot=True, cmap=\"BuPu\", vmax=10)\n",
    "\n",
    "ax.set_xticklabels(df.columns.tolist(), rotation=60)\n",
    "ax.set_yticklabels(df.index.tolist())\n",
    "\n",
    "\n",
    "plt.show()"
   ]
  }
 ],
 "metadata": {
  "kernelspec": {
   "display_name": "Python 2",
   "language": "python",
   "name": "python2"
  },
  "language_info": {
   "codemirror_mode": {
    "name": "ipython",
    "version": 2
   },
   "file_extension": ".py",
   "mimetype": "text/x-python",
   "name": "python",
   "nbconvert_exporter": "python",
   "pygments_lexer": "ipython2",
   "version": "2.7.15"
  }
 },
 "nbformat": 4,
 "nbformat_minor": 2
}

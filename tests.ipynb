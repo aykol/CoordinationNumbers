{
 "cells": [
  {
   "cell_type": "code",
   "execution_count": 1,
   "metadata": {
    "collapsed": false
   },
   "outputs": [
    {
     "name": "stdout",
     "output_type": "stream",
     "text": [
      "Initialization successful.\n"
     ]
    }
   ],
   "source": [
    "from cn.cn_methods import TestVoronoiCoordFinder\n",
    "from cn.core import Benchmark\n",
    "tvcf_params = {\"cutoff\": 15.0}\n",
    "methods = [ TestVoronoiCoordFinder(params=tvcf_params)]\n",
    "x = Benchmark(methods,structure_groups=[\"elemental\",\"ionics\"])\n",
    "x.benchmark()\n",
    "p = x.report()"
   ]
  },
  {
   "cell_type": "code",
   "execution_count": 2,
   "metadata": {
    "collapsed": false
   },
   "outputs": [],
   "source": [
    "import pandas as pd\n",
    "pd.set_option('max_colwidth',100)"
   ]
  },
  {
   "cell_type": "code",
   "execution_count": 3,
   "metadata": {
    "collapsed": false
   },
   "outputs": [
    {
     "data": {
      "text/html": [
       "<div>\n",
       "<table border=\"1\" class=\"dataframe\">\n",
       "  <thead>\n",
       "    <tr style=\"text-align: right;\">\n",
       "      <th></th>\n",
       "      <th>TestVoronoiCoordFinder</th>\n",
       "    </tr>\n",
       "  </thead>\n",
       "  <tbody>\n",
       "    <tr>\n",
       "      <th>Al_mp-134_primitive</th>\n",
       "      <td>[(Al, {u'Al': 12.0})]</td>\n",
       "    </tr>\n",
       "    <tr>\n",
       "      <th>As_mp-11_primitive</th>\n",
       "      <td>[(As, {u'As': 5.575})]</td>\n",
       "    </tr>\n",
       "    <tr>\n",
       "      <th>C_mp-48_primitive</th>\n",
       "      <td>[(C, {u'C': 3.331}), (C, {u'C': 3.331})]</td>\n",
       "    </tr>\n",
       "    <tr>\n",
       "      <th>C_mp-66_primitive</th>\n",
       "      <td>[(C, {u'C': 4.538})]</td>\n",
       "    </tr>\n",
       "    <tr>\n",
       "      <th>Cu_mp-30_primitive</th>\n",
       "      <td>[(Cu, {u'Cu': 12.0})]</td>\n",
       "    </tr>\n",
       "    <tr>\n",
       "      <th>Ga_mp-140_primitive</th>\n",
       "      <td>[(Ga, {u'Ga': 8.359})]</td>\n",
       "    </tr>\n",
       "    <tr>\n",
       "      <th>Hg_mp-121_primitive</th>\n",
       "      <td>[(Hg, {u'Hg': 4.538})]</td>\n",
       "    </tr>\n",
       "    <tr>\n",
       "      <th>La_mp-26_primitive</th>\n",
       "      <td>[(La, {u'La': 11.691}), (La, {u'La': 11.691})]</td>\n",
       "    </tr>\n",
       "    <tr>\n",
       "      <th>Mg_mp-153_primitive</th>\n",
       "      <td>[(Mg, {u'Mg': 11.855})]</td>\n",
       "    </tr>\n",
       "    <tr>\n",
       "      <th>Mn_mp-35_primitive</th>\n",
       "      <td>[(Mn, {u'Mn': 15.41}), (Mn, {u'Mn': 10.78}), (Mn, {u'Mn': 8.644}), (Mn, {u'Mn': 7.41})]</td>\n",
       "    </tr>\n",
       "    <tr>\n",
       "      <th>Mn_mp-542909_primitive</th>\n",
       "      <td>[(Mn, {u'Mn': 9.565}), (Mn, {u'Mn': 10.618})]</td>\n",
       "    </tr>\n",
       "    <tr>\n",
       "      <th>P_mp-157_primitive-3</th>\n",
       "      <td>[(P, {u'P': 4.916})]</td>\n",
       "    </tr>\n",
       "    <tr>\n",
       "      <th>Pa_mp-62_primitive</th>\n",
       "      <td>[(Pa, {u'Pa': 10.575})]</td>\n",
       "    </tr>\n",
       "    <tr>\n",
       "      <th>Se_mp-14_primitive</th>\n",
       "      <td>[(Se, {u'Se': 4.351})]</td>\n",
       "    </tr>\n",
       "    <tr>\n",
       "      <th>Sm_mp-86_conventional_standard</th>\n",
       "      <td>[(Sm, {u'Sm': 11.689}), (Sm, {u'Sm': 11.689})]</td>\n",
       "    </tr>\n",
       "    <tr>\n",
       "      <th>Sn_mp-84_primitive</th>\n",
       "      <td>[(Sn, {u'Sn': 6.83})]</td>\n",
       "    </tr>\n",
       "    <tr>\n",
       "      <th>U_mp-44_primitive</th>\n",
       "      <td>[(U, {u'U': 7.055})]</td>\n",
       "    </tr>\n",
       "    <tr>\n",
       "      <th>W_mp-91_primitive</th>\n",
       "      <td>[(W, {u'W': 10.161})]</td>\n",
       "    </tr>\n",
       "    <tr>\n",
       "      <th>CsCl_mp-573697_primitive</th>\n",
       "      <td>[(Cs, {u'Cl': 6.0}), (Cl, {u'Cs': 6.0})]</td>\n",
       "    </tr>\n",
       "    <tr>\n",
       "      <th>Fe3O4_mp-19306_primitive</th>\n",
       "      <td>[(Fe, {u'O': 6.0}), (Fe, {u'Fe': 0.178, u'O': 4.182}), (O, {u'Fe': 3.225, u'O': 1.134})]</td>\n",
       "    </tr>\n",
       "  </tbody>\n",
       "</table>\n",
       "</div>"
      ],
      "text/plain": [
       "                                                                                                  TestVoronoiCoordFinder\n",
       "Al_mp-134_primitive                                                                                [(Al, {u'Al': 12.0})]\n",
       "As_mp-11_primitive                                                                                [(As, {u'As': 5.575})]\n",
       "C_mp-48_primitive                                                               [(C, {u'C': 3.331}), (C, {u'C': 3.331})]\n",
       "C_mp-66_primitive                                                                                   [(C, {u'C': 4.538})]\n",
       "Cu_mp-30_primitive                                                                                 [(Cu, {u'Cu': 12.0})]\n",
       "Ga_mp-140_primitive                                                                               [(Ga, {u'Ga': 8.359})]\n",
       "Hg_mp-121_primitive                                                                               [(Hg, {u'Hg': 4.538})]\n",
       "La_mp-26_primitive                                                        [(La, {u'La': 11.691}), (La, {u'La': 11.691})]\n",
       "Mg_mp-153_primitive                                                                              [(Mg, {u'Mg': 11.855})]\n",
       "Mn_mp-35_primitive               [(Mn, {u'Mn': 15.41}), (Mn, {u'Mn': 10.78}), (Mn, {u'Mn': 8.644}), (Mn, {u'Mn': 7.41})]\n",
       "Mn_mp-542909_primitive                                                     [(Mn, {u'Mn': 9.565}), (Mn, {u'Mn': 10.618})]\n",
       "P_mp-157_primitive-3                                                                                [(P, {u'P': 4.916})]\n",
       "Pa_mp-62_primitive                                                                               [(Pa, {u'Pa': 10.575})]\n",
       "Se_mp-14_primitive                                                                                [(Se, {u'Se': 4.351})]\n",
       "Sm_mp-86_conventional_standard                                            [(Sm, {u'Sm': 11.689}), (Sm, {u'Sm': 11.689})]\n",
       "Sn_mp-84_primitive                                                                                 [(Sn, {u'Sn': 6.83})]\n",
       "U_mp-44_primitive                                                                                   [(U, {u'U': 7.055})]\n",
       "W_mp-91_primitive                                                                                  [(W, {u'W': 10.161})]\n",
       "CsCl_mp-573697_primitive                                                        [(Cs, {u'Cl': 6.0}), (Cl, {u'Cs': 6.0})]\n",
       "Fe3O4_mp-19306_primitive        [(Fe, {u'O': 6.0}), (Fe, {u'Fe': 0.178, u'O': 4.182}), (O, {u'Fe': 3.225, u'O': 1.134})]"
      ]
     },
     "execution_count": 3,
     "metadata": {},
     "output_type": "execute_result"
    }
   ],
   "source": [
    "p"
   ]
  },
  {
   "cell_type": "code",
   "execution_count": null,
   "metadata": {
    "collapsed": true
   },
   "outputs": [],
   "source": []
  }
 ],
 "metadata": {
  "kernelspec": {
   "display_name": "Python 2",
   "language": "python",
   "name": "python2"
  },
  "language_info": {
   "codemirror_mode": {
    "name": "ipython",
    "version": 2
   },
   "file_extension": ".py",
   "mimetype": "text/x-python",
   "name": "python",
   "nbconvert_exporter": "python",
   "pygments_lexer": "ipython2",
   "version": "2.7.10"
  }
 },
 "nbformat": 4,
 "nbformat_minor": 0
}

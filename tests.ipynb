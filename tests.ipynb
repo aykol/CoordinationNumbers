{
 "cells": [
  {
   "cell_type": "code",
   "execution_count": 16,
   "metadata": {
    "collapsed": false
   },
   "outputs": [
    {
     "name": "stdout",
     "output_type": "stream",
     "text": [
      "Initialization successful.\n"
     ]
    }
   ],
   "source": [
    "from materialscoord.cn_methods import TestVoronoiCoordFinder, TestECoN\n",
    "from materialscoord.core import Benchmark\n",
    "import pandas as pd\n",
    "pd.set_option('max_colwidth',100)\n",
    "\n",
    "# Method specific parameters:\n",
    "tvcf_params = {\"cutoff\": 10.0}\n",
    "tecon_parmas = {\"radius\": 10.0}\n",
    "\n",
    "# List of methods we want to compare\n",
    "methods = [ TestVoronoiCoordFinder(params=tvcf_params), \n",
    "           TestECoN(params=tecon_parmas)]\n",
    "\n",
    "# Initialization of the Benchmark\n",
    "x = Benchmark(methods, structure_groups=[\"common_binaries\"])\n",
    "\n",
    "# Perform benchmark calculations with methods specified\n",
    "x.benchmark()\n"
   ]
  },
  {
   "cell_type": "code",
   "execution_count": 17,
   "metadata": {
    "collapsed": false
   },
   "outputs": [
    {
     "data": {
      "text/html": [
       "<div>\n",
       "<table border=\"1\" class=\"dataframe\">\n",
       "  <thead>\n",
       "    <tr style=\"text-align: right;\">\n",
       "      <th></th>\n",
       "      <th>TestECoN</th>\n",
       "      <th>TestVoronoiCoordFinder</th>\n",
       "    </tr>\n",
       "  </thead>\n",
       "  <tbody>\n",
       "    <tr>\n",
       "      <th>Al2O3_mp-1143_computed</th>\n",
       "      <td>[(Al, {u'Total': 5.792}), (O, {u'Total': 3.92})]</td>\n",
       "      <td>[(Al, {u'Total': 5.293}), (O, {u'Total': 5.293})]</td>\n",
       "    </tr>\n",
       "    <tr>\n",
       "      <th>CsCl_mp-573697_primitive</th>\n",
       "      <td>[(Cs, {u'Total': 6.038}), (Cl, {u'Total': 6.038})]</td>\n",
       "      <td>[(Cs, {u'Total': 6.0}), (Cl, {u'Total': 6.0})]</td>\n",
       "    </tr>\n",
       "    <tr>\n",
       "      <th>Fe3O4_mp-19306_primitive</th>\n",
       "      <td>[(Fe, {u'Total': 6.008}), (Fe, {u'Total': 4.0}), (O, {u'Total': 3.668})]</td>\n",
       "      <td>[(Fe, {u'Total': 6.0}), (Fe, {u'Total': 4.36}), (O, {u'Total': 4.359})]</td>\n",
       "    </tr>\n",
       "    <tr>\n",
       "      <th>MgAl2O4_mp-3536_computed</th>\n",
       "      <td>[(Mg, {u'Total': 4.0}), (Al, {u'Total': 6.001}), (O, {u'Total': 4.104})]</td>\n",
       "      <td>[(Mg, {u'Total': 4.564}), (Al, {u'Total': 6.0}), (O, {u'Total': 4.564})]</td>\n",
       "    </tr>\n",
       "    <tr>\n",
       "      <th>NaCl_mp-22862_computed</th>\n",
       "      <td>[(Na, {u'Total': 6.038}), (Cl, {u'Total': 6.038})]</td>\n",
       "      <td>[(Na, {u'Total': 6.0}), (Cl, {u'Total': 6.0})]</td>\n",
       "    </tr>\n",
       "    <tr>\n",
       "      <th>TiO2_mp-2657_computed</th>\n",
       "      <td>[(Ti, {u'Total': 5.978}), (O, {u'Total': 3.065})]</td>\n",
       "      <td>[(Ti, {u'Total': 5.941}), (O, {u'Total': 5.94})]</td>\n",
       "    </tr>\n",
       "    <tr>\n",
       "      <th>TiO2_mp-390_computed</th>\n",
       "      <td>[(Ti, {u'Total': 5.961}), (O, {u'Total': 3.237})]</td>\n",
       "      <td>[(Ti, {u'Total': 5.825}), (O, {u'Total': 5.824})]</td>\n",
       "    </tr>\n",
       "    <tr>\n",
       "      <th>ZnS_mp-10281_computed</th>\n",
       "      <td>[(Zn, {u'Total': 4.0}), (Zn, {u'Total': 4.0}), (S, {u'Total': 4.0}), (S, {u'Total': 4.0})]</td>\n",
       "      <td>[(Zn, {u'Total': 4.28}), (Zn, {u'Total': 4.533}), (S, {u'Total': 4.28}), (S, {u'Total': 4.534})]</td>\n",
       "    </tr>\n",
       "    <tr>\n",
       "      <th>ZnS_mp-10695_computed</th>\n",
       "      <td>[(Zn, {u'Total': 4.0}), (S, {u'Total': 4.0})]</td>\n",
       "      <td>[(Zn, {u'Total': 4.538}), (S, {u'Total': 4.538})]</td>\n",
       "    </tr>\n",
       "  </tbody>\n",
       "</table>\n",
       "</div>"
      ],
      "text/plain": [
       "                                                                                                            TestECoN  \\\n",
       "Al2O3_mp-1143_computed                                              [(Al, {u'Total': 5.792}), (O, {u'Total': 3.92})]   \n",
       "CsCl_mp-573697_primitive                                          [(Cs, {u'Total': 6.038}), (Cl, {u'Total': 6.038})]   \n",
       "Fe3O4_mp-19306_primitive                    [(Fe, {u'Total': 6.008}), (Fe, {u'Total': 4.0}), (O, {u'Total': 3.668})]   \n",
       "MgAl2O4_mp-3536_computed                    [(Mg, {u'Total': 4.0}), (Al, {u'Total': 6.001}), (O, {u'Total': 4.104})]   \n",
       "NaCl_mp-22862_computed                                            [(Na, {u'Total': 6.038}), (Cl, {u'Total': 6.038})]   \n",
       "TiO2_mp-2657_computed                                              [(Ti, {u'Total': 5.978}), (O, {u'Total': 3.065})]   \n",
       "TiO2_mp-390_computed                                               [(Ti, {u'Total': 5.961}), (O, {u'Total': 3.237})]   \n",
       "ZnS_mp-10281_computed     [(Zn, {u'Total': 4.0}), (Zn, {u'Total': 4.0}), (S, {u'Total': 4.0}), (S, {u'Total': 4.0})]   \n",
       "ZnS_mp-10695_computed                                                  [(Zn, {u'Total': 4.0}), (S, {u'Total': 4.0})]   \n",
       "\n",
       "                                                                                                    TestVoronoiCoordFinder  \n",
       "Al2O3_mp-1143_computed                                                   [(Al, {u'Total': 5.293}), (O, {u'Total': 5.293})]  \n",
       "CsCl_mp-573697_primitive                                                    [(Cs, {u'Total': 6.0}), (Cl, {u'Total': 6.0})]  \n",
       "Fe3O4_mp-19306_primitive                           [(Fe, {u'Total': 6.0}), (Fe, {u'Total': 4.36}), (O, {u'Total': 4.359})]  \n",
       "MgAl2O4_mp-3536_computed                          [(Mg, {u'Total': 4.564}), (Al, {u'Total': 6.0}), (O, {u'Total': 4.564})]  \n",
       "NaCl_mp-22862_computed                                                      [(Na, {u'Total': 6.0}), (Cl, {u'Total': 6.0})]  \n",
       "TiO2_mp-2657_computed                                                     [(Ti, {u'Total': 5.941}), (O, {u'Total': 5.94})]  \n",
       "TiO2_mp-390_computed                                                     [(Ti, {u'Total': 5.825}), (O, {u'Total': 5.824})]  \n",
       "ZnS_mp-10281_computed     [(Zn, {u'Total': 4.28}), (Zn, {u'Total': 4.533}), (S, {u'Total': 4.28}), (S, {u'Total': 4.534})]  \n",
       "ZnS_mp-10695_computed                                                    [(Zn, {u'Total': 4.538}), (S, {u'Total': 4.538})]  "
      ]
     },
     "execution_count": 17,
     "metadata": {},
     "output_type": "execute_result"
    }
   ],
   "source": [
    "# Only total CNs around unique sites\n",
    "p = x.report(totals=True)\n",
    "p"
   ]
  },
  {
   "cell_type": "code",
   "execution_count": 18,
   "metadata": {
    "collapsed": false
   },
   "outputs": [
    {
     "data": {
      "text/html": [
       "<div>\n",
       "<table border=\"1\" class=\"dataframe\">\n",
       "  <thead>\n",
       "    <tr style=\"text-align: right;\">\n",
       "      <th></th>\n",
       "      <th>TestECoN</th>\n",
       "      <th>TestVoronoiCoordFinder</th>\n",
       "    </tr>\n",
       "  </thead>\n",
       "  <tbody>\n",
       "    <tr>\n",
       "      <th>Al2O3_mp-1143_computed</th>\n",
       "      <td>[(Al, {u'Al': 0.002, u'O': 5.79}), (O, {u'Al': 3.888, u'O': 0.032})]</td>\n",
       "      <td>[(Al, {u'Al': 0.021, u'O': 5.272}), (O, {u'Al': 3.515, u'O': 1.778})]</td>\n",
       "    </tr>\n",
       "    <tr>\n",
       "      <th>CsCl_mp-573697_primitive</th>\n",
       "      <td>[(Cs, {u'Cs': 0.011, u'Cl': 6.027}), (Cl, {u'Cs': 6.027, u'Cl': 0.011})]</td>\n",
       "      <td>[(Cs, {u'Cl': 6.0}), (Cl, {u'Cs': 6.0})]</td>\n",
       "    </tr>\n",
       "    <tr>\n",
       "      <th>Fe3O4_mp-19306_primitive</th>\n",
       "      <td>[(Fe, {u'Fe': 0.002, u'O': 6.006}), (Fe, {u'Fe': 0.0, u'O': 4.0}), (O, {u'Fe': 3.667, u'O': 0.00...</td>\n",
       "      <td>[(Fe, {u'O': 6.0}), (Fe, {u'Fe': 0.178, u'O': 4.182}), (O, {u'Fe': 3.225, u'O': 1.134})]</td>\n",
       "    </tr>\n",
       "    <tr>\n",
       "      <th>MgAl2O4_mp-3536_computed</th>\n",
       "      <td>[(Mg, {u'Mg': 0.0, u'Al': 0.0, u'O': 4.0}), (Al, {u'Mg': 0.0, u'Al': 0.0, u'O': 6.001}), (O, {u'...</td>\n",
       "      <td>[(Mg, {u'Mg': 0.265, u'O': 4.299}), (Al, {u'O': 6.0}), (O, {u'Mg': 1.075, u'Al': 2.282, u'O': 1....</td>\n",
       "    </tr>\n",
       "    <tr>\n",
       "      <th>NaCl_mp-22862_computed</th>\n",
       "      <td>[(Na, {u'Na': 0.011, u'Cl': 6.027}), (Cl, {u'Na': 6.027, u'Cl': 0.011})]</td>\n",
       "      <td>[(Na, {u'Na': 0.0, u'Cl': 6.0}), (Cl, {u'Na': 6.0, u'Cl': 0.0})]</td>\n",
       "    </tr>\n",
       "    <tr>\n",
       "      <th>TiO2_mp-2657_computed</th>\n",
       "      <td>[(Ti, {u'O': 5.978, u'Ti': 0.0}), (O, {u'O': 0.031, u'Ti': 3.034})]</td>\n",
       "      <td>[(Ti, {u'O': 5.941}), (O, {u'O': 2.97, u'Ti': 2.97})]</td>\n",
       "    </tr>\n",
       "    <tr>\n",
       "      <th>TiO2_mp-390_computed</th>\n",
       "      <td>[(Ti, {u'O': 5.961, u'Ti': 0.0}), (O, {u'O': 0.123, u'Ti': 3.114})]</td>\n",
       "      <td>[(Ti, {u'O': 5.825}), (O, {u'O': 2.912, u'Ti': 2.912})]</td>\n",
       "    </tr>\n",
       "    <tr>\n",
       "      <th>ZnS_mp-10281_computed</th>\n",
       "      <td>[(Zn, {u'Zn': 0.0, u'S': 4.0}), (Zn, {u'Zn': 0.0, u'S': 4.0}), (S, {u'Zn': 4.0, u'S': 0.0}), (S,...</td>\n",
       "      <td>[(Zn, {u'Zn': 0.452, u'S': 3.828}), (Zn, {u'Zn': 0.404, u'S': 4.129}), (S, {u'S': 0.45, u'Zn': 3...</td>\n",
       "    </tr>\n",
       "    <tr>\n",
       "      <th>ZnS_mp-10695_computed</th>\n",
       "      <td>[(Zn, {u'Zn': 0.0, u'S': 4.0}), (S, {u'Zn': 4.0, u'S': 0.0})]</td>\n",
       "      <td>[(Zn, {u'Zn': 0.538, u'S': 4.0}), (S, {u'Zn': 4.0, u'S': 0.538})]</td>\n",
       "    </tr>\n",
       "  </tbody>\n",
       "</table>\n",
       "</div>"
      ],
      "text/plain": [
       "                                                                                                                     TestECoN  \\\n",
       "Al2O3_mp-1143_computed                                   [(Al, {u'Al': 0.002, u'O': 5.79}), (O, {u'Al': 3.888, u'O': 0.032})]   \n",
       "CsCl_mp-573697_primitive                             [(Cs, {u'Cs': 0.011, u'Cl': 6.027}), (Cl, {u'Cs': 6.027, u'Cl': 0.011})]   \n",
       "Fe3O4_mp-19306_primitive  [(Fe, {u'Fe': 0.002, u'O': 6.006}), (Fe, {u'Fe': 0.0, u'O': 4.0}), (O, {u'Fe': 3.667, u'O': 0.00...   \n",
       "MgAl2O4_mp-3536_computed  [(Mg, {u'Mg': 0.0, u'Al': 0.0, u'O': 4.0}), (Al, {u'Mg': 0.0, u'Al': 0.0, u'O': 6.001}), (O, {u'...   \n",
       "NaCl_mp-22862_computed                               [(Na, {u'Na': 0.011, u'Cl': 6.027}), (Cl, {u'Na': 6.027, u'Cl': 0.011})]   \n",
       "TiO2_mp-2657_computed                                     [(Ti, {u'O': 5.978, u'Ti': 0.0}), (O, {u'O': 0.031, u'Ti': 3.034})]   \n",
       "TiO2_mp-390_computed                                      [(Ti, {u'O': 5.961, u'Ti': 0.0}), (O, {u'O': 0.123, u'Ti': 3.114})]   \n",
       "ZnS_mp-10281_computed     [(Zn, {u'Zn': 0.0, u'S': 4.0}), (Zn, {u'Zn': 0.0, u'S': 4.0}), (S, {u'Zn': 4.0, u'S': 0.0}), (S,...   \n",
       "ZnS_mp-10695_computed                                           [(Zn, {u'Zn': 0.0, u'S': 4.0}), (S, {u'Zn': 4.0, u'S': 0.0})]   \n",
       "\n",
       "                                                                                                       TestVoronoiCoordFinder  \n",
       "Al2O3_mp-1143_computed                                  [(Al, {u'Al': 0.021, u'O': 5.272}), (O, {u'Al': 3.515, u'O': 1.778})]  \n",
       "CsCl_mp-573697_primitive                                                             [(Cs, {u'Cl': 6.0}), (Cl, {u'Cs': 6.0})]  \n",
       "Fe3O4_mp-19306_primitive             [(Fe, {u'O': 6.0}), (Fe, {u'Fe': 0.178, u'O': 4.182}), (O, {u'Fe': 3.225, u'O': 1.134})]  \n",
       "MgAl2O4_mp-3536_computed  [(Mg, {u'Mg': 0.265, u'O': 4.299}), (Al, {u'O': 6.0}), (O, {u'Mg': 1.075, u'Al': 2.282, u'O': 1....  \n",
       "NaCl_mp-22862_computed                                       [(Na, {u'Na': 0.0, u'Cl': 6.0}), (Cl, {u'Na': 6.0, u'Cl': 0.0})]  \n",
       "TiO2_mp-2657_computed                                                   [(Ti, {u'O': 5.941}), (O, {u'O': 2.97, u'Ti': 2.97})]  \n",
       "TiO2_mp-390_computed                                                  [(Ti, {u'O': 5.825}), (O, {u'O': 2.912, u'Ti': 2.912})]  \n",
       "ZnS_mp-10281_computed     [(Zn, {u'Zn': 0.452, u'S': 3.828}), (Zn, {u'Zn': 0.404, u'S': 4.129}), (S, {u'S': 0.45, u'Zn': 3...  \n",
       "ZnS_mp-10695_computed                                       [(Zn, {u'Zn': 0.538, u'S': 4.0}), (S, {u'Zn': 4.0, u'S': 0.538})]  "
      ]
     },
     "execution_count": 18,
     "metadata": {},
     "output_type": "execute_result"
    }
   ],
   "source": [
    "# Element-wise decomposed CNs around unique sites can be seen (default behavior)\n",
    "r = x.report(totals=False)\n",
    "r"
   ]
  },
  {
   "cell_type": "code",
   "execution_count": null,
   "metadata": {
    "collapsed": true
   },
   "outputs": [],
   "source": []
  }
 ],
 "metadata": {
  "kernelspec": {
   "display_name": "Python 2",
   "language": "python",
   "name": "python2"
  },
  "language_info": {
   "codemirror_mode": {
    "name": "ipython",
    "version": 2
   },
   "file_extension": ".py",
   "mimetype": "text/x-python",
   "name": "python",
   "nbconvert_exporter": "python",
   "pygments_lexer": "ipython2",
   "version": "2.7.10"
  }
 },
 "nbformat": 4,
 "nbformat_minor": 0
}
